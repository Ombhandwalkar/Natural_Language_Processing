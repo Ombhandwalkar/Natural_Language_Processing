{
  "nbformat": 4,
  "nbformat_minor": 0,
  "metadata": {
    "colab": {
      "provenance": [],
      "gpuType": "V28"
    },
    "kernelspec": {
      "name": "python3",
      "display_name": "Python 3"
    },
    "language_info": {
      "name": "python"
    },
    "accelerator": "TPU",
    "widgets": {
      "application/vnd.jupyter.widget-state+json": {
        "ae3bc7329ff54166be01b4b85d7e5dce": {
          "model_module": "@jupyter-widgets/controls",
          "model_name": "VBoxModel",
          "model_module_version": "1.5.0",
          "state": {
            "_dom_classes": [],
            "_model_module": "@jupyter-widgets/controls",
            "_model_module_version": "1.5.0",
            "_model_name": "VBoxModel",
            "_view_count": null,
            "_view_module": "@jupyter-widgets/controls",
            "_view_module_version": "1.5.0",
            "_view_name": "VBoxView",
            "box_style": "",
            "children": [],
            "layout": "IPY_MODEL_c848fa97e4b64370b8910be0d91ca87b"
          }
        },
        "56568bd087a94ff09d1a462862a09a23": {
          "model_module": "@jupyter-widgets/controls",
          "model_name": "HTMLModel",
          "model_module_version": "1.5.0",
          "state": {
            "_dom_classes": [],
            "_model_module": "@jupyter-widgets/controls",
            "_model_module_version": "1.5.0",
            "_model_name": "HTMLModel",
            "_view_count": null,
            "_view_module": "@jupyter-widgets/controls",
            "_view_module_version": "1.5.0",
            "_view_name": "HTMLView",
            "description": "",
            "description_tooltip": null,
            "layout": "IPY_MODEL_263d0669c07442a9b8ecae2a789734ea",
            "placeholder": "​",
            "style": "IPY_MODEL_3085a7f4882c46f597807ac99df04a50",
            "value": "<center> <img\nsrc=https://huggingface.co/front/assets/huggingface_logo-noborder.svg\nalt='Hugging Face'> <br> Copy a token from <a\nhref=\"https://huggingface.co/settings/tokens\" target=\"_blank\">your Hugging Face\ntokens page</a> and paste it below. <br> Immediately click login after copying\nyour token or it might be stored in plain text in this notebook file. </center>"
          }
        },
        "2a3af7fabc8f42869607e18afa97bc0b": {
          "model_module": "@jupyter-widgets/controls",
          "model_name": "PasswordModel",
          "model_module_version": "1.5.0",
          "state": {
            "_dom_classes": [],
            "_model_module": "@jupyter-widgets/controls",
            "_model_module_version": "1.5.0",
            "_model_name": "PasswordModel",
            "_view_count": null,
            "_view_module": "@jupyter-widgets/controls",
            "_view_module_version": "1.5.0",
            "_view_name": "PasswordView",
            "continuous_update": true,
            "description": "Token:",
            "description_tooltip": null,
            "disabled": false,
            "layout": "IPY_MODEL_69fc238df6fc4d8ea9f6ea34e2bda88f",
            "placeholder": "​",
            "style": "IPY_MODEL_e9c81154a89b4e55a45c9fa1c59e4ff8",
            "value": ""
          }
        },
        "0b25f5fd9bb64e4ea8e2639d6622eaf7": {
          "model_module": "@jupyter-widgets/controls",
          "model_name": "CheckboxModel",
          "model_module_version": "1.5.0",
          "state": {
            "_dom_classes": [],
            "_model_module": "@jupyter-widgets/controls",
            "_model_module_version": "1.5.0",
            "_model_name": "CheckboxModel",
            "_view_count": null,
            "_view_module": "@jupyter-widgets/controls",
            "_view_module_version": "1.5.0",
            "_view_name": "CheckboxView",
            "description": "Add token as git credential?",
            "description_tooltip": null,
            "disabled": false,
            "indent": true,
            "layout": "IPY_MODEL_276893206e8347729f12f7f0cc03b1f8",
            "style": "IPY_MODEL_8457af96fc074f5a85ef5cdcf954fbdb",
            "value": true
          }
        },
        "8799041c5a774593a244f1415c61222a": {
          "model_module": "@jupyter-widgets/controls",
          "model_name": "ButtonModel",
          "model_module_version": "1.5.0",
          "state": {
            "_dom_classes": [],
            "_model_module": "@jupyter-widgets/controls",
            "_model_module_version": "1.5.0",
            "_model_name": "ButtonModel",
            "_view_count": null,
            "_view_module": "@jupyter-widgets/controls",
            "_view_module_version": "1.5.0",
            "_view_name": "ButtonView",
            "button_style": "",
            "description": "Login",
            "disabled": false,
            "icon": "",
            "layout": "IPY_MODEL_0759c513c3f34a529fff197fd40bfd97",
            "style": "IPY_MODEL_a68b727516d14b1fb5f78b8e6bb8405c",
            "tooltip": ""
          }
        },
        "356393f84fc747348dfd21da7e63f805": {
          "model_module": "@jupyter-widgets/controls",
          "model_name": "HTMLModel",
          "model_module_version": "1.5.0",
          "state": {
            "_dom_classes": [],
            "_model_module": "@jupyter-widgets/controls",
            "_model_module_version": "1.5.0",
            "_model_name": "HTMLModel",
            "_view_count": null,
            "_view_module": "@jupyter-widgets/controls",
            "_view_module_version": "1.5.0",
            "_view_name": "HTMLView",
            "description": "",
            "description_tooltip": null,
            "layout": "IPY_MODEL_fb011dc777da4a4abacd1db1329e0952",
            "placeholder": "​",
            "style": "IPY_MODEL_e35e1a951f7d4530904f19d71e7b9995",
            "value": "\n<b>Pro Tip:</b> If you don't already have one, you can create a dedicated\n'notebooks' token with 'write' access, that you can then easily reuse for all\nnotebooks. </center>"
          }
        },
        "c848fa97e4b64370b8910be0d91ca87b": {
          "model_module": "@jupyter-widgets/base",
          "model_name": "LayoutModel",
          "model_module_version": "1.2.0",
          "state": {
            "_model_module": "@jupyter-widgets/base",
            "_model_module_version": "1.2.0",
            "_model_name": "LayoutModel",
            "_view_count": null,
            "_view_module": "@jupyter-widgets/base",
            "_view_module_version": "1.2.0",
            "_view_name": "LayoutView",
            "align_content": null,
            "align_items": "center",
            "align_self": null,
            "border": null,
            "bottom": null,
            "display": "flex",
            "flex": null,
            "flex_flow": "column",
            "grid_area": null,
            "grid_auto_columns": null,
            "grid_auto_flow": null,
            "grid_auto_rows": null,
            "grid_column": null,
            "grid_gap": null,
            "grid_row": null,
            "grid_template_areas": null,
            "grid_template_columns": null,
            "grid_template_rows": null,
            "height": null,
            "justify_content": null,
            "justify_items": null,
            "left": null,
            "margin": null,
            "max_height": null,
            "max_width": null,
            "min_height": null,
            "min_width": null,
            "object_fit": null,
            "object_position": null,
            "order": null,
            "overflow": null,
            "overflow_x": null,
            "overflow_y": null,
            "padding": null,
            "right": null,
            "top": null,
            "visibility": null,
            "width": "50%"
          }
        },
        "263d0669c07442a9b8ecae2a789734ea": {
          "model_module": "@jupyter-widgets/base",
          "model_name": "LayoutModel",
          "model_module_version": "1.2.0",
          "state": {
            "_model_module": "@jupyter-widgets/base",
            "_model_module_version": "1.2.0",
            "_model_name": "LayoutModel",
            "_view_count": null,
            "_view_module": "@jupyter-widgets/base",
            "_view_module_version": "1.2.0",
            "_view_name": "LayoutView",
            "align_content": null,
            "align_items": null,
            "align_self": null,
            "border": null,
            "bottom": null,
            "display": null,
            "flex": null,
            "flex_flow": null,
            "grid_area": null,
            "grid_auto_columns": null,
            "grid_auto_flow": null,
            "grid_auto_rows": null,
            "grid_column": null,
            "grid_gap": null,
            "grid_row": null,
            "grid_template_areas": null,
            "grid_template_columns": null,
            "grid_template_rows": null,
            "height": null,
            "justify_content": null,
            "justify_items": null,
            "left": null,
            "margin": null,
            "max_height": null,
            "max_width": null,
            "min_height": null,
            "min_width": null,
            "object_fit": null,
            "object_position": null,
            "order": null,
            "overflow": null,
            "overflow_x": null,
            "overflow_y": null,
            "padding": null,
            "right": null,
            "top": null,
            "visibility": null,
            "width": null
          }
        },
        "3085a7f4882c46f597807ac99df04a50": {
          "model_module": "@jupyter-widgets/controls",
          "model_name": "DescriptionStyleModel",
          "model_module_version": "1.5.0",
          "state": {
            "_model_module": "@jupyter-widgets/controls",
            "_model_module_version": "1.5.0",
            "_model_name": "DescriptionStyleModel",
            "_view_count": null,
            "_view_module": "@jupyter-widgets/base",
            "_view_module_version": "1.2.0",
            "_view_name": "StyleView",
            "description_width": ""
          }
        },
        "69fc238df6fc4d8ea9f6ea34e2bda88f": {
          "model_module": "@jupyter-widgets/base",
          "model_name": "LayoutModel",
          "model_module_version": "1.2.0",
          "state": {
            "_model_module": "@jupyter-widgets/base",
            "_model_module_version": "1.2.0",
            "_model_name": "LayoutModel",
            "_view_count": null,
            "_view_module": "@jupyter-widgets/base",
            "_view_module_version": "1.2.0",
            "_view_name": "LayoutView",
            "align_content": null,
            "align_items": null,
            "align_self": null,
            "border": null,
            "bottom": null,
            "display": null,
            "flex": null,
            "flex_flow": null,
            "grid_area": null,
            "grid_auto_columns": null,
            "grid_auto_flow": null,
            "grid_auto_rows": null,
            "grid_column": null,
            "grid_gap": null,
            "grid_row": null,
            "grid_template_areas": null,
            "grid_template_columns": null,
            "grid_template_rows": null,
            "height": null,
            "justify_content": null,
            "justify_items": null,
            "left": null,
            "margin": null,
            "max_height": null,
            "max_width": null,
            "min_height": null,
            "min_width": null,
            "object_fit": null,
            "object_position": null,
            "order": null,
            "overflow": null,
            "overflow_x": null,
            "overflow_y": null,
            "padding": null,
            "right": null,
            "top": null,
            "visibility": null,
            "width": null
          }
        },
        "e9c81154a89b4e55a45c9fa1c59e4ff8": {
          "model_module": "@jupyter-widgets/controls",
          "model_name": "DescriptionStyleModel",
          "model_module_version": "1.5.0",
          "state": {
            "_model_module": "@jupyter-widgets/controls",
            "_model_module_version": "1.5.0",
            "_model_name": "DescriptionStyleModel",
            "_view_count": null,
            "_view_module": "@jupyter-widgets/base",
            "_view_module_version": "1.2.0",
            "_view_name": "StyleView",
            "description_width": ""
          }
        },
        "276893206e8347729f12f7f0cc03b1f8": {
          "model_module": "@jupyter-widgets/base",
          "model_name": "LayoutModel",
          "model_module_version": "1.2.0",
          "state": {
            "_model_module": "@jupyter-widgets/base",
            "_model_module_version": "1.2.0",
            "_model_name": "LayoutModel",
            "_view_count": null,
            "_view_module": "@jupyter-widgets/base",
            "_view_module_version": "1.2.0",
            "_view_name": "LayoutView",
            "align_content": null,
            "align_items": null,
            "align_self": null,
            "border": null,
            "bottom": null,
            "display": null,
            "flex": null,
            "flex_flow": null,
            "grid_area": null,
            "grid_auto_columns": null,
            "grid_auto_flow": null,
            "grid_auto_rows": null,
            "grid_column": null,
            "grid_gap": null,
            "grid_row": null,
            "grid_template_areas": null,
            "grid_template_columns": null,
            "grid_template_rows": null,
            "height": null,
            "justify_content": null,
            "justify_items": null,
            "left": null,
            "margin": null,
            "max_height": null,
            "max_width": null,
            "min_height": null,
            "min_width": null,
            "object_fit": null,
            "object_position": null,
            "order": null,
            "overflow": null,
            "overflow_x": null,
            "overflow_y": null,
            "padding": null,
            "right": null,
            "top": null,
            "visibility": null,
            "width": null
          }
        },
        "8457af96fc074f5a85ef5cdcf954fbdb": {
          "model_module": "@jupyter-widgets/controls",
          "model_name": "DescriptionStyleModel",
          "model_module_version": "1.5.0",
          "state": {
            "_model_module": "@jupyter-widgets/controls",
            "_model_module_version": "1.5.0",
            "_model_name": "DescriptionStyleModel",
            "_view_count": null,
            "_view_module": "@jupyter-widgets/base",
            "_view_module_version": "1.2.0",
            "_view_name": "StyleView",
            "description_width": ""
          }
        },
        "0759c513c3f34a529fff197fd40bfd97": {
          "model_module": "@jupyter-widgets/base",
          "model_name": "LayoutModel",
          "model_module_version": "1.2.0",
          "state": {
            "_model_module": "@jupyter-widgets/base",
            "_model_module_version": "1.2.0",
            "_model_name": "LayoutModel",
            "_view_count": null,
            "_view_module": "@jupyter-widgets/base",
            "_view_module_version": "1.2.0",
            "_view_name": "LayoutView",
            "align_content": null,
            "align_items": null,
            "align_self": null,
            "border": null,
            "bottom": null,
            "display": null,
            "flex": null,
            "flex_flow": null,
            "grid_area": null,
            "grid_auto_columns": null,
            "grid_auto_flow": null,
            "grid_auto_rows": null,
            "grid_column": null,
            "grid_gap": null,
            "grid_row": null,
            "grid_template_areas": null,
            "grid_template_columns": null,
            "grid_template_rows": null,
            "height": null,
            "justify_content": null,
            "justify_items": null,
            "left": null,
            "margin": null,
            "max_height": null,
            "max_width": null,
            "min_height": null,
            "min_width": null,
            "object_fit": null,
            "object_position": null,
            "order": null,
            "overflow": null,
            "overflow_x": null,
            "overflow_y": null,
            "padding": null,
            "right": null,
            "top": null,
            "visibility": null,
            "width": null
          }
        },
        "a68b727516d14b1fb5f78b8e6bb8405c": {
          "model_module": "@jupyter-widgets/controls",
          "model_name": "ButtonStyleModel",
          "model_module_version": "1.5.0",
          "state": {
            "_model_module": "@jupyter-widgets/controls",
            "_model_module_version": "1.5.0",
            "_model_name": "ButtonStyleModel",
            "_view_count": null,
            "_view_module": "@jupyter-widgets/base",
            "_view_module_version": "1.2.0",
            "_view_name": "StyleView",
            "button_color": null,
            "font_weight": ""
          }
        },
        "fb011dc777da4a4abacd1db1329e0952": {
          "model_module": "@jupyter-widgets/base",
          "model_name": "LayoutModel",
          "model_module_version": "1.2.0",
          "state": {
            "_model_module": "@jupyter-widgets/base",
            "_model_module_version": "1.2.0",
            "_model_name": "LayoutModel",
            "_view_count": null,
            "_view_module": "@jupyter-widgets/base",
            "_view_module_version": "1.2.0",
            "_view_name": "LayoutView",
            "align_content": null,
            "align_items": null,
            "align_self": null,
            "border": null,
            "bottom": null,
            "display": null,
            "flex": null,
            "flex_flow": null,
            "grid_area": null,
            "grid_auto_columns": null,
            "grid_auto_flow": null,
            "grid_auto_rows": null,
            "grid_column": null,
            "grid_gap": null,
            "grid_row": null,
            "grid_template_areas": null,
            "grid_template_columns": null,
            "grid_template_rows": null,
            "height": null,
            "justify_content": null,
            "justify_items": null,
            "left": null,
            "margin": null,
            "max_height": null,
            "max_width": null,
            "min_height": null,
            "min_width": null,
            "object_fit": null,
            "object_position": null,
            "order": null,
            "overflow": null,
            "overflow_x": null,
            "overflow_y": null,
            "padding": null,
            "right": null,
            "top": null,
            "visibility": null,
            "width": null
          }
        },
        "e35e1a951f7d4530904f19d71e7b9995": {
          "model_module": "@jupyter-widgets/controls",
          "model_name": "DescriptionStyleModel",
          "model_module_version": "1.5.0",
          "state": {
            "_model_module": "@jupyter-widgets/controls",
            "_model_module_version": "1.5.0",
            "_model_name": "DescriptionStyleModel",
            "_view_count": null,
            "_view_module": "@jupyter-widgets/base",
            "_view_module_version": "1.2.0",
            "_view_name": "StyleView",
            "description_width": ""
          }
        },
        "2e21ed15a7b144988bb6df5b4b32cb9e": {
          "model_module": "@jupyter-widgets/controls",
          "model_name": "LabelModel",
          "model_module_version": "1.5.0",
          "state": {
            "_dom_classes": [],
            "_model_module": "@jupyter-widgets/controls",
            "_model_module_version": "1.5.0",
            "_model_name": "LabelModel",
            "_view_count": null,
            "_view_module": "@jupyter-widgets/controls",
            "_view_module_version": "1.5.0",
            "_view_name": "LabelView",
            "description": "",
            "description_tooltip": null,
            "layout": "IPY_MODEL_83d3903ee537442b82db27a7d9152cb0",
            "placeholder": "​",
            "style": "IPY_MODEL_d74d63038d8644ea88555013fde633c0",
            "value": "Connecting..."
          }
        },
        "83d3903ee537442b82db27a7d9152cb0": {
          "model_module": "@jupyter-widgets/base",
          "model_name": "LayoutModel",
          "model_module_version": "1.2.0",
          "state": {
            "_model_module": "@jupyter-widgets/base",
            "_model_module_version": "1.2.0",
            "_model_name": "LayoutModel",
            "_view_count": null,
            "_view_module": "@jupyter-widgets/base",
            "_view_module_version": "1.2.0",
            "_view_name": "LayoutView",
            "align_content": null,
            "align_items": null,
            "align_self": null,
            "border": null,
            "bottom": null,
            "display": null,
            "flex": null,
            "flex_flow": null,
            "grid_area": null,
            "grid_auto_columns": null,
            "grid_auto_flow": null,
            "grid_auto_rows": null,
            "grid_column": null,
            "grid_gap": null,
            "grid_row": null,
            "grid_template_areas": null,
            "grid_template_columns": null,
            "grid_template_rows": null,
            "height": null,
            "justify_content": null,
            "justify_items": null,
            "left": null,
            "margin": null,
            "max_height": null,
            "max_width": null,
            "min_height": null,
            "min_width": null,
            "object_fit": null,
            "object_position": null,
            "order": null,
            "overflow": null,
            "overflow_x": null,
            "overflow_y": null,
            "padding": null,
            "right": null,
            "top": null,
            "visibility": null,
            "width": null
          }
        },
        "d74d63038d8644ea88555013fde633c0": {
          "model_module": "@jupyter-widgets/controls",
          "model_name": "DescriptionStyleModel",
          "model_module_version": "1.5.0",
          "state": {
            "_model_module": "@jupyter-widgets/controls",
            "_model_module_version": "1.5.0",
            "_model_name": "DescriptionStyleModel",
            "_view_count": null,
            "_view_module": "@jupyter-widgets/base",
            "_view_module_version": "1.2.0",
            "_view_name": "StyleView",
            "description_width": ""
          }
        },
        "8b0ae7c49ebb446d8c29929730f2c4c4": {
          "model_module": "@jupyter-widgets/controls",
          "model_name": "HBoxModel",
          "model_module_version": "1.5.0",
          "state": {
            "_dom_classes": [],
            "_model_module": "@jupyter-widgets/controls",
            "_model_module_version": "1.5.0",
            "_model_name": "HBoxModel",
            "_view_count": null,
            "_view_module": "@jupyter-widgets/controls",
            "_view_module_version": "1.5.0",
            "_view_name": "HBoxView",
            "box_style": "",
            "children": [
              "IPY_MODEL_e155a3ddb63949168ad30de935629a57",
              "IPY_MODEL_0711b754c44340f59d508d0b5ca70e59",
              "IPY_MODEL_7a7ba5166fe34d62bf120f5c72ead030"
            ],
            "layout": "IPY_MODEL_13b77a9f0c2f412dabed2152fd9e8c24"
          }
        },
        "e155a3ddb63949168ad30de935629a57": {
          "model_module": "@jupyter-widgets/controls",
          "model_name": "HTMLModel",
          "model_module_version": "1.5.0",
          "state": {
            "_dom_classes": [],
            "_model_module": "@jupyter-widgets/controls",
            "_model_module_version": "1.5.0",
            "_model_name": "HTMLModel",
            "_view_count": null,
            "_view_module": "@jupyter-widgets/controls",
            "_view_module_version": "1.5.0",
            "_view_name": "HTMLView",
            "description": "",
            "description_tooltip": null,
            "layout": "IPY_MODEL_b99458a209fb4527a30a48cc9619f5f3",
            "placeholder": "​",
            "style": "IPY_MODEL_1a0f5a3d6fb14eb59ecf44a65bd19283",
            "value": "Map: 100%"
          }
        },
        "0711b754c44340f59d508d0b5ca70e59": {
          "model_module": "@jupyter-widgets/controls",
          "model_name": "FloatProgressModel",
          "model_module_version": "1.5.0",
          "state": {
            "_dom_classes": [],
            "_model_module": "@jupyter-widgets/controls",
            "_model_module_version": "1.5.0",
            "_model_name": "FloatProgressModel",
            "_view_count": null,
            "_view_module": "@jupyter-widgets/controls",
            "_view_module_version": "1.5.0",
            "_view_name": "ProgressView",
            "bar_style": "success",
            "description": "",
            "description_tooltip": null,
            "layout": "IPY_MODEL_4ff7cc5bffc14908973a01d13569a0c1",
            "max": 50,
            "min": 0,
            "orientation": "horizontal",
            "style": "IPY_MODEL_ccfb3ea6737b418dbd39e98a16307d1a",
            "value": 50
          }
        },
        "7a7ba5166fe34d62bf120f5c72ead030": {
          "model_module": "@jupyter-widgets/controls",
          "model_name": "HTMLModel",
          "model_module_version": "1.5.0",
          "state": {
            "_dom_classes": [],
            "_model_module": "@jupyter-widgets/controls",
            "_model_module_version": "1.5.0",
            "_model_name": "HTMLModel",
            "_view_count": null,
            "_view_module": "@jupyter-widgets/controls",
            "_view_module_version": "1.5.0",
            "_view_name": "HTMLView",
            "description": "",
            "description_tooltip": null,
            "layout": "IPY_MODEL_7235f18fcd8f421498795ed73f4b0599",
            "placeholder": "​",
            "style": "IPY_MODEL_09de452f95004ea18ac22f07cc8e54ab",
            "value": " 50/50 [00:00&lt;00:00, 4127.76 examples/s]"
          }
        },
        "13b77a9f0c2f412dabed2152fd9e8c24": {
          "model_module": "@jupyter-widgets/base",
          "model_name": "LayoutModel",
          "model_module_version": "1.2.0",
          "state": {
            "_model_module": "@jupyter-widgets/base",
            "_model_module_version": "1.2.0",
            "_model_name": "LayoutModel",
            "_view_count": null,
            "_view_module": "@jupyter-widgets/base",
            "_view_module_version": "1.2.0",
            "_view_name": "LayoutView",
            "align_content": null,
            "align_items": null,
            "align_self": null,
            "border": null,
            "bottom": null,
            "display": null,
            "flex": null,
            "flex_flow": null,
            "grid_area": null,
            "grid_auto_columns": null,
            "grid_auto_flow": null,
            "grid_auto_rows": null,
            "grid_column": null,
            "grid_gap": null,
            "grid_row": null,
            "grid_template_areas": null,
            "grid_template_columns": null,
            "grid_template_rows": null,
            "height": null,
            "justify_content": null,
            "justify_items": null,
            "left": null,
            "margin": null,
            "max_height": null,
            "max_width": null,
            "min_height": null,
            "min_width": null,
            "object_fit": null,
            "object_position": null,
            "order": null,
            "overflow": null,
            "overflow_x": null,
            "overflow_y": null,
            "padding": null,
            "right": null,
            "top": null,
            "visibility": null,
            "width": null
          }
        },
        "b99458a209fb4527a30a48cc9619f5f3": {
          "model_module": "@jupyter-widgets/base",
          "model_name": "LayoutModel",
          "model_module_version": "1.2.0",
          "state": {
            "_model_module": "@jupyter-widgets/base",
            "_model_module_version": "1.2.0",
            "_model_name": "LayoutModel",
            "_view_count": null,
            "_view_module": "@jupyter-widgets/base",
            "_view_module_version": "1.2.0",
            "_view_name": "LayoutView",
            "align_content": null,
            "align_items": null,
            "align_self": null,
            "border": null,
            "bottom": null,
            "display": null,
            "flex": null,
            "flex_flow": null,
            "grid_area": null,
            "grid_auto_columns": null,
            "grid_auto_flow": null,
            "grid_auto_rows": null,
            "grid_column": null,
            "grid_gap": null,
            "grid_row": null,
            "grid_template_areas": null,
            "grid_template_columns": null,
            "grid_template_rows": null,
            "height": null,
            "justify_content": null,
            "justify_items": null,
            "left": null,
            "margin": null,
            "max_height": null,
            "max_width": null,
            "min_height": null,
            "min_width": null,
            "object_fit": null,
            "object_position": null,
            "order": null,
            "overflow": null,
            "overflow_x": null,
            "overflow_y": null,
            "padding": null,
            "right": null,
            "top": null,
            "visibility": null,
            "width": null
          }
        },
        "1a0f5a3d6fb14eb59ecf44a65bd19283": {
          "model_module": "@jupyter-widgets/controls",
          "model_name": "DescriptionStyleModel",
          "model_module_version": "1.5.0",
          "state": {
            "_model_module": "@jupyter-widgets/controls",
            "_model_module_version": "1.5.0",
            "_model_name": "DescriptionStyleModel",
            "_view_count": null,
            "_view_module": "@jupyter-widgets/base",
            "_view_module_version": "1.2.0",
            "_view_name": "StyleView",
            "description_width": ""
          }
        },
        "4ff7cc5bffc14908973a01d13569a0c1": {
          "model_module": "@jupyter-widgets/base",
          "model_name": "LayoutModel",
          "model_module_version": "1.2.0",
          "state": {
            "_model_module": "@jupyter-widgets/base",
            "_model_module_version": "1.2.0",
            "_model_name": "LayoutModel",
            "_view_count": null,
            "_view_module": "@jupyter-widgets/base",
            "_view_module_version": "1.2.0",
            "_view_name": "LayoutView",
            "align_content": null,
            "align_items": null,
            "align_self": null,
            "border": null,
            "bottom": null,
            "display": null,
            "flex": null,
            "flex_flow": null,
            "grid_area": null,
            "grid_auto_columns": null,
            "grid_auto_flow": null,
            "grid_auto_rows": null,
            "grid_column": null,
            "grid_gap": null,
            "grid_row": null,
            "grid_template_areas": null,
            "grid_template_columns": null,
            "grid_template_rows": null,
            "height": null,
            "justify_content": null,
            "justify_items": null,
            "left": null,
            "margin": null,
            "max_height": null,
            "max_width": null,
            "min_height": null,
            "min_width": null,
            "object_fit": null,
            "object_position": null,
            "order": null,
            "overflow": null,
            "overflow_x": null,
            "overflow_y": null,
            "padding": null,
            "right": null,
            "top": null,
            "visibility": null,
            "width": null
          }
        },
        "ccfb3ea6737b418dbd39e98a16307d1a": {
          "model_module": "@jupyter-widgets/controls",
          "model_name": "ProgressStyleModel",
          "model_module_version": "1.5.0",
          "state": {
            "_model_module": "@jupyter-widgets/controls",
            "_model_module_version": "1.5.0",
            "_model_name": "ProgressStyleModel",
            "_view_count": null,
            "_view_module": "@jupyter-widgets/base",
            "_view_module_version": "1.2.0",
            "_view_name": "StyleView",
            "bar_color": null,
            "description_width": ""
          }
        },
        "7235f18fcd8f421498795ed73f4b0599": {
          "model_module": "@jupyter-widgets/base",
          "model_name": "LayoutModel",
          "model_module_version": "1.2.0",
          "state": {
            "_model_module": "@jupyter-widgets/base",
            "_model_module_version": "1.2.0",
            "_model_name": "LayoutModel",
            "_view_count": null,
            "_view_module": "@jupyter-widgets/base",
            "_view_module_version": "1.2.0",
            "_view_name": "LayoutView",
            "align_content": null,
            "align_items": null,
            "align_self": null,
            "border": null,
            "bottom": null,
            "display": null,
            "flex": null,
            "flex_flow": null,
            "grid_area": null,
            "grid_auto_columns": null,
            "grid_auto_flow": null,
            "grid_auto_rows": null,
            "grid_column": null,
            "grid_gap": null,
            "grid_row": null,
            "grid_template_areas": null,
            "grid_template_columns": null,
            "grid_template_rows": null,
            "height": null,
            "justify_content": null,
            "justify_items": null,
            "left": null,
            "margin": null,
            "max_height": null,
            "max_width": null,
            "min_height": null,
            "min_width": null,
            "object_fit": null,
            "object_position": null,
            "order": null,
            "overflow": null,
            "overflow_x": null,
            "overflow_y": null,
            "padding": null,
            "right": null,
            "top": null,
            "visibility": null,
            "width": null
          }
        },
        "09de452f95004ea18ac22f07cc8e54ab": {
          "model_module": "@jupyter-widgets/controls",
          "model_name": "DescriptionStyleModel",
          "model_module_version": "1.5.0",
          "state": {
            "_model_module": "@jupyter-widgets/controls",
            "_model_module_version": "1.5.0",
            "_model_name": "DescriptionStyleModel",
            "_view_count": null,
            "_view_module": "@jupyter-widgets/base",
            "_view_module_version": "1.2.0",
            "_view_name": "StyleView",
            "description_width": ""
          }
        },
        "8384d26bb20e4acabd692ef14a763fe1": {
          "model_module": "@jupyter-widgets/controls",
          "model_name": "HBoxModel",
          "model_module_version": "1.5.0",
          "state": {
            "_dom_classes": [],
            "_model_module": "@jupyter-widgets/controls",
            "_model_module_version": "1.5.0",
            "_model_name": "HBoxModel",
            "_view_count": null,
            "_view_module": "@jupyter-widgets/controls",
            "_view_module_version": "1.5.0",
            "_view_name": "HBoxView",
            "box_style": "",
            "children": [
              "IPY_MODEL_4bf6ee740f1943658ff8141d74071762",
              "IPY_MODEL_b22ac9c8ecb242388e99d0f66d0c5958",
              "IPY_MODEL_7f7da4fde2694a48a8c01ee23f909219"
            ],
            "layout": "IPY_MODEL_d358cde01ff349f1b2cc1f581c58fff2"
          }
        },
        "4bf6ee740f1943658ff8141d74071762": {
          "model_module": "@jupyter-widgets/controls",
          "model_name": "HTMLModel",
          "model_module_version": "1.5.0",
          "state": {
            "_dom_classes": [],
            "_model_module": "@jupyter-widgets/controls",
            "_model_module_version": "1.5.0",
            "_model_name": "HTMLModel",
            "_view_count": null,
            "_view_module": "@jupyter-widgets/controls",
            "_view_module_version": "1.5.0",
            "_view_name": "HTMLView",
            "description": "",
            "description_tooltip": null,
            "layout": "IPY_MODEL_2b55cd1b51a740a7a992110311540437",
            "placeholder": "​",
            "style": "IPY_MODEL_e2bffdda6dfd45638e1feff482277eeb",
            "value": "Map: 100%"
          }
        },
        "b22ac9c8ecb242388e99d0f66d0c5958": {
          "model_module": "@jupyter-widgets/controls",
          "model_name": "FloatProgressModel",
          "model_module_version": "1.5.0",
          "state": {
            "_dom_classes": [],
            "_model_module": "@jupyter-widgets/controls",
            "_model_module_version": "1.5.0",
            "_model_name": "FloatProgressModel",
            "_view_count": null,
            "_view_module": "@jupyter-widgets/controls",
            "_view_module_version": "1.5.0",
            "_view_name": "ProgressView",
            "bar_style": "success",
            "description": "",
            "description_tooltip": null,
            "layout": "IPY_MODEL_b928b341bc134703989a2dfb52eae130",
            "max": 3399,
            "min": 0,
            "orientation": "horizontal",
            "style": "IPY_MODEL_39f2021d775f435bb34080527ad9fca4",
            "value": 3399
          }
        },
        "7f7da4fde2694a48a8c01ee23f909219": {
          "model_module": "@jupyter-widgets/controls",
          "model_name": "HTMLModel",
          "model_module_version": "1.5.0",
          "state": {
            "_dom_classes": [],
            "_model_module": "@jupyter-widgets/controls",
            "_model_module_version": "1.5.0",
            "_model_name": "HTMLModel",
            "_view_count": null,
            "_view_module": "@jupyter-widgets/controls",
            "_view_module_version": "1.5.0",
            "_view_name": "HTMLView",
            "description": "",
            "description_tooltip": null,
            "layout": "IPY_MODEL_0554c557f08041969fc1bf108ae8b578",
            "placeholder": "​",
            "style": "IPY_MODEL_55f1e651c8af40af8ddfcb68c9babb3b",
            "value": " 3399/3399 [00:00&lt;00:00, 227575.05 examples/s]"
          }
        },
        "d358cde01ff349f1b2cc1f581c58fff2": {
          "model_module": "@jupyter-widgets/base",
          "model_name": "LayoutModel",
          "model_module_version": "1.2.0",
          "state": {
            "_model_module": "@jupyter-widgets/base",
            "_model_module_version": "1.2.0",
            "_model_name": "LayoutModel",
            "_view_count": null,
            "_view_module": "@jupyter-widgets/base",
            "_view_module_version": "1.2.0",
            "_view_name": "LayoutView",
            "align_content": null,
            "align_items": null,
            "align_self": null,
            "border": null,
            "bottom": null,
            "display": null,
            "flex": null,
            "flex_flow": null,
            "grid_area": null,
            "grid_auto_columns": null,
            "grid_auto_flow": null,
            "grid_auto_rows": null,
            "grid_column": null,
            "grid_gap": null,
            "grid_row": null,
            "grid_template_areas": null,
            "grid_template_columns": null,
            "grid_template_rows": null,
            "height": null,
            "justify_content": null,
            "justify_items": null,
            "left": null,
            "margin": null,
            "max_height": null,
            "max_width": null,
            "min_height": null,
            "min_width": null,
            "object_fit": null,
            "object_position": null,
            "order": null,
            "overflow": null,
            "overflow_x": null,
            "overflow_y": null,
            "padding": null,
            "right": null,
            "top": null,
            "visibility": null,
            "width": null
          }
        },
        "2b55cd1b51a740a7a992110311540437": {
          "model_module": "@jupyter-widgets/base",
          "model_name": "LayoutModel",
          "model_module_version": "1.2.0",
          "state": {
            "_model_module": "@jupyter-widgets/base",
            "_model_module_version": "1.2.0",
            "_model_name": "LayoutModel",
            "_view_count": null,
            "_view_module": "@jupyter-widgets/base",
            "_view_module_version": "1.2.0",
            "_view_name": "LayoutView",
            "align_content": null,
            "align_items": null,
            "align_self": null,
            "border": null,
            "bottom": null,
            "display": null,
            "flex": null,
            "flex_flow": null,
            "grid_area": null,
            "grid_auto_columns": null,
            "grid_auto_flow": null,
            "grid_auto_rows": null,
            "grid_column": null,
            "grid_gap": null,
            "grid_row": null,
            "grid_template_areas": null,
            "grid_template_columns": null,
            "grid_template_rows": null,
            "height": null,
            "justify_content": null,
            "justify_items": null,
            "left": null,
            "margin": null,
            "max_height": null,
            "max_width": null,
            "min_height": null,
            "min_width": null,
            "object_fit": null,
            "object_position": null,
            "order": null,
            "overflow": null,
            "overflow_x": null,
            "overflow_y": null,
            "padding": null,
            "right": null,
            "top": null,
            "visibility": null,
            "width": null
          }
        },
        "e2bffdda6dfd45638e1feff482277eeb": {
          "model_module": "@jupyter-widgets/controls",
          "model_name": "DescriptionStyleModel",
          "model_module_version": "1.5.0",
          "state": {
            "_model_module": "@jupyter-widgets/controls",
            "_model_module_version": "1.5.0",
            "_model_name": "DescriptionStyleModel",
            "_view_count": null,
            "_view_module": "@jupyter-widgets/base",
            "_view_module_version": "1.2.0",
            "_view_name": "StyleView",
            "description_width": ""
          }
        },
        "b928b341bc134703989a2dfb52eae130": {
          "model_module": "@jupyter-widgets/base",
          "model_name": "LayoutModel",
          "model_module_version": "1.2.0",
          "state": {
            "_model_module": "@jupyter-widgets/base",
            "_model_module_version": "1.2.0",
            "_model_name": "LayoutModel",
            "_view_count": null,
            "_view_module": "@jupyter-widgets/base",
            "_view_module_version": "1.2.0",
            "_view_name": "LayoutView",
            "align_content": null,
            "align_items": null,
            "align_self": null,
            "border": null,
            "bottom": null,
            "display": null,
            "flex": null,
            "flex_flow": null,
            "grid_area": null,
            "grid_auto_columns": null,
            "grid_auto_flow": null,
            "grid_auto_rows": null,
            "grid_column": null,
            "grid_gap": null,
            "grid_row": null,
            "grid_template_areas": null,
            "grid_template_columns": null,
            "grid_template_rows": null,
            "height": null,
            "justify_content": null,
            "justify_items": null,
            "left": null,
            "margin": null,
            "max_height": null,
            "max_width": null,
            "min_height": null,
            "min_width": null,
            "object_fit": null,
            "object_position": null,
            "order": null,
            "overflow": null,
            "overflow_x": null,
            "overflow_y": null,
            "padding": null,
            "right": null,
            "top": null,
            "visibility": null,
            "width": null
          }
        },
        "39f2021d775f435bb34080527ad9fca4": {
          "model_module": "@jupyter-widgets/controls",
          "model_name": "ProgressStyleModel",
          "model_module_version": "1.5.0",
          "state": {
            "_model_module": "@jupyter-widgets/controls",
            "_model_module_version": "1.5.0",
            "_model_name": "ProgressStyleModel",
            "_view_count": null,
            "_view_module": "@jupyter-widgets/base",
            "_view_module_version": "1.2.0",
            "_view_name": "StyleView",
            "bar_color": null,
            "description_width": ""
          }
        },
        "0554c557f08041969fc1bf108ae8b578": {
          "model_module": "@jupyter-widgets/base",
          "model_name": "LayoutModel",
          "model_module_version": "1.2.0",
          "state": {
            "_model_module": "@jupyter-widgets/base",
            "_model_module_version": "1.2.0",
            "_model_name": "LayoutModel",
            "_view_count": null,
            "_view_module": "@jupyter-widgets/base",
            "_view_module_version": "1.2.0",
            "_view_name": "LayoutView",
            "align_content": null,
            "align_items": null,
            "align_self": null,
            "border": null,
            "bottom": null,
            "display": null,
            "flex": null,
            "flex_flow": null,
            "grid_area": null,
            "grid_auto_columns": null,
            "grid_auto_flow": null,
            "grid_auto_rows": null,
            "grid_column": null,
            "grid_gap": null,
            "grid_row": null,
            "grid_template_areas": null,
            "grid_template_columns": null,
            "grid_template_rows": null,
            "height": null,
            "justify_content": null,
            "justify_items": null,
            "left": null,
            "margin": null,
            "max_height": null,
            "max_width": null,
            "min_height": null,
            "min_width": null,
            "object_fit": null,
            "object_position": null,
            "order": null,
            "overflow": null,
            "overflow_x": null,
            "overflow_y": null,
            "padding": null,
            "right": null,
            "top": null,
            "visibility": null,
            "width": null
          }
        },
        "55f1e651c8af40af8ddfcb68c9babb3b": {
          "model_module": "@jupyter-widgets/controls",
          "model_name": "DescriptionStyleModel",
          "model_module_version": "1.5.0",
          "state": {
            "_model_module": "@jupyter-widgets/controls",
            "_model_module_version": "1.5.0",
            "_model_name": "DescriptionStyleModel",
            "_view_count": null,
            "_view_module": "@jupyter-widgets/base",
            "_view_module_version": "1.2.0",
            "_view_name": "StyleView",
            "description_width": ""
          }
        },
        "565df981ef8b43d1bfd3bffb44c1ae00": {
          "model_module": "@jupyter-widgets/controls",
          "model_name": "HBoxModel",
          "model_module_version": "1.5.0",
          "state": {
            "_dom_classes": [],
            "_model_module": "@jupyter-widgets/controls",
            "_model_module_version": "1.5.0",
            "_model_name": "HBoxModel",
            "_view_count": null,
            "_view_module": "@jupyter-widgets/controls",
            "_view_module_version": "1.5.0",
            "_view_name": "HBoxView",
            "box_style": "",
            "children": [
              "IPY_MODEL_d6acc322b6de4568969b6012730924c3",
              "IPY_MODEL_a21e8d5a9d74479c8669d108f82530e5",
              "IPY_MODEL_4fa01e83a9ad485099b4be52db7735f5"
            ],
            "layout": "IPY_MODEL_2dcc5186971c4a25a058c7755e19b3f0"
          }
        },
        "d6acc322b6de4568969b6012730924c3": {
          "model_module": "@jupyter-widgets/controls",
          "model_name": "HTMLModel",
          "model_module_version": "1.5.0",
          "state": {
            "_dom_classes": [],
            "_model_module": "@jupyter-widgets/controls",
            "_model_module_version": "1.5.0",
            "_model_name": "HTMLModel",
            "_view_count": null,
            "_view_module": "@jupyter-widgets/controls",
            "_view_module_version": "1.5.0",
            "_view_name": "HTMLView",
            "description": "",
            "description_tooltip": null,
            "layout": "IPY_MODEL_e7687ca60c2c4f16a03921a32913acc7",
            "placeholder": "​",
            "style": "IPY_MODEL_f6cb5b2c0bc9473baad0e9bddda3c4ba",
            "value": "Running tokenizer on dataset: 100%"
          }
        },
        "a21e8d5a9d74479c8669d108f82530e5": {
          "model_module": "@jupyter-widgets/controls",
          "model_name": "FloatProgressModel",
          "model_module_version": "1.5.0",
          "state": {
            "_dom_classes": [],
            "_model_module": "@jupyter-widgets/controls",
            "_model_module_version": "1.5.0",
            "_model_name": "FloatProgressModel",
            "_view_count": null,
            "_view_module": "@jupyter-widgets/controls",
            "_view_module_version": "1.5.0",
            "_view_name": "ProgressView",
            "bar_style": "success",
            "description": "",
            "description_tooltip": null,
            "layout": "IPY_MODEL_a03d5899554344938bc304335becd34d",
            "max": 50,
            "min": 0,
            "orientation": "horizontal",
            "style": "IPY_MODEL_130e0bfc6dfb47e6bfd7a49deafe507d",
            "value": 50
          }
        },
        "4fa01e83a9ad485099b4be52db7735f5": {
          "model_module": "@jupyter-widgets/controls",
          "model_name": "HTMLModel",
          "model_module_version": "1.5.0",
          "state": {
            "_dom_classes": [],
            "_model_module": "@jupyter-widgets/controls",
            "_model_module_version": "1.5.0",
            "_model_name": "HTMLModel",
            "_view_count": null,
            "_view_module": "@jupyter-widgets/controls",
            "_view_module_version": "1.5.0",
            "_view_name": "HTMLView",
            "description": "",
            "description_tooltip": null,
            "layout": "IPY_MODEL_b56642f5fb5f4a5cb2f419810b87a9d4",
            "placeholder": "​",
            "style": "IPY_MODEL_5fd2f5476956453da6c3c405e56c5b22",
            "value": " 50/50 [00:00&lt;00:00, 2143.67 examples/s]"
          }
        },
        "2dcc5186971c4a25a058c7755e19b3f0": {
          "model_module": "@jupyter-widgets/base",
          "model_name": "LayoutModel",
          "model_module_version": "1.2.0",
          "state": {
            "_model_module": "@jupyter-widgets/base",
            "_model_module_version": "1.2.0",
            "_model_name": "LayoutModel",
            "_view_count": null,
            "_view_module": "@jupyter-widgets/base",
            "_view_module_version": "1.2.0",
            "_view_name": "LayoutView",
            "align_content": null,
            "align_items": null,
            "align_self": null,
            "border": null,
            "bottom": null,
            "display": null,
            "flex": null,
            "flex_flow": null,
            "grid_area": null,
            "grid_auto_columns": null,
            "grid_auto_flow": null,
            "grid_auto_rows": null,
            "grid_column": null,
            "grid_gap": null,
            "grid_row": null,
            "grid_template_areas": null,
            "grid_template_columns": null,
            "grid_template_rows": null,
            "height": null,
            "justify_content": null,
            "justify_items": null,
            "left": null,
            "margin": null,
            "max_height": null,
            "max_width": null,
            "min_height": null,
            "min_width": null,
            "object_fit": null,
            "object_position": null,
            "order": null,
            "overflow": null,
            "overflow_x": null,
            "overflow_y": null,
            "padding": null,
            "right": null,
            "top": null,
            "visibility": null,
            "width": null
          }
        },
        "e7687ca60c2c4f16a03921a32913acc7": {
          "model_module": "@jupyter-widgets/base",
          "model_name": "LayoutModel",
          "model_module_version": "1.2.0",
          "state": {
            "_model_module": "@jupyter-widgets/base",
            "_model_module_version": "1.2.0",
            "_model_name": "LayoutModel",
            "_view_count": null,
            "_view_module": "@jupyter-widgets/base",
            "_view_module_version": "1.2.0",
            "_view_name": "LayoutView",
            "align_content": null,
            "align_items": null,
            "align_self": null,
            "border": null,
            "bottom": null,
            "display": null,
            "flex": null,
            "flex_flow": null,
            "grid_area": null,
            "grid_auto_columns": null,
            "grid_auto_flow": null,
            "grid_auto_rows": null,
            "grid_column": null,
            "grid_gap": null,
            "grid_row": null,
            "grid_template_areas": null,
            "grid_template_columns": null,
            "grid_template_rows": null,
            "height": null,
            "justify_content": null,
            "justify_items": null,
            "left": null,
            "margin": null,
            "max_height": null,
            "max_width": null,
            "min_height": null,
            "min_width": null,
            "object_fit": null,
            "object_position": null,
            "order": null,
            "overflow": null,
            "overflow_x": null,
            "overflow_y": null,
            "padding": null,
            "right": null,
            "top": null,
            "visibility": null,
            "width": null
          }
        },
        "f6cb5b2c0bc9473baad0e9bddda3c4ba": {
          "model_module": "@jupyter-widgets/controls",
          "model_name": "DescriptionStyleModel",
          "model_module_version": "1.5.0",
          "state": {
            "_model_module": "@jupyter-widgets/controls",
            "_model_module_version": "1.5.0",
            "_model_name": "DescriptionStyleModel",
            "_view_count": null,
            "_view_module": "@jupyter-widgets/base",
            "_view_module_version": "1.2.0",
            "_view_name": "StyleView",
            "description_width": ""
          }
        },
        "a03d5899554344938bc304335becd34d": {
          "model_module": "@jupyter-widgets/base",
          "model_name": "LayoutModel",
          "model_module_version": "1.2.0",
          "state": {
            "_model_module": "@jupyter-widgets/base",
            "_model_module_version": "1.2.0",
            "_model_name": "LayoutModel",
            "_view_count": null,
            "_view_module": "@jupyter-widgets/base",
            "_view_module_version": "1.2.0",
            "_view_name": "LayoutView",
            "align_content": null,
            "align_items": null,
            "align_self": null,
            "border": null,
            "bottom": null,
            "display": null,
            "flex": null,
            "flex_flow": null,
            "grid_area": null,
            "grid_auto_columns": null,
            "grid_auto_flow": null,
            "grid_auto_rows": null,
            "grid_column": null,
            "grid_gap": null,
            "grid_row": null,
            "grid_template_areas": null,
            "grid_template_columns": null,
            "grid_template_rows": null,
            "height": null,
            "justify_content": null,
            "justify_items": null,
            "left": null,
            "margin": null,
            "max_height": null,
            "max_width": null,
            "min_height": null,
            "min_width": null,
            "object_fit": null,
            "object_position": null,
            "order": null,
            "overflow": null,
            "overflow_x": null,
            "overflow_y": null,
            "padding": null,
            "right": null,
            "top": null,
            "visibility": null,
            "width": null
          }
        },
        "130e0bfc6dfb47e6bfd7a49deafe507d": {
          "model_module": "@jupyter-widgets/controls",
          "model_name": "ProgressStyleModel",
          "model_module_version": "1.5.0",
          "state": {
            "_model_module": "@jupyter-widgets/controls",
            "_model_module_version": "1.5.0",
            "_model_name": "ProgressStyleModel",
            "_view_count": null,
            "_view_module": "@jupyter-widgets/base",
            "_view_module_version": "1.2.0",
            "_view_name": "StyleView",
            "bar_color": null,
            "description_width": ""
          }
        },
        "b56642f5fb5f4a5cb2f419810b87a9d4": {
          "model_module": "@jupyter-widgets/base",
          "model_name": "LayoutModel",
          "model_module_version": "1.2.0",
          "state": {
            "_model_module": "@jupyter-widgets/base",
            "_model_module_version": "1.2.0",
            "_model_name": "LayoutModel",
            "_view_count": null,
            "_view_module": "@jupyter-widgets/base",
            "_view_module_version": "1.2.0",
            "_view_name": "LayoutView",
            "align_content": null,
            "align_items": null,
            "align_self": null,
            "border": null,
            "bottom": null,
            "display": null,
            "flex": null,
            "flex_flow": null,
            "grid_area": null,
            "grid_auto_columns": null,
            "grid_auto_flow": null,
            "grid_auto_rows": null,
            "grid_column": null,
            "grid_gap": null,
            "grid_row": null,
            "grid_template_areas": null,
            "grid_template_columns": null,
            "grid_template_rows": null,
            "height": null,
            "justify_content": null,
            "justify_items": null,
            "left": null,
            "margin": null,
            "max_height": null,
            "max_width": null,
            "min_height": null,
            "min_width": null,
            "object_fit": null,
            "object_position": null,
            "order": null,
            "overflow": null,
            "overflow_x": null,
            "overflow_y": null,
            "padding": null,
            "right": null,
            "top": null,
            "visibility": null,
            "width": null
          }
        },
        "5fd2f5476956453da6c3c405e56c5b22": {
          "model_module": "@jupyter-widgets/controls",
          "model_name": "DescriptionStyleModel",
          "model_module_version": "1.5.0",
          "state": {
            "_model_module": "@jupyter-widgets/controls",
            "_model_module_version": "1.5.0",
            "_model_name": "DescriptionStyleModel",
            "_view_count": null,
            "_view_module": "@jupyter-widgets/base",
            "_view_module_version": "1.2.0",
            "_view_name": "StyleView",
            "description_width": ""
          }
        },
        "c034f96de48f484ca592140df0efc400": {
          "model_module": "@jupyter-widgets/controls",
          "model_name": "HBoxModel",
          "model_module_version": "1.5.0",
          "state": {
            "_dom_classes": [],
            "_model_module": "@jupyter-widgets/controls",
            "_model_module_version": "1.5.0",
            "_model_name": "HBoxModel",
            "_view_count": null,
            "_view_module": "@jupyter-widgets/controls",
            "_view_module_version": "1.5.0",
            "_view_name": "HBoxView",
            "box_style": "",
            "children": [
              "IPY_MODEL_d2e15452bc7748cbb10098b6525664e2",
              "IPY_MODEL_fa05321420684a768db12e5f5a0472ec",
              "IPY_MODEL_94b6641715394ff7ab18a7252d21dbd4"
            ],
            "layout": "IPY_MODEL_4d1d30c34dd14b05a4d4d7c1fed18f3a"
          }
        },
        "d2e15452bc7748cbb10098b6525664e2": {
          "model_module": "@jupyter-widgets/controls",
          "model_name": "HTMLModel",
          "model_module_version": "1.5.0",
          "state": {
            "_dom_classes": [],
            "_model_module": "@jupyter-widgets/controls",
            "_model_module_version": "1.5.0",
            "_model_name": "HTMLModel",
            "_view_count": null,
            "_view_module": "@jupyter-widgets/controls",
            "_view_module_version": "1.5.0",
            "_view_name": "HTMLView",
            "description": "",
            "description_tooltip": null,
            "layout": "IPY_MODEL_bf9fecd92e90471d9242b198e9786691",
            "placeholder": "​",
            "style": "IPY_MODEL_288772416a2b4f2b82a1bdb959907a42",
            "value": "Running tokenizer on dataset: 100%"
          }
        },
        "fa05321420684a768db12e5f5a0472ec": {
          "model_module": "@jupyter-widgets/controls",
          "model_name": "FloatProgressModel",
          "model_module_version": "1.5.0",
          "state": {
            "_dom_classes": [],
            "_model_module": "@jupyter-widgets/controls",
            "_model_module_version": "1.5.0",
            "_model_name": "FloatProgressModel",
            "_view_count": null,
            "_view_module": "@jupyter-widgets/controls",
            "_view_module_version": "1.5.0",
            "_view_name": "ProgressView",
            "bar_style": "success",
            "description": "",
            "description_tooltip": null,
            "layout": "IPY_MODEL_846afc52ab034761bb72a98b138b4fce",
            "max": 3399,
            "min": 0,
            "orientation": "horizontal",
            "style": "IPY_MODEL_9f6cfa83c7054197b98abe5884db37c9",
            "value": 3399
          }
        },
        "94b6641715394ff7ab18a7252d21dbd4": {
          "model_module": "@jupyter-widgets/controls",
          "model_name": "HTMLModel",
          "model_module_version": "1.5.0",
          "state": {
            "_dom_classes": [],
            "_model_module": "@jupyter-widgets/controls",
            "_model_module_version": "1.5.0",
            "_model_name": "HTMLModel",
            "_view_count": null,
            "_view_module": "@jupyter-widgets/controls",
            "_view_module_version": "1.5.0",
            "_view_name": "HTMLView",
            "description": "",
            "description_tooltip": null,
            "layout": "IPY_MODEL_a6cb0d4acba54b44acc8df764b083db4",
            "placeholder": "​",
            "style": "IPY_MODEL_9588ae638dc24c32b1489b9194e31676",
            "value": " 3399/3399 [00:01&lt;00:00, 2058.28 examples/s]"
          }
        },
        "4d1d30c34dd14b05a4d4d7c1fed18f3a": {
          "model_module": "@jupyter-widgets/base",
          "model_name": "LayoutModel",
          "model_module_version": "1.2.0",
          "state": {
            "_model_module": "@jupyter-widgets/base",
            "_model_module_version": "1.2.0",
            "_model_name": "LayoutModel",
            "_view_count": null,
            "_view_module": "@jupyter-widgets/base",
            "_view_module_version": "1.2.0",
            "_view_name": "LayoutView",
            "align_content": null,
            "align_items": null,
            "align_self": null,
            "border": null,
            "bottom": null,
            "display": null,
            "flex": null,
            "flex_flow": null,
            "grid_area": null,
            "grid_auto_columns": null,
            "grid_auto_flow": null,
            "grid_auto_rows": null,
            "grid_column": null,
            "grid_gap": null,
            "grid_row": null,
            "grid_template_areas": null,
            "grid_template_columns": null,
            "grid_template_rows": null,
            "height": null,
            "justify_content": null,
            "justify_items": null,
            "left": null,
            "margin": null,
            "max_height": null,
            "max_width": null,
            "min_height": null,
            "min_width": null,
            "object_fit": null,
            "object_position": null,
            "order": null,
            "overflow": null,
            "overflow_x": null,
            "overflow_y": null,
            "padding": null,
            "right": null,
            "top": null,
            "visibility": null,
            "width": null
          }
        },
        "bf9fecd92e90471d9242b198e9786691": {
          "model_module": "@jupyter-widgets/base",
          "model_name": "LayoutModel",
          "model_module_version": "1.2.0",
          "state": {
            "_model_module": "@jupyter-widgets/base",
            "_model_module_version": "1.2.0",
            "_model_name": "LayoutModel",
            "_view_count": null,
            "_view_module": "@jupyter-widgets/base",
            "_view_module_version": "1.2.0",
            "_view_name": "LayoutView",
            "align_content": null,
            "align_items": null,
            "align_self": null,
            "border": null,
            "bottom": null,
            "display": null,
            "flex": null,
            "flex_flow": null,
            "grid_area": null,
            "grid_auto_columns": null,
            "grid_auto_flow": null,
            "grid_auto_rows": null,
            "grid_column": null,
            "grid_gap": null,
            "grid_row": null,
            "grid_template_areas": null,
            "grid_template_columns": null,
            "grid_template_rows": null,
            "height": null,
            "justify_content": null,
            "justify_items": null,
            "left": null,
            "margin": null,
            "max_height": null,
            "max_width": null,
            "min_height": null,
            "min_width": null,
            "object_fit": null,
            "object_position": null,
            "order": null,
            "overflow": null,
            "overflow_x": null,
            "overflow_y": null,
            "padding": null,
            "right": null,
            "top": null,
            "visibility": null,
            "width": null
          }
        },
        "288772416a2b4f2b82a1bdb959907a42": {
          "model_module": "@jupyter-widgets/controls",
          "model_name": "DescriptionStyleModel",
          "model_module_version": "1.5.0",
          "state": {
            "_model_module": "@jupyter-widgets/controls",
            "_model_module_version": "1.5.0",
            "_model_name": "DescriptionStyleModel",
            "_view_count": null,
            "_view_module": "@jupyter-widgets/base",
            "_view_module_version": "1.2.0",
            "_view_name": "StyleView",
            "description_width": ""
          }
        },
        "846afc52ab034761bb72a98b138b4fce": {
          "model_module": "@jupyter-widgets/base",
          "model_name": "LayoutModel",
          "model_module_version": "1.2.0",
          "state": {
            "_model_module": "@jupyter-widgets/base",
            "_model_module_version": "1.2.0",
            "_model_name": "LayoutModel",
            "_view_count": null,
            "_view_module": "@jupyter-widgets/base",
            "_view_module_version": "1.2.0",
            "_view_name": "LayoutView",
            "align_content": null,
            "align_items": null,
            "align_self": null,
            "border": null,
            "bottom": null,
            "display": null,
            "flex": null,
            "flex_flow": null,
            "grid_area": null,
            "grid_auto_columns": null,
            "grid_auto_flow": null,
            "grid_auto_rows": null,
            "grid_column": null,
            "grid_gap": null,
            "grid_row": null,
            "grid_template_areas": null,
            "grid_template_columns": null,
            "grid_template_rows": null,
            "height": null,
            "justify_content": null,
            "justify_items": null,
            "left": null,
            "margin": null,
            "max_height": null,
            "max_width": null,
            "min_height": null,
            "min_width": null,
            "object_fit": null,
            "object_position": null,
            "order": null,
            "overflow": null,
            "overflow_x": null,
            "overflow_y": null,
            "padding": null,
            "right": null,
            "top": null,
            "visibility": null,
            "width": null
          }
        },
        "9f6cfa83c7054197b98abe5884db37c9": {
          "model_module": "@jupyter-widgets/controls",
          "model_name": "ProgressStyleModel",
          "model_module_version": "1.5.0",
          "state": {
            "_model_module": "@jupyter-widgets/controls",
            "_model_module_version": "1.5.0",
            "_model_name": "ProgressStyleModel",
            "_view_count": null,
            "_view_module": "@jupyter-widgets/base",
            "_view_module_version": "1.2.0",
            "_view_name": "StyleView",
            "bar_color": null,
            "description_width": ""
          }
        },
        "a6cb0d4acba54b44acc8df764b083db4": {
          "model_module": "@jupyter-widgets/base",
          "model_name": "LayoutModel",
          "model_module_version": "1.2.0",
          "state": {
            "_model_module": "@jupyter-widgets/base",
            "_model_module_version": "1.2.0",
            "_model_name": "LayoutModel",
            "_view_count": null,
            "_view_module": "@jupyter-widgets/base",
            "_view_module_version": "1.2.0",
            "_view_name": "LayoutView",
            "align_content": null,
            "align_items": null,
            "align_self": null,
            "border": null,
            "bottom": null,
            "display": null,
            "flex": null,
            "flex_flow": null,
            "grid_area": null,
            "grid_auto_columns": null,
            "grid_auto_flow": null,
            "grid_auto_rows": null,
            "grid_column": null,
            "grid_gap": null,
            "grid_row": null,
            "grid_template_areas": null,
            "grid_template_columns": null,
            "grid_template_rows": null,
            "height": null,
            "justify_content": null,
            "justify_items": null,
            "left": null,
            "margin": null,
            "max_height": null,
            "max_width": null,
            "min_height": null,
            "min_width": null,
            "object_fit": null,
            "object_position": null,
            "order": null,
            "overflow": null,
            "overflow_x": null,
            "overflow_y": null,
            "padding": null,
            "right": null,
            "top": null,
            "visibility": null,
            "width": null
          }
        },
        "9588ae638dc24c32b1489b9194e31676": {
          "model_module": "@jupyter-widgets/controls",
          "model_name": "DescriptionStyleModel",
          "model_module_version": "1.5.0",
          "state": {
            "_model_module": "@jupyter-widgets/controls",
            "_model_module_version": "1.5.0",
            "_model_name": "DescriptionStyleModel",
            "_view_count": null,
            "_view_module": "@jupyter-widgets/base",
            "_view_module_version": "1.2.0",
            "_view_name": "StyleView",
            "description_width": ""
          }
        },
        "8dad4c0d5684464eaf87fc49a2cc362d": {
          "model_module": "@jupyter-widgets/controls",
          "model_name": "HBoxModel",
          "model_module_version": "1.5.0",
          "state": {
            "_dom_classes": [],
            "_model_module": "@jupyter-widgets/controls",
            "_model_module_version": "1.5.0",
            "_model_name": "HBoxModel",
            "_view_count": null,
            "_view_module": "@jupyter-widgets/controls",
            "_view_module_version": "1.5.0",
            "_view_name": "HBoxView",
            "box_style": "",
            "children": [
              "IPY_MODEL_4f45c348baac473ea9f9977fa6d10d33",
              "IPY_MODEL_4f227e4f8fc34cc89850c2bb7c627a35",
              "IPY_MODEL_27a4b9de56a642869b45de3d7d5150d8"
            ],
            "layout": "IPY_MODEL_ae160522beb6406a96702e2f3c1031b0"
          }
        },
        "4f45c348baac473ea9f9977fa6d10d33": {
          "model_module": "@jupyter-widgets/controls",
          "model_name": "HTMLModel",
          "model_module_version": "1.5.0",
          "state": {
            "_dom_classes": [],
            "_model_module": "@jupyter-widgets/controls",
            "_model_module_version": "1.5.0",
            "_model_name": "HTMLModel",
            "_view_count": null,
            "_view_module": "@jupyter-widgets/controls",
            "_view_module_version": "1.5.0",
            "_view_name": "HTMLView",
            "description": "",
            "description_tooltip": null,
            "layout": "IPY_MODEL_b3f4e399ec3b4efda66ba0ffa37fe36d",
            "placeholder": "​",
            "style": "IPY_MODEL_28ea4b7304ac46c3b6b96c0304a0a2b0",
            "value": "Running tokenizer on dataset: 100%"
          }
        },
        "4f227e4f8fc34cc89850c2bb7c627a35": {
          "model_module": "@jupyter-widgets/controls",
          "model_name": "FloatProgressModel",
          "model_module_version": "1.5.0",
          "state": {
            "_dom_classes": [],
            "_model_module": "@jupyter-widgets/controls",
            "_model_module_version": "1.5.0",
            "_model_name": "FloatProgressModel",
            "_view_count": null,
            "_view_module": "@jupyter-widgets/controls",
            "_view_module_version": "1.5.0",
            "_view_name": "ProgressView",
            "bar_style": "success",
            "description": "",
            "description_tooltip": null,
            "layout": "IPY_MODEL_bdd637a2fcdb468bbf929a859bf2fe13",
            "max": 3399,
            "min": 0,
            "orientation": "horizontal",
            "style": "IPY_MODEL_a265af41d4694292a37e76b2366f0fa0",
            "value": 3399
          }
        },
        "27a4b9de56a642869b45de3d7d5150d8": {
          "model_module": "@jupyter-widgets/controls",
          "model_name": "HTMLModel",
          "model_module_version": "1.5.0",
          "state": {
            "_dom_classes": [],
            "_model_module": "@jupyter-widgets/controls",
            "_model_module_version": "1.5.0",
            "_model_name": "HTMLModel",
            "_view_count": null,
            "_view_module": "@jupyter-widgets/controls",
            "_view_module_version": "1.5.0",
            "_view_name": "HTMLView",
            "description": "",
            "description_tooltip": null,
            "layout": "IPY_MODEL_c27262319d4445eea203399fb0d8004c",
            "placeholder": "​",
            "style": "IPY_MODEL_6cb3887465014c2aa3224a243b1e66aa",
            "value": " 3399/3399 [00:00&lt;00:00, 4804.06 examples/s]"
          }
        },
        "ae160522beb6406a96702e2f3c1031b0": {
          "model_module": "@jupyter-widgets/base",
          "model_name": "LayoutModel",
          "model_module_version": "1.2.0",
          "state": {
            "_model_module": "@jupyter-widgets/base",
            "_model_module_version": "1.2.0",
            "_model_name": "LayoutModel",
            "_view_count": null,
            "_view_module": "@jupyter-widgets/base",
            "_view_module_version": "1.2.0",
            "_view_name": "LayoutView",
            "align_content": null,
            "align_items": null,
            "align_self": null,
            "border": null,
            "bottom": null,
            "display": null,
            "flex": null,
            "flex_flow": null,
            "grid_area": null,
            "grid_auto_columns": null,
            "grid_auto_flow": null,
            "grid_auto_rows": null,
            "grid_column": null,
            "grid_gap": null,
            "grid_row": null,
            "grid_template_areas": null,
            "grid_template_columns": null,
            "grid_template_rows": null,
            "height": null,
            "justify_content": null,
            "justify_items": null,
            "left": null,
            "margin": null,
            "max_height": null,
            "max_width": null,
            "min_height": null,
            "min_width": null,
            "object_fit": null,
            "object_position": null,
            "order": null,
            "overflow": null,
            "overflow_x": null,
            "overflow_y": null,
            "padding": null,
            "right": null,
            "top": null,
            "visibility": null,
            "width": null
          }
        },
        "b3f4e399ec3b4efda66ba0ffa37fe36d": {
          "model_module": "@jupyter-widgets/base",
          "model_name": "LayoutModel",
          "model_module_version": "1.2.0",
          "state": {
            "_model_module": "@jupyter-widgets/base",
            "_model_module_version": "1.2.0",
            "_model_name": "LayoutModel",
            "_view_count": null,
            "_view_module": "@jupyter-widgets/base",
            "_view_module_version": "1.2.0",
            "_view_name": "LayoutView",
            "align_content": null,
            "align_items": null,
            "align_self": null,
            "border": null,
            "bottom": null,
            "display": null,
            "flex": null,
            "flex_flow": null,
            "grid_area": null,
            "grid_auto_columns": null,
            "grid_auto_flow": null,
            "grid_auto_rows": null,
            "grid_column": null,
            "grid_gap": null,
            "grid_row": null,
            "grid_template_areas": null,
            "grid_template_columns": null,
            "grid_template_rows": null,
            "height": null,
            "justify_content": null,
            "justify_items": null,
            "left": null,
            "margin": null,
            "max_height": null,
            "max_width": null,
            "min_height": null,
            "min_width": null,
            "object_fit": null,
            "object_position": null,
            "order": null,
            "overflow": null,
            "overflow_x": null,
            "overflow_y": null,
            "padding": null,
            "right": null,
            "top": null,
            "visibility": null,
            "width": null
          }
        },
        "28ea4b7304ac46c3b6b96c0304a0a2b0": {
          "model_module": "@jupyter-widgets/controls",
          "model_name": "DescriptionStyleModel",
          "model_module_version": "1.5.0",
          "state": {
            "_model_module": "@jupyter-widgets/controls",
            "_model_module_version": "1.5.0",
            "_model_name": "DescriptionStyleModel",
            "_view_count": null,
            "_view_module": "@jupyter-widgets/base",
            "_view_module_version": "1.2.0",
            "_view_name": "StyleView",
            "description_width": ""
          }
        },
        "bdd637a2fcdb468bbf929a859bf2fe13": {
          "model_module": "@jupyter-widgets/base",
          "model_name": "LayoutModel",
          "model_module_version": "1.2.0",
          "state": {
            "_model_module": "@jupyter-widgets/base",
            "_model_module_version": "1.2.0",
            "_model_name": "LayoutModel",
            "_view_count": null,
            "_view_module": "@jupyter-widgets/base",
            "_view_module_version": "1.2.0",
            "_view_name": "LayoutView",
            "align_content": null,
            "align_items": null,
            "align_self": null,
            "border": null,
            "bottom": null,
            "display": null,
            "flex": null,
            "flex_flow": null,
            "grid_area": null,
            "grid_auto_columns": null,
            "grid_auto_flow": null,
            "grid_auto_rows": null,
            "grid_column": null,
            "grid_gap": null,
            "grid_row": null,
            "grid_template_areas": null,
            "grid_template_columns": null,
            "grid_template_rows": null,
            "height": null,
            "justify_content": null,
            "justify_items": null,
            "left": null,
            "margin": null,
            "max_height": null,
            "max_width": null,
            "min_height": null,
            "min_width": null,
            "object_fit": null,
            "object_position": null,
            "order": null,
            "overflow": null,
            "overflow_x": null,
            "overflow_y": null,
            "padding": null,
            "right": null,
            "top": null,
            "visibility": null,
            "width": null
          }
        },
        "a265af41d4694292a37e76b2366f0fa0": {
          "model_module": "@jupyter-widgets/controls",
          "model_name": "ProgressStyleModel",
          "model_module_version": "1.5.0",
          "state": {
            "_model_module": "@jupyter-widgets/controls",
            "_model_module_version": "1.5.0",
            "_model_name": "ProgressStyleModel",
            "_view_count": null,
            "_view_module": "@jupyter-widgets/base",
            "_view_module_version": "1.2.0",
            "_view_name": "StyleView",
            "bar_color": null,
            "description_width": ""
          }
        },
        "c27262319d4445eea203399fb0d8004c": {
          "model_module": "@jupyter-widgets/base",
          "model_name": "LayoutModel",
          "model_module_version": "1.2.0",
          "state": {
            "_model_module": "@jupyter-widgets/base",
            "_model_module_version": "1.2.0",
            "_model_name": "LayoutModel",
            "_view_count": null,
            "_view_module": "@jupyter-widgets/base",
            "_view_module_version": "1.2.0",
            "_view_name": "LayoutView",
            "align_content": null,
            "align_items": null,
            "align_self": null,
            "border": null,
            "bottom": null,
            "display": null,
            "flex": null,
            "flex_flow": null,
            "grid_area": null,
            "grid_auto_columns": null,
            "grid_auto_flow": null,
            "grid_auto_rows": null,
            "grid_column": null,
            "grid_gap": null,
            "grid_row": null,
            "grid_template_areas": null,
            "grid_template_columns": null,
            "grid_template_rows": null,
            "height": null,
            "justify_content": null,
            "justify_items": null,
            "left": null,
            "margin": null,
            "max_height": null,
            "max_width": null,
            "min_height": null,
            "min_width": null,
            "object_fit": null,
            "object_position": null,
            "order": null,
            "overflow": null,
            "overflow_x": null,
            "overflow_y": null,
            "padding": null,
            "right": null,
            "top": null,
            "visibility": null,
            "width": null
          }
        },
        "6cb3887465014c2aa3224a243b1e66aa": {
          "model_module": "@jupyter-widgets/controls",
          "model_name": "DescriptionStyleModel",
          "model_module_version": "1.5.0",
          "state": {
            "_model_module": "@jupyter-widgets/controls",
            "_model_module_version": "1.5.0",
            "_model_name": "DescriptionStyleModel",
            "_view_count": null,
            "_view_module": "@jupyter-widgets/base",
            "_view_module_version": "1.2.0",
            "_view_name": "StyleView",
            "description_width": ""
          }
        },
        "fc022f48743c45478175274fcfb922f6": {
          "model_module": "@jupyter-widgets/controls",
          "model_name": "HBoxModel",
          "model_module_version": "1.5.0",
          "state": {
            "_dom_classes": [],
            "_model_module": "@jupyter-widgets/controls",
            "_model_module_version": "1.5.0",
            "_model_name": "HBoxModel",
            "_view_count": null,
            "_view_module": "@jupyter-widgets/controls",
            "_view_module_version": "1.5.0",
            "_view_name": "HBoxView",
            "box_style": "",
            "children": [
              "IPY_MODEL_52bec231265c482090f5b3099e63f9d9",
              "IPY_MODEL_b07717ee704e4e6ab2bd5e20a9974f74",
              "IPY_MODEL_5372cbfab9f34d938ded892fed51c92a"
            ],
            "layout": "IPY_MODEL_01a065f9b59c4ee5961f6285cd0e7fb0"
          }
        },
        "52bec231265c482090f5b3099e63f9d9": {
          "model_module": "@jupyter-widgets/controls",
          "model_name": "HTMLModel",
          "model_module_version": "1.5.0",
          "state": {
            "_dom_classes": [],
            "_model_module": "@jupyter-widgets/controls",
            "_model_module_version": "1.5.0",
            "_model_name": "HTMLModel",
            "_view_count": null,
            "_view_module": "@jupyter-widgets/controls",
            "_view_module_version": "1.5.0",
            "_view_name": "HTMLView",
            "description": "",
            "description_tooltip": null,
            "layout": "IPY_MODEL_71af7edb3b234426aeeb2f0ae56ec94a",
            "placeholder": "​",
            "style": "IPY_MODEL_6d9cd770cea342b1bcb9594f4a89c25c",
            "value": "config.json: 100%"
          }
        },
        "b07717ee704e4e6ab2bd5e20a9974f74": {
          "model_module": "@jupyter-widgets/controls",
          "model_name": "FloatProgressModel",
          "model_module_version": "1.5.0",
          "state": {
            "_dom_classes": [],
            "_model_module": "@jupyter-widgets/controls",
            "_model_module_version": "1.5.0",
            "_model_name": "FloatProgressModel",
            "_view_count": null,
            "_view_module": "@jupyter-widgets/controls",
            "_view_module_version": "1.5.0",
            "_view_name": "ProgressView",
            "bar_style": "success",
            "description": "",
            "description_tooltip": null,
            "layout": "IPY_MODEL_2e177e514e5049c8aef39aaea1f56763",
            "max": 715,
            "min": 0,
            "orientation": "horizontal",
            "style": "IPY_MODEL_b6e30b8b68de490ea350b5b8601b8f12",
            "value": 715
          }
        },
        "5372cbfab9f34d938ded892fed51c92a": {
          "model_module": "@jupyter-widgets/controls",
          "model_name": "HTMLModel",
          "model_module_version": "1.5.0",
          "state": {
            "_dom_classes": [],
            "_model_module": "@jupyter-widgets/controls",
            "_model_module_version": "1.5.0",
            "_model_name": "HTMLModel",
            "_view_count": null,
            "_view_module": "@jupyter-widgets/controls",
            "_view_module_version": "1.5.0",
            "_view_name": "HTMLView",
            "description": "",
            "description_tooltip": null,
            "layout": "IPY_MODEL_3b94e4c6846d405f8ec37c3f45d29b88",
            "placeholder": "​",
            "style": "IPY_MODEL_af4e1a631e6a475e9bc6de31db2e34c6",
            "value": " 715/715 [00:00&lt;00:00, 97.7kB/s]"
          }
        },
        "01a065f9b59c4ee5961f6285cd0e7fb0": {
          "model_module": "@jupyter-widgets/base",
          "model_name": "LayoutModel",
          "model_module_version": "1.2.0",
          "state": {
            "_model_module": "@jupyter-widgets/base",
            "_model_module_version": "1.2.0",
            "_model_name": "LayoutModel",
            "_view_count": null,
            "_view_module": "@jupyter-widgets/base",
            "_view_module_version": "1.2.0",
            "_view_name": "LayoutView",
            "align_content": null,
            "align_items": null,
            "align_self": null,
            "border": null,
            "bottom": null,
            "display": null,
            "flex": null,
            "flex_flow": null,
            "grid_area": null,
            "grid_auto_columns": null,
            "grid_auto_flow": null,
            "grid_auto_rows": null,
            "grid_column": null,
            "grid_gap": null,
            "grid_row": null,
            "grid_template_areas": null,
            "grid_template_columns": null,
            "grid_template_rows": null,
            "height": null,
            "justify_content": null,
            "justify_items": null,
            "left": null,
            "margin": null,
            "max_height": null,
            "max_width": null,
            "min_height": null,
            "min_width": null,
            "object_fit": null,
            "object_position": null,
            "order": null,
            "overflow": null,
            "overflow_x": null,
            "overflow_y": null,
            "padding": null,
            "right": null,
            "top": null,
            "visibility": null,
            "width": null
          }
        },
        "71af7edb3b234426aeeb2f0ae56ec94a": {
          "model_module": "@jupyter-widgets/base",
          "model_name": "LayoutModel",
          "model_module_version": "1.2.0",
          "state": {
            "_model_module": "@jupyter-widgets/base",
            "_model_module_version": "1.2.0",
            "_model_name": "LayoutModel",
            "_view_count": null,
            "_view_module": "@jupyter-widgets/base",
            "_view_module_version": "1.2.0",
            "_view_name": "LayoutView",
            "align_content": null,
            "align_items": null,
            "align_self": null,
            "border": null,
            "bottom": null,
            "display": null,
            "flex": null,
            "flex_flow": null,
            "grid_area": null,
            "grid_auto_columns": null,
            "grid_auto_flow": null,
            "grid_auto_rows": null,
            "grid_column": null,
            "grid_gap": null,
            "grid_row": null,
            "grid_template_areas": null,
            "grid_template_columns": null,
            "grid_template_rows": null,
            "height": null,
            "justify_content": null,
            "justify_items": null,
            "left": null,
            "margin": null,
            "max_height": null,
            "max_width": null,
            "min_height": null,
            "min_width": null,
            "object_fit": null,
            "object_position": null,
            "order": null,
            "overflow": null,
            "overflow_x": null,
            "overflow_y": null,
            "padding": null,
            "right": null,
            "top": null,
            "visibility": null,
            "width": null
          }
        },
        "6d9cd770cea342b1bcb9594f4a89c25c": {
          "model_module": "@jupyter-widgets/controls",
          "model_name": "DescriptionStyleModel",
          "model_module_version": "1.5.0",
          "state": {
            "_model_module": "@jupyter-widgets/controls",
            "_model_module_version": "1.5.0",
            "_model_name": "DescriptionStyleModel",
            "_view_count": null,
            "_view_module": "@jupyter-widgets/base",
            "_view_module_version": "1.2.0",
            "_view_name": "StyleView",
            "description_width": ""
          }
        },
        "2e177e514e5049c8aef39aaea1f56763": {
          "model_module": "@jupyter-widgets/base",
          "model_name": "LayoutModel",
          "model_module_version": "1.2.0",
          "state": {
            "_model_module": "@jupyter-widgets/base",
            "_model_module_version": "1.2.0",
            "_model_name": "LayoutModel",
            "_view_count": null,
            "_view_module": "@jupyter-widgets/base",
            "_view_module_version": "1.2.0",
            "_view_name": "LayoutView",
            "align_content": null,
            "align_items": null,
            "align_self": null,
            "border": null,
            "bottom": null,
            "display": null,
            "flex": null,
            "flex_flow": null,
            "grid_area": null,
            "grid_auto_columns": null,
            "grid_auto_flow": null,
            "grid_auto_rows": null,
            "grid_column": null,
            "grid_gap": null,
            "grid_row": null,
            "grid_template_areas": null,
            "grid_template_columns": null,
            "grid_template_rows": null,
            "height": null,
            "justify_content": null,
            "justify_items": null,
            "left": null,
            "margin": null,
            "max_height": null,
            "max_width": null,
            "min_height": null,
            "min_width": null,
            "object_fit": null,
            "object_position": null,
            "order": null,
            "overflow": null,
            "overflow_x": null,
            "overflow_y": null,
            "padding": null,
            "right": null,
            "top": null,
            "visibility": null,
            "width": null
          }
        },
        "b6e30b8b68de490ea350b5b8601b8f12": {
          "model_module": "@jupyter-widgets/controls",
          "model_name": "ProgressStyleModel",
          "model_module_version": "1.5.0",
          "state": {
            "_model_module": "@jupyter-widgets/controls",
            "_model_module_version": "1.5.0",
            "_model_name": "ProgressStyleModel",
            "_view_count": null,
            "_view_module": "@jupyter-widgets/base",
            "_view_module_version": "1.2.0",
            "_view_name": "StyleView",
            "bar_color": null,
            "description_width": ""
          }
        },
        "3b94e4c6846d405f8ec37c3f45d29b88": {
          "model_module": "@jupyter-widgets/base",
          "model_name": "LayoutModel",
          "model_module_version": "1.2.0",
          "state": {
            "_model_module": "@jupyter-widgets/base",
            "_model_module_version": "1.2.0",
            "_model_name": "LayoutModel",
            "_view_count": null,
            "_view_module": "@jupyter-widgets/base",
            "_view_module_version": "1.2.0",
            "_view_name": "LayoutView",
            "align_content": null,
            "align_items": null,
            "align_self": null,
            "border": null,
            "bottom": null,
            "display": null,
            "flex": null,
            "flex_flow": null,
            "grid_area": null,
            "grid_auto_columns": null,
            "grid_auto_flow": null,
            "grid_auto_rows": null,
            "grid_column": null,
            "grid_gap": null,
            "grid_row": null,
            "grid_template_areas": null,
            "grid_template_columns": null,
            "grid_template_rows": null,
            "height": null,
            "justify_content": null,
            "justify_items": null,
            "left": null,
            "margin": null,
            "max_height": null,
            "max_width": null,
            "min_height": null,
            "min_width": null,
            "object_fit": null,
            "object_position": null,
            "order": null,
            "overflow": null,
            "overflow_x": null,
            "overflow_y": null,
            "padding": null,
            "right": null,
            "top": null,
            "visibility": null,
            "width": null
          }
        },
        "af4e1a631e6a475e9bc6de31db2e34c6": {
          "model_module": "@jupyter-widgets/controls",
          "model_name": "DescriptionStyleModel",
          "model_module_version": "1.5.0",
          "state": {
            "_model_module": "@jupyter-widgets/controls",
            "_model_module_version": "1.5.0",
            "_model_name": "DescriptionStyleModel",
            "_view_count": null,
            "_view_module": "@jupyter-widgets/base",
            "_view_module_version": "1.2.0",
            "_view_name": "StyleView",
            "description_width": ""
          }
        },
        "60705ea05e9540298a4286e9570fdd32": {
          "model_module": "@jupyter-widgets/controls",
          "model_name": "HBoxModel",
          "model_module_version": "1.5.0",
          "state": {
            "_dom_classes": [],
            "_model_module": "@jupyter-widgets/controls",
            "_model_module_version": "1.5.0",
            "_model_name": "HBoxModel",
            "_view_count": null,
            "_view_module": "@jupyter-widgets/controls",
            "_view_module_version": "1.5.0",
            "_view_name": "HBoxView",
            "box_style": "",
            "children": [
              "IPY_MODEL_52ae135f8cf043fd8e3d343e025bbf63",
              "IPY_MODEL_35d5090a16604ddfaeb39ef430e9b817",
              "IPY_MODEL_59fca48fafc2404bb6e2f2a4b5c28717"
            ],
            "layout": "IPY_MODEL_b44391cdfe774bc4848ec13763fb9c82"
          }
        },
        "52ae135f8cf043fd8e3d343e025bbf63": {
          "model_module": "@jupyter-widgets/controls",
          "model_name": "HTMLModel",
          "model_module_version": "1.5.0",
          "state": {
            "_dom_classes": [],
            "_model_module": "@jupyter-widgets/controls",
            "_model_module_version": "1.5.0",
            "_model_name": "HTMLModel",
            "_view_count": null,
            "_view_module": "@jupyter-widgets/controls",
            "_view_module_version": "1.5.0",
            "_view_name": "HTMLView",
            "description": "",
            "description_tooltip": null,
            "layout": "IPY_MODEL_76ee96e183054c58aa3c993152d95377",
            "placeholder": "​",
            "style": "IPY_MODEL_4a79927e857b4dbda47e6c7fbb9b51ca",
            "value": "model.safetensors: 100%"
          }
        },
        "35d5090a16604ddfaeb39ef430e9b817": {
          "model_module": "@jupyter-widgets/controls",
          "model_name": "FloatProgressModel",
          "model_module_version": "1.5.0",
          "state": {
            "_dom_classes": [],
            "_model_module": "@jupyter-widgets/controls",
            "_model_module_version": "1.5.0",
            "_model_name": "FloatProgressModel",
            "_view_count": null,
            "_view_module": "@jupyter-widgets/controls",
            "_view_module_version": "1.5.0",
            "_view_name": "ProgressView",
            "bar_style": "success",
            "description": "",
            "description_tooltip": null,
            "layout": "IPY_MODEL_b951441d43ef4e43806513d15046c73f",
            "max": 1118459450,
            "min": 0,
            "orientation": "horizontal",
            "style": "IPY_MODEL_139f6a7e55d64bb4992503245374ae12",
            "value": 1118459450
          }
        },
        "59fca48fafc2404bb6e2f2a4b5c28717": {
          "model_module": "@jupyter-widgets/controls",
          "model_name": "HTMLModel",
          "model_module_version": "1.5.0",
          "state": {
            "_dom_classes": [],
            "_model_module": "@jupyter-widgets/controls",
            "_model_module_version": "1.5.0",
            "_model_name": "HTMLModel",
            "_view_count": null,
            "_view_module": "@jupyter-widgets/controls",
            "_view_module_version": "1.5.0",
            "_view_name": "HTMLView",
            "description": "",
            "description_tooltip": null,
            "layout": "IPY_MODEL_6a312a2813de46df866446e5e34ba69c",
            "placeholder": "​",
            "style": "IPY_MODEL_00d4d78e86bf486890a2575280510bd3",
            "value": " 1.12G/1.12G [00:04&lt;00:00, 270MB/s]"
          }
        },
        "b44391cdfe774bc4848ec13763fb9c82": {
          "model_module": "@jupyter-widgets/base",
          "model_name": "LayoutModel",
          "model_module_version": "1.2.0",
          "state": {
            "_model_module": "@jupyter-widgets/base",
            "_model_module_version": "1.2.0",
            "_model_name": "LayoutModel",
            "_view_count": null,
            "_view_module": "@jupyter-widgets/base",
            "_view_module_version": "1.2.0",
            "_view_name": "LayoutView",
            "align_content": null,
            "align_items": null,
            "align_self": null,
            "border": null,
            "bottom": null,
            "display": null,
            "flex": null,
            "flex_flow": null,
            "grid_area": null,
            "grid_auto_columns": null,
            "grid_auto_flow": null,
            "grid_auto_rows": null,
            "grid_column": null,
            "grid_gap": null,
            "grid_row": null,
            "grid_template_areas": null,
            "grid_template_columns": null,
            "grid_template_rows": null,
            "height": null,
            "justify_content": null,
            "justify_items": null,
            "left": null,
            "margin": null,
            "max_height": null,
            "max_width": null,
            "min_height": null,
            "min_width": null,
            "object_fit": null,
            "object_position": null,
            "order": null,
            "overflow": null,
            "overflow_x": null,
            "overflow_y": null,
            "padding": null,
            "right": null,
            "top": null,
            "visibility": null,
            "width": null
          }
        },
        "76ee96e183054c58aa3c993152d95377": {
          "model_module": "@jupyter-widgets/base",
          "model_name": "LayoutModel",
          "model_module_version": "1.2.0",
          "state": {
            "_model_module": "@jupyter-widgets/base",
            "_model_module_version": "1.2.0",
            "_model_name": "LayoutModel",
            "_view_count": null,
            "_view_module": "@jupyter-widgets/base",
            "_view_module_version": "1.2.0",
            "_view_name": "LayoutView",
            "align_content": null,
            "align_items": null,
            "align_self": null,
            "border": null,
            "bottom": null,
            "display": null,
            "flex": null,
            "flex_flow": null,
            "grid_area": null,
            "grid_auto_columns": null,
            "grid_auto_flow": null,
            "grid_auto_rows": null,
            "grid_column": null,
            "grid_gap": null,
            "grid_row": null,
            "grid_template_areas": null,
            "grid_template_columns": null,
            "grid_template_rows": null,
            "height": null,
            "justify_content": null,
            "justify_items": null,
            "left": null,
            "margin": null,
            "max_height": null,
            "max_width": null,
            "min_height": null,
            "min_width": null,
            "object_fit": null,
            "object_position": null,
            "order": null,
            "overflow": null,
            "overflow_x": null,
            "overflow_y": null,
            "padding": null,
            "right": null,
            "top": null,
            "visibility": null,
            "width": null
          }
        },
        "4a79927e857b4dbda47e6c7fbb9b51ca": {
          "model_module": "@jupyter-widgets/controls",
          "model_name": "DescriptionStyleModel",
          "model_module_version": "1.5.0",
          "state": {
            "_model_module": "@jupyter-widgets/controls",
            "_model_module_version": "1.5.0",
            "_model_name": "DescriptionStyleModel",
            "_view_count": null,
            "_view_module": "@jupyter-widgets/base",
            "_view_module_version": "1.2.0",
            "_view_name": "StyleView",
            "description_width": ""
          }
        },
        "b951441d43ef4e43806513d15046c73f": {
          "model_module": "@jupyter-widgets/base",
          "model_name": "LayoutModel",
          "model_module_version": "1.2.0",
          "state": {
            "_model_module": "@jupyter-widgets/base",
            "_model_module_version": "1.2.0",
            "_model_name": "LayoutModel",
            "_view_count": null,
            "_view_module": "@jupyter-widgets/base",
            "_view_module_version": "1.2.0",
            "_view_name": "LayoutView",
            "align_content": null,
            "align_items": null,
            "align_self": null,
            "border": null,
            "bottom": null,
            "display": null,
            "flex": null,
            "flex_flow": null,
            "grid_area": null,
            "grid_auto_columns": null,
            "grid_auto_flow": null,
            "grid_auto_rows": null,
            "grid_column": null,
            "grid_gap": null,
            "grid_row": null,
            "grid_template_areas": null,
            "grid_template_columns": null,
            "grid_template_rows": null,
            "height": null,
            "justify_content": null,
            "justify_items": null,
            "left": null,
            "margin": null,
            "max_height": null,
            "max_width": null,
            "min_height": null,
            "min_width": null,
            "object_fit": null,
            "object_position": null,
            "order": null,
            "overflow": null,
            "overflow_x": null,
            "overflow_y": null,
            "padding": null,
            "right": null,
            "top": null,
            "visibility": null,
            "width": null
          }
        },
        "139f6a7e55d64bb4992503245374ae12": {
          "model_module": "@jupyter-widgets/controls",
          "model_name": "ProgressStyleModel",
          "model_module_version": "1.5.0",
          "state": {
            "_model_module": "@jupyter-widgets/controls",
            "_model_module_version": "1.5.0",
            "_model_name": "ProgressStyleModel",
            "_view_count": null,
            "_view_module": "@jupyter-widgets/base",
            "_view_module_version": "1.2.0",
            "_view_name": "StyleView",
            "bar_color": null,
            "description_width": ""
          }
        },
        "6a312a2813de46df866446e5e34ba69c": {
          "model_module": "@jupyter-widgets/base",
          "model_name": "LayoutModel",
          "model_module_version": "1.2.0",
          "state": {
            "_model_module": "@jupyter-widgets/base",
            "_model_module_version": "1.2.0",
            "_model_name": "LayoutModel",
            "_view_count": null,
            "_view_module": "@jupyter-widgets/base",
            "_view_module_version": "1.2.0",
            "_view_name": "LayoutView",
            "align_content": null,
            "align_items": null,
            "align_self": null,
            "border": null,
            "bottom": null,
            "display": null,
            "flex": null,
            "flex_flow": null,
            "grid_area": null,
            "grid_auto_columns": null,
            "grid_auto_flow": null,
            "grid_auto_rows": null,
            "grid_column": null,
            "grid_gap": null,
            "grid_row": null,
            "grid_template_areas": null,
            "grid_template_columns": null,
            "grid_template_rows": null,
            "height": null,
            "justify_content": null,
            "justify_items": null,
            "left": null,
            "margin": null,
            "max_height": null,
            "max_width": null,
            "min_height": null,
            "min_width": null,
            "object_fit": null,
            "object_position": null,
            "order": null,
            "overflow": null,
            "overflow_x": null,
            "overflow_y": null,
            "padding": null,
            "right": null,
            "top": null,
            "visibility": null,
            "width": null
          }
        },
        "00d4d78e86bf486890a2575280510bd3": {
          "model_module": "@jupyter-widgets/controls",
          "model_name": "DescriptionStyleModel",
          "model_module_version": "1.5.0",
          "state": {
            "_model_module": "@jupyter-widgets/controls",
            "_model_module_version": "1.5.0",
            "_model_name": "DescriptionStyleModel",
            "_view_count": null,
            "_view_module": "@jupyter-widgets/base",
            "_view_module_version": "1.2.0",
            "_view_name": "StyleView",
            "description_width": ""
          }
        }
      }
    }
  },
  "cells": [
    {
      "cell_type": "code",
      "execution_count": null,
      "metadata": {
        "id": "TFIAJtU6NaH5"
      },
      "outputs": [],
      "source": [
        "! pip install transformers peft datasets"
      ]
    },
    {
      "cell_type": "code",
      "source": [
        "from huggingface_hub import notebook_login,login\n",
        "notebook_login()"
      ],
      "metadata": {
        "colab": {
          "base_uri": "https://localhost:8080/",
          "height": 17,
          "referenced_widgets": [
            "ae3bc7329ff54166be01b4b85d7e5dce",
            "56568bd087a94ff09d1a462862a09a23",
            "2a3af7fabc8f42869607e18afa97bc0b",
            "0b25f5fd9bb64e4ea8e2639d6622eaf7",
            "8799041c5a774593a244f1415c61222a",
            "356393f84fc747348dfd21da7e63f805",
            "c848fa97e4b64370b8910be0d91ca87b",
            "263d0669c07442a9b8ecae2a789734ea",
            "3085a7f4882c46f597807ac99df04a50",
            "69fc238df6fc4d8ea9f6ea34e2bda88f",
            "e9c81154a89b4e55a45c9fa1c59e4ff8",
            "276893206e8347729f12f7f0cc03b1f8",
            "8457af96fc074f5a85ef5cdcf954fbdb",
            "0759c513c3f34a529fff197fd40bfd97",
            "a68b727516d14b1fb5f78b8e6bb8405c",
            "fb011dc777da4a4abacd1db1329e0952",
            "e35e1a951f7d4530904f19d71e7b9995",
            "2e21ed15a7b144988bb6df5b4b32cb9e",
            "83d3903ee537442b82db27a7d9152cb0",
            "d74d63038d8644ea88555013fde633c0"
          ]
        },
        "id": "K8-ABw8MNi_h",
        "outputId": "efd895c6-461d-4c05-8e69-2bab8a2f91d4"
      },
      "execution_count": 2,
      "outputs": [
        {
          "output_type": "display_data",
          "data": {
            "text/plain": [
              "VBox(children=(HTML(value='<center> <img\\nsrc=https://huggingface.co/front/assets/huggingface_logo-noborder.sv…"
            ],
            "application/vnd.jupyter.widget-view+json": {
              "version_major": 2,
              "version_minor": 0,
              "model_id": "ae3bc7329ff54166be01b4b85d7e5dce"
            }
          },
          "metadata": {}
        }
      ]
    },
    {
      "cell_type": "code",
      "source": [
        "from transformers import AutoTokenizer, AutoModelForCausalLM, default_data_collator, get_linear_schedule_with_warmup\n",
        "from peft import get_peft_config, get_peft_model, PrefixTuningConfig, TaskType, PeftType\n",
        "import torch\n",
        "import os\n",
        "from torch.utils.data import DataLoader\n",
        "from datasets import load_dataset\n",
        "from tqdm import tqdm\n",
        "\n",
        "model_name='bigscience/bloomz-560m'\n",
        "tokenizer_name='bigscience/bloomz-560m'\n",
        "peft_config=PrefixTuningConfig(task_type=TaskType.CAUSAL_LM, num_virtual_tokens=30)\n",
        "\n",
        "dataset_name='twitter_complaints'\n",
        "checkpoing_name=f\"{dataset_name}_{model_name}_{peft_config.peft_type}_{peft_config.task_type}_v1.pt\".replace('/','_')\n",
        "text_column='Tweet text'\n",
        "label_column='text_label'\n",
        "max_length=64\n",
        "lr=3e-2\n",
        "num_epochs=50\n",
        "batch_size=8"
      ],
      "metadata": {
        "id": "ltjNQ7UaNquw"
      },
      "execution_count": 3,
      "outputs": []
    },
    {
      "cell_type": "code",
      "source": [
        "dataset=load_dataset('ought/raft',dataset_name)\n",
        "# Extract and format class names\n",
        "classes=[k.replace('_',' ')for k in dataset['train'].features['Label'].names]\n",
        "# Map label IDs to text labels\n",
        "dataset=dataset.map(lambda x:{'text_label':[classes[label]for label in x['Label']]},batched=True,num_proc=1   )"
      ],
      "metadata": {
        "colab": {
          "base_uri": "https://localhost:8080/",
          "height": 81,
          "referenced_widgets": [
            "8b0ae7c49ebb446d8c29929730f2c4c4",
            "e155a3ddb63949168ad30de935629a57",
            "0711b754c44340f59d508d0b5ca70e59",
            "7a7ba5166fe34d62bf120f5c72ead030",
            "13b77a9f0c2f412dabed2152fd9e8c24",
            "b99458a209fb4527a30a48cc9619f5f3",
            "1a0f5a3d6fb14eb59ecf44a65bd19283",
            "4ff7cc5bffc14908973a01d13569a0c1",
            "ccfb3ea6737b418dbd39e98a16307d1a",
            "7235f18fcd8f421498795ed73f4b0599",
            "09de452f95004ea18ac22f07cc8e54ab",
            "8384d26bb20e4acabd692ef14a763fe1",
            "4bf6ee740f1943658ff8141d74071762",
            "b22ac9c8ecb242388e99d0f66d0c5958",
            "7f7da4fde2694a48a8c01ee23f909219",
            "d358cde01ff349f1b2cc1f581c58fff2",
            "2b55cd1b51a740a7a992110311540437",
            "e2bffdda6dfd45638e1feff482277eeb",
            "b928b341bc134703989a2dfb52eae130",
            "39f2021d775f435bb34080527ad9fca4",
            "0554c557f08041969fc1bf108ae8b578",
            "55f1e651c8af40af8ddfcb68c9babb3b"
          ]
        },
        "id": "Anb8RMfYPQQv",
        "outputId": "eee6b981-26bf-4d2d-d534-cb92dd29c536"
      },
      "execution_count": 6,
      "outputs": [
        {
          "output_type": "display_data",
          "data": {
            "text/plain": [
              "Map:   0%|          | 0/50 [00:00<?, ? examples/s]"
            ],
            "application/vnd.jupyter.widget-view+json": {
              "version_major": 2,
              "version_minor": 0,
              "model_id": "8b0ae7c49ebb446d8c29929730f2c4c4"
            }
          },
          "metadata": {}
        },
        {
          "output_type": "display_data",
          "data": {
            "text/plain": [
              "Map:   0%|          | 0/3399 [00:00<?, ? examples/s]"
            ],
            "application/vnd.jupyter.widget-view+json": {
              "version_major": 2,
              "version_minor": 0,
              "model_id": "8384d26bb20e4acabd692ef14a763fe1"
            }
          },
          "metadata": {}
        }
      ]
    },
    {
      "cell_type": "code",
      "source": [
        "# Data Preprocessing\n",
        "tokenizer=AutoTokenizer.from_pretrained(model_name)\n",
        "# Ensures padding tokens exists\n",
        "if tokenizer.pad_token_id is None:\n",
        "  tokenizer.pad_token_id=tokenizer.eos_token_id\n",
        "# Computes max token length for class labels\n",
        "target_max_length=max([len(tokenizer(class_label)['input_ids'])for class_label in classes])\n",
        "\n",
        "def preprocess_function(examples):\n",
        "  # Get batch size from input\n",
        "  batch_size=len(examples[text_column])\n",
        "  # Format input prompt\n",
        "  inputs= [f\"{text_column}: {x} Label :\" for x in examples[text_column]]\n",
        "  # Target labels\n",
        "  targets=[str(x) for x in examples[label_column]]\n",
        "  # TOkenizer input prompt\n",
        "  model_inputs=tokenizer(inputs)\n",
        "  labels=tokenizer(targets, add_special_tokens=False)\n",
        "  for i in range(batch_size):\n",
        "    sample_input_ids=model_inputs['input_ids'][i]\n",
        "    label_input_ids=labels['input_ids'][i] + [tokenizer.eos_token_id]\n",
        "\n",
        "    model_inputs['input_ids'][i] = sample_input_ids + label_input_ids\n",
        "    labels['input_ids'][i] =[-100] * len(sample_input_ids) + label_input_ids  #  ignore the input tokens, Focus only generated label part\n",
        "    model_inputs['attention_mask'][i] = [i] * len(model_inputs['input_ids'][i])\n",
        "  # Ensures all sequences are padded to the same length\n",
        "  for i in range(batch_size):\n",
        "    sample_input_ids=model_inputs['input_ids'][i]\n",
        "    label_input_ids =labels['input_ids'][i]\n",
        "    # Left pad input IDs with pad_token_id\n",
        "    model_inputs['input_ids'][i] = [tokenizer.pad_token_id] * (max_length -len(sample_input_ids)) + sample_input_ids\n",
        "    # Adjust attention mask to match padding\n",
        "    model_inputs['attention_mask'][i] =[0] * (max_length - len(sample_input_ids)) + model_inputs['attention_mask'][i]\n",
        "    # Ignore the padded tokens\n",
        "    labels['input_ids'][i] =[-100] * (max_length - len(sample_input_ids)) + label_input_ids\n",
        "    model_inputs['input_ids'][i] = torch.tensor(model_inputs['input_ids'][i][:max_length])\n",
        "    model_inputs['attention_mask'][i]=torch.tensor(model_inputs['attention_mask'][i][:max_length])\n",
        "    labels['input_ids'][i] = torch.tensor(labels['input_ids'][i][:max_length])\n",
        "  model_inputs['labels'] = labels['input_ids']\n",
        "  return model_inputs\n",
        "\n",
        "processed_datasets=dataset.map(\n",
        "    preprocess_function,\n",
        "    batched=True,\n",
        "    num_proc=1,\n",
        "    remove_columns=dataset['train'].column_names,\n",
        "    load_from_cache_file=False,\n",
        "    desc='Running tokenizer on dataset'\n",
        ")\n",
        "train_dataset=processed_datasets['train']\n",
        "eval_dataset=processed_datasets['train']\n",
        "\n",
        "train_dataloader=DataLoader(train_dataset,shuffle=True, collate_fn=default_data_collator, batch_size=batch_size,pin_memory=True)\n",
        "eval_dataloader=DataLoader(eval_dataset,collate_fn=default_data_collator, batch_size=batch_size,pin_memory=True)"
      ],
      "metadata": {
        "colab": {
          "base_uri": "https://localhost:8080/",
          "height": 81,
          "referenced_widgets": [
            "565df981ef8b43d1bfd3bffb44c1ae00",
            "d6acc322b6de4568969b6012730924c3",
            "a21e8d5a9d74479c8669d108f82530e5",
            "4fa01e83a9ad485099b4be52db7735f5",
            "2dcc5186971c4a25a058c7755e19b3f0",
            "e7687ca60c2c4f16a03921a32913acc7",
            "f6cb5b2c0bc9473baad0e9bddda3c4ba",
            "a03d5899554344938bc304335becd34d",
            "130e0bfc6dfb47e6bfd7a49deafe507d",
            "b56642f5fb5f4a5cb2f419810b87a9d4",
            "5fd2f5476956453da6c3c405e56c5b22",
            "c034f96de48f484ca592140df0efc400",
            "d2e15452bc7748cbb10098b6525664e2",
            "fa05321420684a768db12e5f5a0472ec",
            "94b6641715394ff7ab18a7252d21dbd4",
            "4d1d30c34dd14b05a4d4d7c1fed18f3a",
            "bf9fecd92e90471d9242b198e9786691",
            "288772416a2b4f2b82a1bdb959907a42",
            "846afc52ab034761bb72a98b138b4fce",
            "9f6cfa83c7054197b98abe5884db37c9",
            "a6cb0d4acba54b44acc8df764b083db4",
            "9588ae638dc24c32b1489b9194e31676"
          ]
        },
        "id": "fvHOpn_AQ8-b",
        "outputId": "e98d5b82-edcb-4f2d-e673-c43b8275391f"
      },
      "execution_count": 8,
      "outputs": [
        {
          "output_type": "display_data",
          "data": {
            "text/plain": [
              "Running tokenizer on dataset:   0%|          | 0/50 [00:00<?, ? examples/s]"
            ],
            "application/vnd.jupyter.widget-view+json": {
              "version_major": 2,
              "version_minor": 0,
              "model_id": "565df981ef8b43d1bfd3bffb44c1ae00"
            }
          },
          "metadata": {}
        },
        {
          "output_type": "display_data",
          "data": {
            "text/plain": [
              "Running tokenizer on dataset:   0%|          | 0/3399 [00:00<?, ? examples/s]"
            ],
            "application/vnd.jupyter.widget-view+json": {
              "version_major": 2,
              "version_minor": 0,
              "model_id": "c034f96de48f484ca592140df0efc400"
            }
          },
          "metadata": {}
        }
      ]
    },
    {
      "cell_type": "code",
      "source": [
        "def test_preprocess_function(examples):\n",
        "    batch_size = len(examples[text_column])\n",
        "    inputs = [f\"{text_column} : {x} Label : \" for x in examples[text_column]]\n",
        "    model_inputs = tokenizer(inputs)\n",
        "    # print(model_inputs)\n",
        "    for i in range(batch_size):\n",
        "        sample_input_ids = model_inputs[\"input_ids\"][i]\n",
        "        model_inputs[\"input_ids\"][i] = [tokenizer.pad_token_id] * (\n",
        "            max_length - len(sample_input_ids)\n",
        "        ) + sample_input_ids\n",
        "        model_inputs[\"attention_mask\"][i] = [0] * (max_length - len(sample_input_ids)) + model_inputs[\n",
        "            \"attention_mask\"\n",
        "        ][i]\n",
        "        model_inputs[\"input_ids\"][i] = torch.tensor(model_inputs[\"input_ids\"][i][:max_length])\n",
        "        model_inputs[\"attention_mask\"][i] = torch.tensor(model_inputs[\"attention_mask\"][i][:max_length])\n",
        "    return model_inputs\n",
        "\n",
        "\n",
        "test_dataset = dataset[\"test\"].map(\n",
        "    test_preprocess_function,\n",
        "    batched=True,\n",
        "    num_proc=1,\n",
        "    remove_columns=dataset[\"train\"].column_names,\n",
        "    load_from_cache_file=False,\n",
        "    desc=\"Running tokenizer on dataset\",\n",
        ")\n",
        "\n",
        "test_dataloader = DataLoader(test_dataset, collate_fn=default_data_collator, batch_size=batch_size, pin_memory=True)\n"
      ],
      "metadata": {
        "colab": {
          "base_uri": "https://localhost:8080/",
          "height": 49,
          "referenced_widgets": [
            "8dad4c0d5684464eaf87fc49a2cc362d",
            "4f45c348baac473ea9f9977fa6d10d33",
            "4f227e4f8fc34cc89850c2bb7c627a35",
            "27a4b9de56a642869b45de3d7d5150d8",
            "ae160522beb6406a96702e2f3c1031b0",
            "b3f4e399ec3b4efda66ba0ffa37fe36d",
            "28ea4b7304ac46c3b6b96c0304a0a2b0",
            "bdd637a2fcdb468bbf929a859bf2fe13",
            "a265af41d4694292a37e76b2366f0fa0",
            "c27262319d4445eea203399fb0d8004c",
            "6cb3887465014c2aa3224a243b1e66aa"
          ]
        },
        "id": "VCggHCe0Z2iz",
        "outputId": "75e4d4db-6ecc-43bf-a652-1b4c5ff6aaab"
      },
      "execution_count": 10,
      "outputs": [
        {
          "output_type": "display_data",
          "data": {
            "text/plain": [
              "Running tokenizer on dataset:   0%|          | 0/3399 [00:00<?, ? examples/s]"
            ],
            "application/vnd.jupyter.widget-view+json": {
              "version_major": 2,
              "version_minor": 0,
              "model_id": "8dad4c0d5684464eaf87fc49a2cc362d"
            }
          },
          "metadata": {}
        }
      ]
    },
    {
      "cell_type": "markdown",
      "source": [
        "## Actually we are training the Trainable parameters on our datast. Which will help to LLM behaviour of the data."
      ],
      "metadata": {
        "id": "lQUKGkfLbtYS"
      }
    },
    {
      "cell_type": "code",
      "source": [
        "# Creating Model\n",
        "model=AutoModelForCausalLM.from_pretrained(model_name)\n",
        "model=get_peft_model(model,peft_config)\n",
        "model.print_trainable_parameters()"
      ],
      "metadata": {
        "colab": {
          "base_uri": "https://localhost:8080/",
          "height": 98,
          "referenced_widgets": [
            "fc022f48743c45478175274fcfb922f6",
            "52bec231265c482090f5b3099e63f9d9",
            "b07717ee704e4e6ab2bd5e20a9974f74",
            "5372cbfab9f34d938ded892fed51c92a",
            "01a065f9b59c4ee5961f6285cd0e7fb0",
            "71af7edb3b234426aeeb2f0ae56ec94a",
            "6d9cd770cea342b1bcb9594f4a89c25c",
            "2e177e514e5049c8aef39aaea1f56763",
            "b6e30b8b68de490ea350b5b8601b8f12",
            "3b94e4c6846d405f8ec37c3f45d29b88",
            "af4e1a631e6a475e9bc6de31db2e34c6",
            "60705ea05e9540298a4286e9570fdd32",
            "52ae135f8cf043fd8e3d343e025bbf63",
            "35d5090a16604ddfaeb39ef430e9b817",
            "59fca48fafc2404bb6e2f2a4b5c28717",
            "b44391cdfe774bc4848ec13763fb9c82",
            "76ee96e183054c58aa3c993152d95377",
            "4a79927e857b4dbda47e6c7fbb9b51ca",
            "b951441d43ef4e43806513d15046c73f",
            "139f6a7e55d64bb4992503245374ae12",
            "6a312a2813de46df866446e5e34ba69c",
            "00d4d78e86bf486890a2575280510bd3"
          ]
        },
        "id": "kBFoZH4ZbEtJ",
        "outputId": "05a8bf4d-1916-48fc-e419-05b6a54a7120"
      },
      "execution_count": 11,
      "outputs": [
        {
          "output_type": "display_data",
          "data": {
            "text/plain": [
              "config.json:   0%|          | 0.00/715 [00:00<?, ?B/s]"
            ],
            "application/vnd.jupyter.widget-view+json": {
              "version_major": 2,
              "version_minor": 0,
              "model_id": "fc022f48743c45478175274fcfb922f6"
            }
          },
          "metadata": {}
        },
        {
          "output_type": "display_data",
          "data": {
            "text/plain": [
              "model.safetensors:   0%|          | 0.00/1.12G [00:00<?, ?B/s]"
            ],
            "application/vnd.jupyter.widget-view+json": {
              "version_major": 2,
              "version_minor": 0,
              "model_id": "60705ea05e9540298a4286e9570fdd32"
            }
          },
          "metadata": {}
        },
        {
          "output_type": "stream",
          "name": "stdout",
          "text": [
            "trainable params: 1,474,560 || all params: 560,689,152 || trainable%: 0.2630\n"
          ]
        }
      ]
    },
    {
      "cell_type": "code",
      "source": [
        "model.peft_config"
      ],
      "metadata": {
        "colab": {
          "base_uri": "https://localhost:8080/"
        },
        "id": "h_mNY0vFbiqO",
        "outputId": "01b0e880-541c-4a18-9ed9-529f6898fde4"
      },
      "execution_count": 12,
      "outputs": [
        {
          "output_type": "execute_result",
          "data": {
            "text/plain": [
              "{'default': PrefixTuningConfig(task_type=<TaskType.CAUSAL_LM: 'CAUSAL_LM'>, peft_type=<PeftType.PREFIX_TUNING: 'PREFIX_TUNING'>, auto_mapping=None, base_model_name_or_path='bigscience/bloomz-560m', revision=None, inference_mode=False, num_virtual_tokens=30, token_dim=1024, num_transformer_submodules=1, num_attention_heads=16, num_layers=24, encoder_hidden_size=1024, prefix_projection=False)}"
            ]
          },
          "metadata": {},
          "execution_count": 12
        }
      ]
    },
    {
      "cell_type": "markdown",
      "source": [
        "## Now we are doing Training and BackPropagation of the Trainable parameter. So that it adjust its value according to accuracy."
      ],
      "metadata": {
        "id": "SEYhd5O6b-SJ"
      }
    },
    {
      "cell_type": "code",
      "source": [
        "# model\n",
        "# optimizer and lr scheduler\n",
        "optimizer = torch.optim.AdamW(model.parameters(), lr=lr)\n",
        "lr_scheduler = get_linear_schedule_with_warmup(\n",
        "    optimizer=optimizer,\n",
        "    num_warmup_steps=0,\n",
        "    num_training_steps=(len(train_dataloader) * num_epochs),\n",
        ")"
      ],
      "metadata": {
        "id": "TDvEzGJyfdme"
      },
      "execution_count": 14,
      "outputs": []
    },
    {
      "cell_type": "code",
      "source": [
        "# Training and Evaluation\n",
        "for epoch in range(num_epochs):\n",
        "  model.train()\n",
        "  total_loss=0\n",
        "  for step,batch in enumerate(tqdm(train_dataloader)):\n",
        "    batch ={k: v for k,v in batch.items()}\n",
        "    outputs=model(**batch)\n",
        "    loss=outputs.loss\n",
        "    total_loss += loss.detach().float()\n",
        "    loss.backward()\n",
        "    optimizer.step()\n",
        "    lr_scheduler.step()\n",
        "    optimizer.zero_grad()\n",
        "\n",
        "  model.eval()\n",
        "  eval_loss=0\n",
        "  eval_preds=[]\n",
        "  for step, batch in enumerate(tqdm(eval_dataloader)):\n",
        "    batch ={k:v for k, v in batch.items()}\n",
        "    with torch.no_grad():\n",
        "      outputs=model(**batch)\n",
        "    loss=outputs.loss\n",
        "    eval_loss += loss.detach().float()\n",
        "    eval_preds.extend(tokenizer.batch_decode(torch.argmax(outputs.logits,-1).detach().cpu().numpy(),skip_special_tokens=True))\n",
        "\n",
        "\n",
        "    eval_epoch_loss = eval_loss / len(eval_dataloader)\n",
        "    eval_ppl = torch.exp(eval_epoch_loss)\n",
        "    train_epoch_loss = total_loss / len(train_dataloader)\n",
        "    train_ppl = torch.exp(train_epoch_loss)\n",
        "    print(f\"{epoch=}: {train_ppl=} {train_epoch_loss=} {eval_ppl=} {eval_epoch_loss=}\")"
      ],
      "metadata": {
        "colab": {
          "base_uri": "https://localhost:8080/"
        },
        "id": "tAotnsv9bpyI",
        "outputId": "d9632069-7ce7-4e8f-ba4c-a31f5cdbc8ef"
      },
      "execution_count": null,
      "outputs": [
        {
          "output_type": "stream",
          "name": "stderr",
          "text": [
            "100%|██████████| 7/7 [03:45<00:00, 32.25s/it]\n",
            " 14%|█▍        | 1/7 [00:08<00:52,  8.80s/it]"
          ]
        },
        {
          "output_type": "stream",
          "name": "stdout",
          "text": [
            "epoch=0: train_ppl=tensor(1073.8441) train_epoch_loss=tensor(6.9790) eval_ppl=tensor(1.3376) eval_epoch_loss=tensor(0.2909)\n"
          ]
        },
        {
          "output_type": "stream",
          "name": "stderr",
          "text": [
            "\r 29%|██▊       | 2/7 [00:17<00:44,  8.80s/it]"
          ]
        },
        {
          "output_type": "stream",
          "name": "stdout",
          "text": [
            "epoch=0: train_ppl=tensor(1073.8441) train_epoch_loss=tensor(6.9790) eval_ppl=tensor(2.3518) eval_epoch_loss=tensor(0.8552)\n"
          ]
        },
        {
          "output_type": "stream",
          "name": "stderr",
          "text": [
            "\r 43%|████▎     | 3/7 [00:25<00:33,  8.34s/it]"
          ]
        },
        {
          "output_type": "stream",
          "name": "stdout",
          "text": [
            "epoch=0: train_ppl=tensor(1073.8441) train_epoch_loss=tensor(6.9790) eval_ppl=tensor(7.2299) eval_epoch_loss=tensor(1.9782)\n"
          ]
        },
        {
          "output_type": "stream",
          "name": "stderr",
          "text": [
            "\r 57%|█████▋    | 4/7 [00:34<00:25,  8.49s/it]"
          ]
        },
        {
          "output_type": "stream",
          "name": "stdout",
          "text": [
            "epoch=0: train_ppl=tensor(1073.8441) train_epoch_loss=tensor(6.9790) eval_ppl=tensor(25.5156) eval_epoch_loss=tensor(3.2393)\n"
          ]
        },
        {
          "output_type": "stream",
          "name": "stderr",
          "text": [
            "\r 71%|███████▏  | 5/7 [00:42<00:17,  8.63s/it]"
          ]
        },
        {
          "output_type": "stream",
          "name": "stdout",
          "text": [
            "epoch=0: train_ppl=tensor(1073.8441) train_epoch_loss=tensor(6.9790) eval_ppl=tensor(92.4858) eval_epoch_loss=tensor(4.5271)\n"
          ]
        },
        {
          "output_type": "stream",
          "name": "stderr",
          "text": [
            "\r 86%|████████▌ | 6/7 [00:51<00:08,  8.62s/it]"
          ]
        },
        {
          "output_type": "stream",
          "name": "stdout",
          "text": [
            "epoch=0: train_ppl=tensor(1073.8441) train_epoch_loss=tensor(6.9790) eval_ppl=tensor(372.4107) eval_epoch_loss=tensor(5.9200)\n"
          ]
        },
        {
          "output_type": "stream",
          "name": "stderr",
          "text": [
            "100%|██████████| 7/7 [00:55<00:00,  7.97s/it]\n"
          ]
        },
        {
          "output_type": "stream",
          "name": "stdout",
          "text": [
            "epoch=0: train_ppl=tensor(1073.8441) train_epoch_loss=tensor(6.9790) eval_ppl=tensor(1547.6750) eval_epoch_loss=tensor(7.3445)\n"
          ]
        },
        {
          "output_type": "stream",
          "name": "stderr",
          "text": [
            "100%|██████████| 7/7 [03:43<00:00, 31.94s/it]\n",
            " 14%|█▍        | 1/7 [00:08<00:51,  8.60s/it]"
          ]
        },
        {
          "output_type": "stream",
          "name": "stdout",
          "text": [
            "epoch=1: train_ppl=tensor(1114.0072) train_epoch_loss=tensor(7.0157) eval_ppl=tensor(1.2997) eval_epoch_loss=tensor(0.2621)\n"
          ]
        },
        {
          "output_type": "stream",
          "name": "stderr",
          "text": [
            "\r 29%|██▊       | 2/7 [00:17<00:43,  8.78s/it]"
          ]
        },
        {
          "output_type": "stream",
          "name": "stdout",
          "text": [
            "epoch=1: train_ppl=tensor(1114.0072) train_epoch_loss=tensor(7.0157) eval_ppl=tensor(2.0570) eval_epoch_loss=tensor(0.7213)\n"
          ]
        },
        {
          "output_type": "stream",
          "name": "stderr",
          "text": [
            "\r 43%|████▎     | 3/7 [00:26<00:34,  8.70s/it]"
          ]
        },
        {
          "output_type": "stream",
          "name": "stdout",
          "text": [
            "epoch=1: train_ppl=tensor(1114.0072) train_epoch_loss=tensor(7.0157) eval_ppl=tensor(5.9585) eval_epoch_loss=tensor(1.7848)\n"
          ]
        },
        {
          "output_type": "stream",
          "name": "stderr",
          "text": [
            "\r 57%|█████▋    | 4/7 [00:34<00:26,  8.70s/it]"
          ]
        },
        {
          "output_type": "stream",
          "name": "stdout",
          "text": [
            "epoch=1: train_ppl=tensor(1114.0072) train_epoch_loss=tensor(7.0157) eval_ppl=tensor(20.1729) eval_epoch_loss=tensor(3.0043)\n"
          ]
        },
        {
          "output_type": "stream",
          "name": "stderr",
          "text": [
            "\r 71%|███████▏  | 5/7 [00:43<00:17,  8.66s/it]"
          ]
        },
        {
          "output_type": "stream",
          "name": "stdout",
          "text": [
            "epoch=1: train_ppl=tensor(1114.0072) train_epoch_loss=tensor(7.0157) eval_ppl=tensor(70.8426) eval_epoch_loss=tensor(4.2605)\n"
          ]
        },
        {
          "output_type": "stream",
          "name": "stderr",
          "text": [
            "\r 86%|████████▌ | 6/7 [00:52<00:08,  8.67s/it]"
          ]
        },
        {
          "output_type": "stream",
          "name": "stdout",
          "text": [
            "epoch=1: train_ppl=tensor(1114.0072) train_epoch_loss=tensor(7.0157) eval_ppl=tensor(280.7458) eval_epoch_loss=tensor(5.6374)\n"
          ]
        },
        {
          "output_type": "stream",
          "name": "stderr",
          "text": [
            "100%|██████████| 7/7 [00:56<00:00,  8.01s/it]\n"
          ]
        },
        {
          "output_type": "stream",
          "name": "stdout",
          "text": [
            "epoch=1: train_ppl=tensor(1114.0072) train_epoch_loss=tensor(7.0157) eval_ppl=tensor(1166.7317) eval_epoch_loss=tensor(7.0620)\n"
          ]
        },
        {
          "output_type": "stream",
          "name": "stderr",
          "text": [
            "100%|██████████| 7/7 [03:36<00:00, 30.87s/it]\n",
            " 14%|█▍        | 1/7 [00:08<00:52,  8.80s/it]"
          ]
        },
        {
          "output_type": "stream",
          "name": "stdout",
          "text": [
            "epoch=2: train_ppl=tensor(390.8069) train_epoch_loss=tensor(5.9682) eval_ppl=tensor(1.1639) eval_epoch_loss=tensor(0.1518)\n"
          ]
        },
        {
          "output_type": "stream",
          "name": "stderr",
          "text": [
            "\r 29%|██▊       | 2/7 [00:17<00:43,  8.63s/it]"
          ]
        },
        {
          "output_type": "stream",
          "name": "stdout",
          "text": [
            "epoch=2: train_ppl=tensor(390.8069) train_epoch_loss=tensor(5.9682) eval_ppl=tensor(1.6143) eval_epoch_loss=tensor(0.4789)\n"
          ]
        },
        {
          "output_type": "stream",
          "name": "stderr",
          "text": [
            "\r 43%|████▎     | 3/7 [00:25<00:33,  8.48s/it]"
          ]
        },
        {
          "output_type": "stream",
          "name": "stdout",
          "text": [
            "epoch=2: train_ppl=tensor(390.8069) train_epoch_loss=tensor(5.9682) eval_ppl=tensor(4.4238) eval_epoch_loss=tensor(1.4870)\n"
          ]
        },
        {
          "output_type": "stream",
          "name": "stderr",
          "text": [
            "\r 57%|█████▋    | 4/7 [00:34<00:26,  8.68s/it]"
          ]
        },
        {
          "output_type": "stream",
          "name": "stdout",
          "text": [
            "epoch=2: train_ppl=tensor(390.8069) train_epoch_loss=tensor(5.9682) eval_ppl=tensor(14.4133) eval_epoch_loss=tensor(2.6682)\n"
          ]
        },
        {
          "output_type": "stream",
          "name": "stderr",
          "text": [
            "\r 71%|███████▏  | 5/7 [00:43<00:17,  8.69s/it]"
          ]
        },
        {
          "output_type": "stream",
          "name": "stdout",
          "text": [
            "epoch=2: train_ppl=tensor(390.8069) train_epoch_loss=tensor(5.9682) eval_ppl=tensor(49.1765) eval_epoch_loss=tensor(3.8954)\n"
          ]
        },
        {
          "output_type": "stream",
          "name": "stderr",
          "text": [
            "\r 86%|████████▌ | 6/7 [00:52<00:08,  8.69s/it]"
          ]
        },
        {
          "output_type": "stream",
          "name": "stdout",
          "text": [
            "epoch=2: train_ppl=tensor(390.8069) train_epoch_loss=tensor(5.9682) eval_ppl=tensor(191.6109) eval_epoch_loss=tensor(5.2555)\n"
          ]
        },
        {
          "output_type": "stream",
          "name": "stderr",
          "text": [
            "100%|██████████| 7/7 [00:56<00:00,  8.03s/it]\n"
          ]
        },
        {
          "output_type": "stream",
          "name": "stdout",
          "text": [
            "epoch=2: train_ppl=tensor(390.8069) train_epoch_loss=tensor(5.9682) eval_ppl=tensor(796.3022) eval_epoch_loss=tensor(6.6800)\n"
          ]
        },
        {
          "output_type": "stream",
          "name": "stderr",
          "text": [
            "100%|██████████| 7/7 [03:40<00:00, 31.56s/it]\n",
            " 14%|█▍        | 1/7 [00:08<00:49,  8.20s/it]"
          ]
        },
        {
          "output_type": "stream",
          "name": "stdout",
          "text": [
            "epoch=3: train_ppl=tensor(439.4962) train_epoch_loss=tensor(6.0856) eval_ppl=tensor(1.1646) eval_epoch_loss=tensor(0.1524)\n"
          ]
        },
        {
          "output_type": "stream",
          "name": "stderr",
          "text": [
            "\r 29%|██▊       | 2/7 [00:16<00:42,  8.49s/it]"
          ]
        },
        {
          "output_type": "stream",
          "name": "stdout",
          "text": [
            "epoch=3: train_ppl=tensor(439.4962) train_epoch_loss=tensor(6.0856) eval_ppl=tensor(1.5203) eval_epoch_loss=tensor(0.4189)\n"
          ]
        },
        {
          "output_type": "stream",
          "name": "stderr",
          "text": [
            "\r 43%|████▎     | 3/7 [00:25<00:34,  8.59s/it]"
          ]
        },
        {
          "output_type": "stream",
          "name": "stdout",
          "text": [
            "epoch=3: train_ppl=tensor(439.4962) train_epoch_loss=tensor(6.0856) eval_ppl=tensor(3.9757) eval_epoch_loss=tensor(1.3802)\n"
          ]
        },
        {
          "output_type": "stream",
          "name": "stderr",
          "text": [
            "\r 57%|█████▋    | 4/7 [00:33<00:25,  8.40s/it]"
          ]
        },
        {
          "output_type": "stream",
          "name": "stdout",
          "text": [
            "epoch=3: train_ppl=tensor(439.4962) train_epoch_loss=tensor(6.0856) eval_ppl=tensor(12.5281) eval_epoch_loss=tensor(2.5280)\n"
          ]
        },
        {
          "output_type": "stream",
          "name": "stderr",
          "text": [
            "\r 71%|███████▏  | 5/7 [00:41<00:16,  8.33s/it]"
          ]
        },
        {
          "output_type": "stream",
          "name": "stdout",
          "text": [
            "epoch=3: train_ppl=tensor(439.4962) train_epoch_loss=tensor(6.0856) eval_ppl=tensor(41.6999) eval_epoch_loss=tensor(3.7305)\n"
          ]
        },
        {
          "output_type": "stream",
          "name": "stderr",
          "text": [
            "\r 86%|████████▌ | 6/7 [00:50<00:08,  8.42s/it]"
          ]
        },
        {
          "output_type": "stream",
          "name": "stdout",
          "text": [
            "epoch=3: train_ppl=tensor(439.4962) train_epoch_loss=tensor(6.0856) eval_ppl=tensor(160.0213) eval_epoch_loss=tensor(5.0753)\n"
          ]
        },
        {
          "output_type": "stream",
          "name": "stderr",
          "text": [
            "100%|██████████| 7/7 [00:54<00:00,  7.77s/it]\n"
          ]
        },
        {
          "output_type": "stream",
          "name": "stdout",
          "text": [
            "epoch=3: train_ppl=tensor(439.4962) train_epoch_loss=tensor(6.0856) eval_ppl=tensor(665.0214) eval_epoch_loss=tensor(6.4998)\n"
          ]
        },
        {
          "output_type": "stream",
          "name": "stderr",
          "text": [
            "100%|██████████| 7/7 [03:34<00:00, 30.69s/it]\n",
            " 14%|█▍        | 1/7 [00:08<00:52,  8.80s/it]"
          ]
        },
        {
          "output_type": "stream",
          "name": "stdout",
          "text": [
            "epoch=4: train_ppl=tensor(215.8248) train_epoch_loss=tensor(5.3745) eval_ppl=tensor(1.0876) eval_epoch_loss=tensor(0.0840)\n"
          ]
        },
        {
          "output_type": "stream",
          "name": "stderr",
          "text": [
            "\r 29%|██▊       | 2/7 [00:17<00:43,  8.68s/it]"
          ]
        },
        {
          "output_type": "stream",
          "name": "stdout",
          "text": [
            "epoch=4: train_ppl=tensor(215.8248) train_epoch_loss=tensor(5.3745) eval_ppl=tensor(1.3045) eval_epoch_loss=tensor(0.2658)\n"
          ]
        },
        {
          "output_type": "stream",
          "name": "stderr",
          "text": [
            "\r 43%|████▎     | 3/7 [00:26<00:35,  8.78s/it]"
          ]
        },
        {
          "output_type": "stream",
          "name": "stdout",
          "text": [
            "epoch=4: train_ppl=tensor(215.8248) train_epoch_loss=tensor(5.3745) eval_ppl=tensor(3.2704) eval_epoch_loss=tensor(1.1849)\n"
          ]
        },
        {
          "output_type": "stream",
          "name": "stderr",
          "text": [
            "\r 57%|█████▋    | 4/7 [00:34<00:26,  8.67s/it]"
          ]
        },
        {
          "output_type": "stream",
          "name": "stdout",
          "text": [
            "epoch=4: train_ppl=tensor(215.8248) train_epoch_loss=tensor(5.3745) eval_ppl=tensor(10.0003) eval_epoch_loss=tensor(2.3026)\n"
          ]
        },
        {
          "output_type": "stream",
          "name": "stderr",
          "text": [
            "\r 71%|███████▏  | 5/7 [00:42<00:17,  8.50s/it]"
          ]
        },
        {
          "output_type": "stream",
          "name": "stdout",
          "text": [
            "epoch=4: train_ppl=tensor(215.8248) train_epoch_loss=tensor(5.3745) eval_ppl=tensor(32.5802) eval_epoch_loss=tensor(3.4837)\n"
          ]
        },
        {
          "output_type": "stream",
          "name": "stderr",
          "text": [
            "\r 86%|████████▌ | 6/7 [00:51<00:08,  8.47s/it]"
          ]
        },
        {
          "output_type": "stream",
          "name": "stdout",
          "text": [
            "epoch=4: train_ppl=tensor(215.8248) train_epoch_loss=tensor(5.3745) eval_ppl=tensor(123.2802) eval_epoch_loss=tensor(4.8145)\n"
          ]
        },
        {
          "output_type": "stream",
          "name": "stderr",
          "text": [
            "100%|██████████| 7/7 [00:55<00:00,  7.93s/it]\n"
          ]
        },
        {
          "output_type": "stream",
          "name": "stdout",
          "text": [
            "epoch=4: train_ppl=tensor(215.8248) train_epoch_loss=tensor(5.3745) eval_ppl=tensor(512.3314) eval_epoch_loss=tensor(6.2390)\n"
          ]
        },
        {
          "output_type": "stream",
          "name": "stderr",
          "text": [
            "100%|██████████| 7/7 [03:35<00:00, 30.79s/it]\n",
            " 14%|█▍        | 1/7 [00:08<00:52,  8.70s/it]"
          ]
        },
        {
          "output_type": "stream",
          "name": "stdout",
          "text": [
            "epoch=5: train_ppl=tensor(269.1813) train_epoch_loss=tensor(5.5954) eval_ppl=tensor(1.0601) eval_epoch_loss=tensor(0.0584)\n"
          ]
        },
        {
          "output_type": "stream",
          "name": "stderr",
          "text": [
            "\r 29%|██▊       | 2/7 [00:16<00:41,  8.35s/it]"
          ]
        },
        {
          "output_type": "stream",
          "name": "stdout",
          "text": [
            "epoch=5: train_ppl=tensor(269.1813) train_epoch_loss=tensor(5.5954) eval_ppl=tensor(1.1977) eval_epoch_loss=tensor(0.1804)\n"
          ]
        },
        {
          "output_type": "stream",
          "name": "stderr",
          "text": [
            "\r 43%|████▎     | 3/7 [00:25<00:34,  8.56s/it]"
          ]
        },
        {
          "output_type": "stream",
          "name": "stdout",
          "text": [
            "epoch=5: train_ppl=tensor(269.1813) train_epoch_loss=tensor(5.5954) eval_ppl=tensor(2.8910) eval_epoch_loss=tensor(1.0616)\n"
          ]
        },
        {
          "output_type": "stream",
          "name": "stderr",
          "text": [
            "\r 57%|█████▋    | 4/7 [00:34<00:25,  8.65s/it]"
          ]
        },
        {
          "output_type": "stream",
          "name": "stdout",
          "text": [
            "epoch=5: train_ppl=tensor(269.1813) train_epoch_loss=tensor(5.5954) eval_ppl=tensor(8.5908) eval_epoch_loss=tensor(2.1507)\n"
          ]
        },
        {
          "output_type": "stream",
          "name": "stderr",
          "text": [
            "\r 71%|███████▏  | 5/7 [00:43<00:17,  8.81s/it]"
          ]
        },
        {
          "output_type": "stream",
          "name": "stdout",
          "text": [
            "epoch=5: train_ppl=tensor(269.1813) train_epoch_loss=tensor(5.5954) eval_ppl=tensor(27.4456) eval_epoch_loss=tensor(3.3122)\n"
          ]
        },
        {
          "output_type": "stream",
          "name": "stderr",
          "text": [
            "\r 86%|████████▌ | 6/7 [00:52<00:08,  8.71s/it]"
          ]
        },
        {
          "output_type": "stream",
          "name": "stdout",
          "text": [
            "epoch=5: train_ppl=tensor(269.1813) train_epoch_loss=tensor(5.5954) eval_ppl=tensor(102.5585) eval_epoch_loss=tensor(4.6304)\n"
          ]
        },
        {
          "output_type": "stream",
          "name": "stderr",
          "text": [
            "100%|██████████| 7/7 [00:56<00:00,  8.03s/it]\n"
          ]
        },
        {
          "output_type": "stream",
          "name": "stdout",
          "text": [
            "epoch=5: train_ppl=tensor(269.1813) train_epoch_loss=tensor(5.5954) eval_ppl=tensor(426.2159) eval_epoch_loss=tensor(6.0549)\n"
          ]
        },
        {
          "output_type": "stream",
          "name": "stderr",
          "text": [
            "100%|██████████| 7/7 [03:37<00:00, 31.06s/it]\n",
            " 14%|█▍        | 1/7 [00:08<00:52,  8.70s/it]"
          ]
        },
        {
          "output_type": "stream",
          "name": "stdout",
          "text": [
            "epoch=6: train_ppl=tensor(215.5365) train_epoch_loss=tensor(5.3731) eval_ppl=tensor(1.0531) eval_epoch_loss=tensor(0.0517)\n"
          ]
        },
        {
          "output_type": "stream",
          "name": "stderr",
          "text": [
            "\r 29%|██▊       | 2/7 [00:17<00:43,  8.70s/it]"
          ]
        },
        {
          "output_type": "stream",
          "name": "stdout",
          "text": [
            "epoch=6: train_ppl=tensor(215.5365) train_epoch_loss=tensor(5.3731) eval_ppl=tensor(1.1463) eval_epoch_loss=tensor(0.1366)\n"
          ]
        },
        {
          "output_type": "stream",
          "name": "stderr",
          "text": [
            "\r 43%|████▎     | 3/7 [00:26<00:34,  8.66s/it]"
          ]
        },
        {
          "output_type": "stream",
          "name": "stdout",
          "text": [
            "epoch=6: train_ppl=tensor(215.5365) train_epoch_loss=tensor(5.3731) eval_ppl=tensor(2.6692) eval_epoch_loss=tensor(0.9818)\n"
          ]
        },
        {
          "output_type": "stream",
          "name": "stderr",
          "text": [
            "\r 57%|█████▋    | 4/7 [00:33<00:24,  8.28s/it]"
          ]
        },
        {
          "output_type": "stream",
          "name": "stdout",
          "text": [
            "epoch=6: train_ppl=tensor(215.5365) train_epoch_loss=tensor(5.3731) eval_ppl=tensor(7.7357) eval_epoch_loss=tensor(2.0459)\n"
          ]
        },
        {
          "output_type": "stream",
          "name": "stderr",
          "text": [
            "\r 71%|███████▏  | 5/7 [00:42<00:16,  8.43s/it]"
          ]
        },
        {
          "output_type": "stream",
          "name": "stdout",
          "text": [
            "epoch=6: train_ppl=tensor(215.5365) train_epoch_loss=tensor(5.3731) eval_ppl=tensor(24.2541) eval_epoch_loss=tensor(3.1886)\n"
          ]
        },
        {
          "output_type": "stream",
          "name": "stderr",
          "text": [
            "\r 86%|████████▌ | 6/7 [00:50<00:08,  8.39s/it]"
          ]
        },
        {
          "output_type": "stream",
          "name": "stdout",
          "text": [
            "epoch=6: train_ppl=tensor(215.5365) train_epoch_loss=tensor(5.3731) eval_ppl=tensor(89.4853) eval_epoch_loss=tensor(4.4941)\n"
          ]
        },
        {
          "output_type": "stream",
          "name": "stderr",
          "text": [
            "100%|██████████| 7/7 [00:54<00:00,  7.84s/it]\n"
          ]
        },
        {
          "output_type": "stream",
          "name": "stdout",
          "text": [
            "epoch=6: train_ppl=tensor(215.5365) train_epoch_loss=tensor(5.3731) eval_ppl=tensor(371.8858) eval_epoch_loss=tensor(5.9186)\n"
          ]
        },
        {
          "output_type": "stream",
          "name": "stderr",
          "text": [
            "100%|██████████| 7/7 [03:39<00:00, 31.29s/it]\n",
            " 14%|█▍        | 1/7 [00:08<00:49,  8.30s/it]"
          ]
        },
        {
          "output_type": "stream",
          "name": "stdout",
          "text": [
            "epoch=7: train_ppl=tensor(266.1092) train_epoch_loss=tensor(5.5839) eval_ppl=tensor(1.0392) eval_epoch_loss=tensor(0.0385)\n"
          ]
        },
        {
          "output_type": "stream",
          "name": "stderr",
          "text": [
            "\r 29%|██▊       | 2/7 [00:16<00:42,  8.48s/it]"
          ]
        },
        {
          "output_type": "stream",
          "name": "stdout",
          "text": [
            "epoch=7: train_ppl=tensor(266.1092) train_epoch_loss=tensor(5.5839) eval_ppl=tensor(1.1050) eval_epoch_loss=tensor(0.0998)\n"
          ]
        },
        {
          "output_type": "stream",
          "name": "stderr",
          "text": [
            "\r 43%|████▎     | 3/7 [00:25<00:34,  8.58s/it]"
          ]
        },
        {
          "output_type": "stream",
          "name": "stdout",
          "text": [
            "epoch=7: train_ppl=tensor(266.1092) train_epoch_loss=tensor(5.5839) eval_ppl=tensor(2.4649) eval_epoch_loss=tensor(0.9021)\n"
          ]
        },
        {
          "output_type": "stream",
          "name": "stderr",
          "text": [
            "\r 57%|█████▋    | 4/7 [00:34<00:25,  8.67s/it]"
          ]
        },
        {
          "output_type": "stream",
          "name": "stdout",
          "text": [
            "epoch=7: train_ppl=tensor(266.1092) train_epoch_loss=tensor(5.5839) eval_ppl=tensor(6.9487) eval_epoch_loss=tensor(1.9386)\n"
          ]
        },
        {
          "output_type": "stream",
          "name": "stderr",
          "text": [
            "\r 71%|███████▏  | 5/7 [00:43<00:17,  8.75s/it]"
          ]
        },
        {
          "output_type": "stream",
          "name": "stdout",
          "text": [
            "epoch=7: train_ppl=tensor(266.1092) train_epoch_loss=tensor(5.5839) eval_ppl=tensor(21.4258) eval_epoch_loss=tensor(3.0646)\n"
          ]
        },
        {
          "output_type": "stream",
          "name": "stderr",
          "text": [
            "\r 86%|████████▌ | 6/7 [00:51<00:08,  8.63s/it]"
          ]
        },
        {
          "output_type": "stream",
          "name": "stdout",
          "text": [
            "epoch=7: train_ppl=tensor(266.1092) train_epoch_loss=tensor(5.5839) eval_ppl=tensor(78.1372) eval_epoch_loss=tensor(4.3585)\n"
          ]
        },
        {
          "output_type": "stream",
          "name": "stderr",
          "text": [
            "100%|██████████| 7/7 [00:55<00:00,  7.99s/it]\n"
          ]
        },
        {
          "output_type": "stream",
          "name": "stdout",
          "text": [
            "epoch=7: train_ppl=tensor(266.1092) train_epoch_loss=tensor(5.5839) eval_ppl=tensor(324.7249) eval_epoch_loss=tensor(5.7830)\n"
          ]
        },
        {
          "output_type": "stream",
          "name": "stderr",
          "text": [
            "100%|██████████| 7/7 [03:38<00:00, 31.24s/it]\n",
            " 14%|█▍        | 1/7 [00:08<00:52,  8.70s/it]"
          ]
        },
        {
          "output_type": "stream",
          "name": "stdout",
          "text": [
            "epoch=8: train_ppl=tensor(237.4848) train_epoch_loss=tensor(5.4701) eval_ppl=tensor(1.0377) eval_epoch_loss=tensor(0.0370)\n"
          ]
        },
        {
          "output_type": "stream",
          "name": "stderr",
          "text": [
            "\r 29%|██▊       | 2/7 [00:17<00:44,  8.94s/it]"
          ]
        },
        {
          "output_type": "stream",
          "name": "stdout",
          "text": [
            "epoch=8: train_ppl=tensor(237.4848) train_epoch_loss=tensor(5.4701) eval_ppl=tensor(1.0854) eval_epoch_loss=tensor(0.0819)\n"
          ]
        },
        {
          "output_type": "stream",
          "name": "stderr",
          "text": [
            "\r 43%|████▎     | 3/7 [00:26<00:35,  8.92s/it]"
          ]
        },
        {
          "output_type": "stream",
          "name": "stdout",
          "text": [
            "epoch=8: train_ppl=tensor(237.4848) train_epoch_loss=tensor(5.4701) eval_ppl=tensor(2.3444) eval_epoch_loss=tensor(0.8520)\n"
          ]
        },
        {
          "output_type": "stream",
          "name": "stderr",
          "text": [
            "\r 57%|█████▋    | 4/7 [00:34<00:25,  8.40s/it]"
          ]
        },
        {
          "output_type": "stream",
          "name": "stdout",
          "text": [
            "epoch=8: train_ppl=tensor(237.4848) train_epoch_loss=tensor(5.4701) eval_ppl=tensor(6.4427) eval_epoch_loss=tensor(1.8630)\n"
          ]
        },
        {
          "output_type": "stream",
          "name": "stderr",
          "text": [
            "\r 71%|███████▏  | 5/7 [00:42<00:16,  8.47s/it]"
          ]
        },
        {
          "output_type": "stream",
          "name": "stdout",
          "text": [
            "epoch=8: train_ppl=tensor(237.4848) train_epoch_loss=tensor(5.4701) eval_ppl=tensor(19.5578) eval_epoch_loss=tensor(2.9734)\n"
          ]
        },
        {
          "output_type": "stream",
          "name": "stderr",
          "text": [
            "\r 86%|████████▌ | 6/7 [00:51<00:08,  8.48s/it]"
          ]
        },
        {
          "output_type": "stream",
          "name": "stdout",
          "text": [
            "epoch=8: train_ppl=tensor(237.4848) train_epoch_loss=tensor(5.4701) eval_ppl=tensor(70.5598) eval_epoch_loss=tensor(4.2565)\n"
          ]
        },
        {
          "output_type": "stream",
          "name": "stderr",
          "text": [
            "100%|██████████| 7/7 [00:55<00:00,  7.89s/it]\n"
          ]
        },
        {
          "output_type": "stream",
          "name": "stdout",
          "text": [
            "epoch=8: train_ppl=tensor(237.4848) train_epoch_loss=tensor(5.4701) eval_ppl=tensor(293.2345) eval_epoch_loss=tensor(5.6810)\n"
          ]
        },
        {
          "output_type": "stream",
          "name": "stderr",
          "text": [
            "100%|██████████| 7/7 [03:35<00:00, 30.83s/it]\n",
            " 14%|█▍        | 1/7 [00:08<00:52,  8.70s/it]"
          ]
        },
        {
          "output_type": "stream",
          "name": "stdout",
          "text": [
            "epoch=9: train_ppl=tensor(229.6255) train_epoch_loss=tensor(5.4364) eval_ppl=tensor(1.0351) eval_epoch_loss=tensor(0.0345)\n"
          ]
        },
        {
          "output_type": "stream",
          "name": "stderr",
          "text": [
            "\r 29%|██▊       | 2/7 [00:17<00:44,  8.88s/it]"
          ]
        },
        {
          "output_type": "stream",
          "name": "stdout",
          "text": [
            "epoch=9: train_ppl=tensor(229.6255) train_epoch_loss=tensor(5.4364) eval_ppl=tensor(1.0688) eval_epoch_loss=tensor(0.0665)\n"
          ]
        },
        {
          "output_type": "stream",
          "name": "stderr",
          "text": [
            "\r 43%|████▎     | 3/7 [00:25<00:33,  8.43s/it]"
          ]
        },
        {
          "output_type": "stream",
          "name": "stdout",
          "text": [
            "epoch=9: train_ppl=tensor(229.6255) train_epoch_loss=tensor(5.4364) eval_ppl=tensor(2.2341) eval_epoch_loss=tensor(0.8038)\n"
          ]
        },
        {
          "output_type": "stream",
          "name": "stderr",
          "text": [
            "\r 57%|█████▋    | 4/7 [00:33<00:25,  8.38s/it]"
          ]
        },
        {
          "output_type": "stream",
          "name": "stdout",
          "text": [
            "epoch=9: train_ppl=tensor(229.6255) train_epoch_loss=tensor(5.4364) eval_ppl=tensor(6.0171) eval_epoch_loss=tensor(1.7946)\n"
          ]
        },
        {
          "output_type": "stream",
          "name": "stderr",
          "text": [
            "\r 71%|███████▏  | 5/7 [00:42<00:16,  8.39s/it]"
          ]
        },
        {
          "output_type": "stream",
          "name": "stdout",
          "text": [
            "epoch=9: train_ppl=tensor(229.6255) train_epoch_loss=tensor(5.4364) eval_ppl=tensor(17.9919) eval_epoch_loss=tensor(2.8899)\n"
          ]
        },
        {
          "output_type": "stream",
          "name": "stderr",
          "text": [
            "\r 86%|████████▌ | 6/7 [00:50<00:08,  8.29s/it]"
          ]
        },
        {
          "output_type": "stream",
          "name": "stdout",
          "text": [
            "epoch=9: train_ppl=tensor(229.6255) train_epoch_loss=tensor(5.4364) eval_ppl=tensor(64.2337) eval_epoch_loss=tensor(4.1625)\n"
          ]
        },
        {
          "output_type": "stream",
          "name": "stderr",
          "text": [
            "100%|██████████| 7/7 [00:54<00:00,  7.80s/it]\n"
          ]
        },
        {
          "output_type": "stream",
          "name": "stdout",
          "text": [
            "epoch=9: train_ppl=tensor(229.6255) train_epoch_loss=tensor(5.4364) eval_ppl=tensor(266.9443) eval_epoch_loss=tensor(5.5870)\n"
          ]
        },
        {
          "output_type": "stream",
          "name": "stderr",
          "text": [
            "100%|██████████| 7/7 [03:39<00:00, 31.34s/it]\n",
            " 14%|█▍        | 1/7 [00:08<00:51,  8.60s/it]"
          ]
        },
        {
          "output_type": "stream",
          "name": "stdout",
          "text": [
            "epoch=10: train_ppl=tensor(123.0719) train_epoch_loss=tensor(4.8128) eval_ppl=tensor(1.0280) eval_epoch_loss=tensor(0.0276)\n"
          ]
        },
        {
          "output_type": "stream",
          "name": "stderr",
          "text": [
            "\r 29%|██▊       | 2/7 [00:16<00:41,  8.30s/it]"
          ]
        },
        {
          "output_type": "stream",
          "name": "stdout",
          "text": [
            "epoch=10: train_ppl=tensor(123.0719) train_epoch_loss=tensor(4.8128) eval_ppl=tensor(1.0541) eval_epoch_loss=tensor(0.0527)\n"
          ]
        },
        {
          "output_type": "stream",
          "name": "stderr",
          "text": [
            "\r 43%|████▎     | 3/7 [00:25<00:33,  8.39s/it]"
          ]
        },
        {
          "output_type": "stream",
          "name": "stdout",
          "text": [
            "epoch=10: train_ppl=tensor(123.0719) train_epoch_loss=tensor(4.8128) eval_ppl=tensor(2.1353) eval_epoch_loss=tensor(0.7586)\n"
          ]
        },
        {
          "output_type": "stream",
          "name": "stderr",
          "text": [
            "\r 57%|█████▋    | 4/7 [00:33<00:25,  8.36s/it]"
          ]
        },
        {
          "output_type": "stream",
          "name": "stdout",
          "text": [
            "epoch=10: train_ppl=tensor(123.0719) train_epoch_loss=tensor(4.8128) eval_ppl=tensor(5.6124) eval_epoch_loss=tensor(1.7250)\n"
          ]
        },
        {
          "output_type": "stream",
          "name": "stderr",
          "text": [
            "\r 71%|███████▏  | 5/7 [00:41<00:16,  8.19s/it]"
          ]
        },
        {
          "output_type": "stream",
          "name": "stdout",
          "text": [
            "epoch=10: train_ppl=tensor(123.0719) train_epoch_loss=tensor(4.8128) eval_ppl=tensor(16.5605) eval_epoch_loss=tensor(2.8070)\n"
          ]
        },
        {
          "output_type": "stream",
          "name": "stderr",
          "text": [
            "\r 86%|████████▌ | 6/7 [00:49<00:08,  8.20s/it]"
          ]
        },
        {
          "output_type": "stream",
          "name": "stdout",
          "text": [
            "epoch=10: train_ppl=tensor(123.0719) train_epoch_loss=tensor(4.8128) eval_ppl=tensor(58.6311) eval_epoch_loss=tensor(4.0713)\n"
          ]
        },
        {
          "output_type": "stream",
          "name": "stderr",
          "text": [
            "100%|██████████| 7/7 [00:53<00:00,  7.67s/it]\n"
          ]
        },
        {
          "output_type": "stream",
          "name": "stdout",
          "text": [
            "epoch=10: train_ppl=tensor(123.0719) train_epoch_loss=tensor(4.8128) eval_ppl=tensor(243.6608) eval_epoch_loss=tensor(5.4958)\n"
          ]
        },
        {
          "output_type": "stream",
          "name": "stderr",
          "text": [
            "100%|██████████| 7/7 [03:33<00:00, 30.43s/it]\n",
            " 14%|█▍        | 1/7 [00:08<00:49,  8.30s/it]"
          ]
        },
        {
          "output_type": "stream",
          "name": "stdout",
          "text": [
            "epoch=11: train_ppl=tensor(174.8485) train_epoch_loss=tensor(5.1639) eval_ppl=tensor(1.0261) eval_epoch_loss=tensor(0.0258)\n"
          ]
        },
        {
          "output_type": "stream",
          "name": "stderr",
          "text": [
            "\r 29%|██▊       | 2/7 [00:16<00:41,  8.36s/it]"
          ]
        },
        {
          "output_type": "stream",
          "name": "stdout",
          "text": [
            "epoch=11: train_ppl=tensor(174.8485) train_epoch_loss=tensor(5.1639) eval_ppl=tensor(1.0437) eval_epoch_loss=tensor(0.0428)\n"
          ]
        },
        {
          "output_type": "stream",
          "name": "stderr",
          "text": [
            "\r 43%|████▎     | 3/7 [00:25<00:34,  8.51s/it]"
          ]
        },
        {
          "output_type": "stream",
          "name": "stdout",
          "text": [
            "epoch=11: train_ppl=tensor(174.8485) train_epoch_loss=tensor(5.1639) eval_ppl=tensor(2.0497) eval_epoch_loss=tensor(0.7177)\n"
          ]
        },
        {
          "output_type": "stream",
          "name": "stderr",
          "text": [
            "\r 57%|█████▋    | 4/7 [00:33<00:25,  8.47s/it]"
          ]
        },
        {
          "output_type": "stream",
          "name": "stdout",
          "text": [
            "epoch=11: train_ppl=tensor(174.8485) train_epoch_loss=tensor(5.1639) eval_ppl=tensor(5.3123) eval_epoch_loss=tensor(1.6700)\n"
          ]
        },
        {
          "output_type": "stream",
          "name": "stderr",
          "text": [
            "\r 71%|███████▏  | 5/7 [00:41<00:16,  8.23s/it]"
          ]
        },
        {
          "output_type": "stream",
          "name": "stdout",
          "text": [
            "epoch=11: train_ppl=tensor(174.8485) train_epoch_loss=tensor(5.1639) eval_ppl=tensor(15.4839) eval_epoch_loss=tensor(2.7398)\n"
          ]
        },
        {
          "output_type": "stream",
          "name": "stderr",
          "text": [
            "\r 86%|████████▌ | 6/7 [00:50<00:08,  8.29s/it]"
          ]
        },
        {
          "output_type": "stream",
          "name": "stdout",
          "text": [
            "epoch=11: train_ppl=tensor(174.8485) train_epoch_loss=tensor(5.1639) eval_ppl=tensor(54.4173) eval_epoch_loss=tensor(3.9967)\n"
          ]
        },
        {
          "output_type": "stream",
          "name": "stderr",
          "text": [
            "100%|██████████| 7/7 [00:53<00:00,  7.70s/it]\n"
          ]
        },
        {
          "output_type": "stream",
          "name": "stdout",
          "text": [
            "epoch=11: train_ppl=tensor(174.8485) train_epoch_loss=tensor(5.1639) eval_ppl=tensor(226.1488) eval_epoch_loss=tensor(5.4212)\n"
          ]
        },
        {
          "output_type": "stream",
          "name": "stderr",
          "text": [
            "100%|██████████| 7/7 [03:36<00:00, 30.99s/it]\n",
            " 14%|█▍        | 1/7 [00:08<00:51,  8.61s/it]"
          ]
        },
        {
          "output_type": "stream",
          "name": "stdout",
          "text": [
            "epoch=12: train_ppl=tensor(141.3080) train_epoch_loss=tensor(4.9509) eval_ppl=tensor(1.0246) eval_epoch_loss=tensor(0.0243)\n"
          ]
        },
        {
          "output_type": "stream",
          "name": "stderr",
          "text": [
            "\r 29%|██▊       | 2/7 [00:17<00:43,  8.66s/it]"
          ]
        },
        {
          "output_type": "stream",
          "name": "stdout",
          "text": [
            "epoch=12: train_ppl=tensor(141.3080) train_epoch_loss=tensor(4.9509) eval_ppl=tensor(1.0394) eval_epoch_loss=tensor(0.0386)\n"
          ]
        },
        {
          "output_type": "stream",
          "name": "stderr",
          "text": [
            "\r 43%|████▎     | 3/7 [00:25<00:34,  8.55s/it]"
          ]
        },
        {
          "output_type": "stream",
          "name": "stdout",
          "text": [
            "epoch=12: train_ppl=tensor(141.3080) train_epoch_loss=tensor(4.9509) eval_ppl=tensor(1.9819) eval_epoch_loss=tensor(0.6841)\n"
          ]
        },
        {
          "output_type": "stream",
          "name": "stderr",
          "text": [
            "\r 57%|█████▋    | 4/7 [00:34<00:25,  8.48s/it]"
          ]
        },
        {
          "output_type": "stream",
          "name": "stdout",
          "text": [
            "epoch=12: train_ppl=tensor(141.3080) train_epoch_loss=tensor(4.9509) eval_ppl=tensor(5.0244) eval_epoch_loss=tensor(1.6143)\n"
          ]
        },
        {
          "output_type": "stream",
          "name": "stderr",
          "text": [
            "\r 71%|███████▏  | 5/7 [00:41<00:16,  8.24s/it]"
          ]
        },
        {
          "output_type": "stream",
          "name": "stdout",
          "text": [
            "epoch=12: train_ppl=tensor(141.3080) train_epoch_loss=tensor(4.9509) eval_ppl=tensor(14.4696) eval_epoch_loss=tensor(2.6721)\n"
          ]
        },
        {
          "output_type": "stream",
          "name": "stderr",
          "text": [
            "\r 86%|████████▌ | 6/7 [00:50<00:08,  8.39s/it]"
          ]
        },
        {
          "output_type": "stream",
          "name": "stdout",
          "text": [
            "epoch=12: train_ppl=tensor(141.3080) train_epoch_loss=tensor(4.9509) eval_ppl=tensor(50.4797) eval_epoch_loss=tensor(3.9216)\n"
          ]
        },
        {
          "output_type": "stream",
          "name": "stderr",
          "text": [
            "100%|██████████| 7/7 [00:54<00:00,  7.80s/it]\n"
          ]
        },
        {
          "output_type": "stream",
          "name": "stdout",
          "text": [
            "epoch=12: train_ppl=tensor(141.3080) train_epoch_loss=tensor(4.9509) eval_ppl=tensor(209.7851) eval_epoch_loss=tensor(5.3461)\n"
          ]
        },
        {
          "output_type": "stream",
          "name": "stderr",
          "text": [
            "100%|██████████| 7/7 [03:37<00:00, 31.06s/it]\n",
            " 14%|█▍        | 1/7 [00:08<00:51,  8.60s/it]"
          ]
        },
        {
          "output_type": "stream",
          "name": "stdout",
          "text": [
            "epoch=13: train_ppl=tensor(97.6251) train_epoch_loss=tensor(4.5811) eval_ppl=tensor(1.0253) eval_epoch_loss=tensor(0.0250)\n"
          ]
        },
        {
          "output_type": "stream",
          "name": "stderr",
          "text": [
            "\r 29%|██▊       | 2/7 [00:16<00:42,  8.42s/it]"
          ]
        },
        {
          "output_type": "stream",
          "name": "stdout",
          "text": [
            "epoch=13: train_ppl=tensor(97.6251) train_epoch_loss=tensor(4.5811) eval_ppl=tensor(1.0371) eval_epoch_loss=tensor(0.0364)\n"
          ]
        },
        {
          "output_type": "stream",
          "name": "stderr",
          "text": [
            "\r 43%|████▎     | 3/7 [00:25<00:33,  8.41s/it]"
          ]
        },
        {
          "output_type": "stream",
          "name": "stdout",
          "text": [
            "epoch=13: train_ppl=tensor(97.6251) train_epoch_loss=tensor(4.5811) eval_ppl=tensor(1.9241) eval_epoch_loss=tensor(0.6545)\n"
          ]
        },
        {
          "output_type": "stream",
          "name": "stderr",
          "text": [
            "\r 57%|█████▋    | 4/7 [00:34<00:25,  8.53s/it]"
          ]
        },
        {
          "output_type": "stream",
          "name": "stdout",
          "text": [
            "epoch=13: train_ppl=tensor(97.6251) train_epoch_loss=tensor(4.5811) eval_ppl=tensor(4.7867) eval_epoch_loss=tensor(1.5658)\n"
          ]
        },
        {
          "output_type": "stream",
          "name": "stderr",
          "text": [
            "\r 71%|███████▏  | 5/7 [00:42<00:17,  8.55s/it]"
          ]
        },
        {
          "output_type": "stream",
          "name": "stdout",
          "text": [
            "epoch=13: train_ppl=tensor(97.6251) train_epoch_loss=tensor(4.5811) eval_ppl=tensor(13.6350) eval_epoch_loss=tensor(2.6126)\n"
          ]
        },
        {
          "output_type": "stream",
          "name": "stderr",
          "text": [
            "\r 86%|████████▌ | 6/7 [00:50<00:08,  8.33s/it]"
          ]
        },
        {
          "output_type": "stream",
          "name": "stdout",
          "text": [
            "epoch=13: train_ppl=tensor(97.6251) train_epoch_loss=tensor(4.5811) eval_ppl=tensor(47.2524) eval_epoch_loss=tensor(3.8555)\n"
          ]
        },
        {
          "output_type": "stream",
          "name": "stderr",
          "text": [
            "100%|██████████| 7/7 [00:54<00:00,  7.80s/it]\n"
          ]
        },
        {
          "output_type": "stream",
          "name": "stdout",
          "text": [
            "epoch=13: train_ppl=tensor(97.6251) train_epoch_loss=tensor(4.5811) eval_ppl=tensor(196.3727) eval_epoch_loss=tensor(5.2800)\n"
          ]
        },
        {
          "output_type": "stream",
          "name": "stderr",
          "text": [
            "100%|██████████| 7/7 [03:38<00:00, 31.17s/it]\n",
            " 14%|█▍        | 1/7 [00:08<00:49,  8.30s/it]"
          ]
        },
        {
          "output_type": "stream",
          "name": "stdout",
          "text": [
            "epoch=14: train_ppl=tensor(67.0832) train_epoch_loss=tensor(4.2059) eval_ppl=tensor(1.0193) eval_epoch_loss=tensor(0.0192)\n"
          ]
        },
        {
          "output_type": "stream",
          "name": "stderr",
          "text": [
            "\r 29%|██▊       | 2/7 [00:16<00:42,  8.48s/it]"
          ]
        },
        {
          "output_type": "stream",
          "name": "stdout",
          "text": [
            "epoch=14: train_ppl=tensor(67.0832) train_epoch_loss=tensor(4.2059) eval_ppl=tensor(1.0291) eval_epoch_loss=tensor(0.0287)\n"
          ]
        },
        {
          "output_type": "stream",
          "name": "stderr",
          "text": [
            "\r 43%|████▎     | 3/7 [00:25<00:34,  8.53s/it]"
          ]
        },
        {
          "output_type": "stream",
          "name": "stdout",
          "text": [
            "epoch=14: train_ppl=tensor(67.0832) train_epoch_loss=tensor(4.2059) eval_ppl=tensor(1.8603) eval_epoch_loss=tensor(0.6208)\n"
          ]
        },
        {
          "output_type": "stream",
          "name": "stderr",
          "text": [
            "\r 57%|█████▋    | 4/7 [00:33<00:24,  8.17s/it]"
          ]
        },
        {
          "output_type": "stream",
          "name": "stdout",
          "text": [
            "epoch=14: train_ppl=tensor(67.0832) train_epoch_loss=tensor(4.2059) eval_ppl=tensor(4.5605) eval_epoch_loss=tensor(1.5174)\n"
          ]
        },
        {
          "output_type": "stream",
          "name": "stderr",
          "text": [
            "\r 71%|███████▏  | 5/7 [00:41<00:16,  8.18s/it]"
          ]
        },
        {
          "output_type": "stream",
          "name": "stdout",
          "text": [
            "epoch=14: train_ppl=tensor(67.0832) train_epoch_loss=tensor(4.2059) eval_ppl=tensor(12.8605) eval_epoch_loss=tensor(2.5542)\n"
          ]
        },
        {
          "output_type": "stream",
          "name": "stderr",
          "text": [
            "\r 86%|████████▌ | 6/7 [00:49<00:08,  8.29s/it]"
          ]
        },
        {
          "output_type": "stream",
          "name": "stdout",
          "text": [
            "epoch=14: train_ppl=tensor(67.0832) train_epoch_loss=tensor(4.2059) eval_ppl=tensor(44.2779) eval_epoch_loss=tensor(3.7905)\n"
          ]
        },
        {
          "output_type": "stream",
          "name": "stderr",
          "text": [
            "100%|██████████| 7/7 [00:53<00:00,  7.70s/it]\n"
          ]
        },
        {
          "output_type": "stream",
          "name": "stdout",
          "text": [
            "epoch=14: train_ppl=tensor(67.0832) train_epoch_loss=tensor(4.2059) eval_ppl=tensor(184.0112) eval_epoch_loss=tensor(5.2150)\n"
          ]
        },
        {
          "output_type": "stream",
          "name": "stderr",
          "text": [
            "100%|██████████| 7/7 [03:40<00:00, 31.46s/it]\n",
            " 14%|█▍        | 1/7 [00:08<00:49,  8.20s/it]"
          ]
        },
        {
          "output_type": "stream",
          "name": "stdout",
          "text": [
            "epoch=15: train_ppl=tensor(122.7414) train_epoch_loss=tensor(4.8101) eval_ppl=tensor(1.0202) eval_epoch_loss=tensor(0.0200)\n"
          ]
        },
        {
          "output_type": "stream",
          "name": "stderr",
          "text": [
            "\r 29%|██▊       | 2/7 [00:17<00:42,  8.55s/it]"
          ]
        },
        {
          "output_type": "stream",
          "name": "stdout",
          "text": [
            "epoch=15: train_ppl=tensor(122.7414) train_epoch_loss=tensor(4.8101) eval_ppl=tensor(1.0286) eval_epoch_loss=tensor(0.0282)\n"
          ]
        },
        {
          "output_type": "stream",
          "name": "stderr",
          "text": [
            "\r 43%|████▎     | 3/7 [00:25<00:34,  8.62s/it]"
          ]
        },
        {
          "output_type": "stream",
          "name": "stdout",
          "text": [
            "epoch=15: train_ppl=tensor(122.7414) train_epoch_loss=tensor(4.8101) eval_ppl=tensor(1.8308) eval_epoch_loss=tensor(0.6047)\n"
          ]
        },
        {
          "output_type": "stream",
          "name": "stderr",
          "text": [
            "\r 57%|█████▋    | 4/7 [00:34<00:26,  8.73s/it]"
          ]
        },
        {
          "output_type": "stream",
          "name": "stdout",
          "text": [
            "epoch=15: train_ppl=tensor(122.7414) train_epoch_loss=tensor(4.8101) eval_ppl=tensor(4.4140) eval_epoch_loss=tensor(1.4848)\n"
          ]
        },
        {
          "output_type": "stream",
          "name": "stderr",
          "text": [
            "\r 71%|███████▏  | 5/7 [00:42<00:16,  8.47s/it]"
          ]
        },
        {
          "output_type": "stream",
          "name": "stdout",
          "text": [
            "epoch=15: train_ppl=tensor(122.7414) train_epoch_loss=tensor(4.8101) eval_ppl=tensor(12.3390) eval_epoch_loss=tensor(2.5128)\n"
          ]
        },
        {
          "output_type": "stream",
          "name": "stderr",
          "text": [
            "\r 86%|████████▌ | 6/7 [00:51<00:08,  8.45s/it]"
          ]
        },
        {
          "output_type": "stream",
          "name": "stdout",
          "text": [
            "epoch=15: train_ppl=tensor(122.7414) train_epoch_loss=tensor(4.8101) eval_ppl=tensor(42.2267) eval_epoch_loss=tensor(3.7431)\n"
          ]
        },
        {
          "output_type": "stream",
          "name": "stderr",
          "text": [
            "100%|██████████| 7/7 [00:55<00:00,  7.89s/it]\n"
          ]
        },
        {
          "output_type": "stream",
          "name": "stdout",
          "text": [
            "epoch=15: train_ppl=tensor(122.7414) train_epoch_loss=tensor(4.8101) eval_ppl=tensor(175.4870) eval_epoch_loss=tensor(5.1676)\n"
          ]
        },
        {
          "output_type": "stream",
          "name": "stderr",
          "text": [
            "100%|██████████| 7/7 [03:36<00:00, 30.90s/it]\n",
            " 14%|█▍        | 1/7 [00:08<00:51,  8.60s/it]"
          ]
        },
        {
          "output_type": "stream",
          "name": "stdout",
          "text": [
            "epoch=16: train_ppl=tensor(85.7990) train_epoch_loss=tensor(4.4520) eval_ppl=tensor(1.0131) eval_epoch_loss=tensor(0.0130)\n"
          ]
        },
        {
          "output_type": "stream",
          "name": "stderr",
          "text": [
            "\r 29%|██▊       | 2/7 [00:16<00:42,  8.48s/it]"
          ]
        },
        {
          "output_type": "stream",
          "name": "stdout",
          "text": [
            "epoch=16: train_ppl=tensor(85.7990) train_epoch_loss=tensor(4.4520) eval_ppl=tensor(1.0201) eval_epoch_loss=tensor(0.0199)\n"
          ]
        },
        {
          "output_type": "stream",
          "name": "stderr",
          "text": [
            "\r 43%|████▎     | 3/7 [00:25<00:34,  8.58s/it]"
          ]
        },
        {
          "output_type": "stream",
          "name": "stdout",
          "text": [
            "epoch=16: train_ppl=tensor(85.7990) train_epoch_loss=tensor(4.4520) eval_ppl=tensor(1.7737) eval_epoch_loss=tensor(0.5731)\n"
          ]
        },
        {
          "output_type": "stream",
          "name": "stderr",
          "text": [
            "\r 57%|█████▋    | 4/7 [00:34<00:25,  8.63s/it]"
          ]
        },
        {
          "output_type": "stream",
          "name": "stdout",
          "text": [
            "epoch=16: train_ppl=tensor(85.7990) train_epoch_loss=tensor(4.4520) eval_ppl=tensor(4.2223) eval_epoch_loss=tensor(1.4404)\n"
          ]
        },
        {
          "output_type": "stream",
          "name": "stderr",
          "text": [
            "\r 71%|███████▏  | 5/7 [00:43<00:17,  8.65s/it]"
          ]
        },
        {
          "output_type": "stream",
          "name": "stdout",
          "text": [
            "epoch=16: train_ppl=tensor(85.7990) train_epoch_loss=tensor(4.4520) eval_ppl=tensor(11.6986) eval_epoch_loss=tensor(2.4595)\n"
          ]
        },
        {
          "output_type": "stream",
          "name": "stderr",
          "text": [
            "\r 86%|████████▌ | 6/7 [00:51<00:08,  8.43s/it]"
          ]
        },
        {
          "output_type": "stream",
          "name": "stdout",
          "text": [
            "epoch=16: train_ppl=tensor(85.7990) train_epoch_loss=tensor(4.4520) eval_ppl=tensor(39.7945) eval_epoch_loss=tensor(3.6837)\n"
          ]
        },
        {
          "output_type": "stream",
          "name": "stderr",
          "text": [
            "100%|██████████| 7/7 [00:55<00:00,  7.89s/it]\n"
          ]
        },
        {
          "output_type": "stream",
          "name": "stdout",
          "text": [
            "epoch=16: train_ppl=tensor(85.7990) train_epoch_loss=tensor(4.4520) eval_ppl=tensor(165.3791) eval_epoch_loss=tensor(5.1082)\n"
          ]
        },
        {
          "output_type": "stream",
          "name": "stderr",
          "text": [
            "100%|██████████| 7/7 [03:40<00:00, 31.54s/it]\n",
            " 14%|█▍        | 1/7 [00:08<00:50,  8.40s/it]"
          ]
        },
        {
          "output_type": "stream",
          "name": "stdout",
          "text": [
            "epoch=17: train_ppl=tensor(56.1938) train_epoch_loss=tensor(4.0288) eval_ppl=tensor(1.0218) eval_epoch_loss=tensor(0.0216)\n"
          ]
        },
        {
          "output_type": "stream",
          "name": "stderr",
          "text": [
            "\r 29%|██▊       | 2/7 [00:17<00:42,  8.52s/it]"
          ]
        },
        {
          "output_type": "stream",
          "name": "stdout",
          "text": [
            "epoch=17: train_ppl=tensor(56.1938) train_epoch_loss=tensor(4.0288) eval_ppl=tensor(1.0281) eval_epoch_loss=tensor(0.0277)\n"
          ]
        },
        {
          "output_type": "stream",
          "name": "stderr",
          "text": [
            "\r 43%|████▎     | 3/7 [00:25<00:34,  8.51s/it]"
          ]
        },
        {
          "output_type": "stream",
          "name": "stdout",
          "text": [
            "epoch=17: train_ppl=tensor(56.1938) train_epoch_loss=tensor(4.0288) eval_ppl=tensor(1.7532) eval_epoch_loss=tensor(0.5615)\n"
          ]
        },
        {
          "output_type": "stream",
          "name": "stderr",
          "text": [
            "\r 57%|█████▋    | 4/7 [00:33<00:25,  8.51s/it]"
          ]
        },
        {
          "output_type": "stream",
          "name": "stdout",
          "text": [
            "epoch=17: train_ppl=tensor(56.1938) train_epoch_loss=tensor(4.0288) eval_ppl=tensor(4.1363) eval_epoch_loss=tensor(1.4198)\n"
          ]
        },
        {
          "output_type": "stream",
          "name": "stderr",
          "text": [
            "\r 71%|███████▏  | 5/7 [00:42<00:16,  8.32s/it]"
          ]
        },
        {
          "output_type": "stream",
          "name": "stdout",
          "text": [
            "epoch=17: train_ppl=tensor(56.1938) train_epoch_loss=tensor(4.0288) eval_ppl=tensor(11.3768) eval_epoch_loss=tensor(2.4316)\n"
          ]
        },
        {
          "output_type": "stream",
          "name": "stderr",
          "text": [
            "\r 86%|████████▌ | 6/7 [00:50<00:08,  8.38s/it]"
          ]
        },
        {
          "output_type": "stream",
          "name": "stdout",
          "text": [
            "epoch=17: train_ppl=tensor(56.1938) train_epoch_loss=tensor(4.0288) eval_ppl=tensor(38.4704) eval_epoch_loss=tensor(3.6499)\n"
          ]
        },
        {
          "output_type": "stream",
          "name": "stderr",
          "text": [
            "100%|██████████| 7/7 [00:54<00:00,  7.79s/it]\n"
          ]
        },
        {
          "output_type": "stream",
          "name": "stdout",
          "text": [
            "epoch=17: train_ppl=tensor(56.1938) train_epoch_loss=tensor(4.0288) eval_ppl=tensor(159.8765) eval_epoch_loss=tensor(5.0744)\n"
          ]
        },
        {
          "output_type": "stream",
          "name": "stderr",
          "text": [
            "100%|██████████| 7/7 [03:34<00:00, 30.67s/it]\n",
            " 14%|█▍        | 1/7 [00:08<00:50,  8.40s/it]"
          ]
        },
        {
          "output_type": "stream",
          "name": "stdout",
          "text": [
            "epoch=18: train_ppl=tensor(79.2218) train_epoch_loss=tensor(4.3723) eval_ppl=tensor(1.0166) eval_epoch_loss=tensor(0.0165)\n"
          ]
        },
        {
          "output_type": "stream",
          "name": "stderr",
          "text": [
            "\r 29%|██▊       | 2/7 [00:16<00:42,  8.46s/it]"
          ]
        },
        {
          "output_type": "stream",
          "name": "stdout",
          "text": [
            "epoch=18: train_ppl=tensor(79.2218) train_epoch_loss=tensor(4.3723) eval_ppl=tensor(1.0232) eval_epoch_loss=tensor(0.0229)\n"
          ]
        },
        {
          "output_type": "stream",
          "name": "stderr",
          "text": [
            "\r 43%|████▎     | 3/7 [00:25<00:33,  8.43s/it]"
          ]
        },
        {
          "output_type": "stream",
          "name": "stdout",
          "text": [
            "epoch=18: train_ppl=tensor(79.2218) train_epoch_loss=tensor(4.3723) eval_ppl=tensor(1.7289) eval_epoch_loss=tensor(0.5475)\n"
          ]
        },
        {
          "output_type": "stream",
          "name": "stderr",
          "text": [
            "\r 57%|█████▋    | 4/7 [00:33<00:25,  8.50s/it]"
          ]
        },
        {
          "output_type": "stream",
          "name": "stdout",
          "text": [
            "epoch=18: train_ppl=tensor(79.2218) train_epoch_loss=tensor(4.3723) eval_ppl=tensor(4.0012) eval_epoch_loss=tensor(1.3866)\n"
          ]
        },
        {
          "output_type": "stream",
          "name": "stderr",
          "text": [
            "\r 71%|███████▏  | 5/7 [00:41<00:16,  8.25s/it]"
          ]
        },
        {
          "output_type": "stream",
          "name": "stdout",
          "text": [
            "epoch=18: train_ppl=tensor(79.2218) train_epoch_loss=tensor(4.3723) eval_ppl=tensor(10.9157) eval_epoch_loss=tensor(2.3902)\n"
          ]
        },
        {
          "output_type": "stream",
          "name": "stderr",
          "text": [
            "\r 86%|████████▌ | 6/7 [00:50<00:08,  8.37s/it]"
          ]
        },
        {
          "output_type": "stream",
          "name": "stdout",
          "text": [
            "epoch=18: train_ppl=tensor(79.2218) train_epoch_loss=tensor(4.3723) eval_ppl=tensor(36.7170) eval_epoch_loss=tensor(3.6032)\n"
          ]
        },
        {
          "output_type": "stream",
          "name": "stderr",
          "text": [
            "100%|██████████| 7/7 [00:54<00:00,  7.77s/it]\n"
          ]
        },
        {
          "output_type": "stream",
          "name": "stdout",
          "text": [
            "epoch=18: train_ppl=tensor(79.2218) train_epoch_loss=tensor(4.3723) eval_ppl=tensor(152.5897) eval_epoch_loss=tensor(5.0278)\n"
          ]
        },
        {
          "output_type": "stream",
          "name": "stderr",
          "text": [
            "100%|██████████| 7/7 [03:34<00:00, 30.64s/it]\n",
            " 14%|█▍        | 1/7 [00:08<00:49,  8.31s/it]"
          ]
        },
        {
          "output_type": "stream",
          "name": "stdout",
          "text": [
            "epoch=19: train_ppl=tensor(74.6241) train_epoch_loss=tensor(4.3125) eval_ppl=tensor(1.0136) eval_epoch_loss=tensor(0.0135)\n"
          ]
        },
        {
          "output_type": "stream",
          "name": "stderr",
          "text": [
            "\r 29%|██▊       | 2/7 [00:16<00:42,  8.48s/it]"
          ]
        },
        {
          "output_type": "stream",
          "name": "stdout",
          "text": [
            "epoch=19: train_ppl=tensor(74.6241) train_epoch_loss=tensor(4.3125) eval_ppl=tensor(1.0189) eval_epoch_loss=tensor(0.0188)\n"
          ]
        },
        {
          "output_type": "stream",
          "name": "stderr",
          "text": [
            "\r 43%|████▎     | 3/7 [00:25<00:34,  8.62s/it]"
          ]
        },
        {
          "output_type": "stream",
          "name": "stdout",
          "text": [
            "epoch=19: train_ppl=tensor(74.6241) train_epoch_loss=tensor(4.3125) eval_ppl=tensor(1.6862) eval_epoch_loss=tensor(0.5225)\n"
          ]
        },
        {
          "output_type": "stream",
          "name": "stderr",
          "text": [
            "\r 57%|█████▋    | 4/7 [00:34<00:26,  8.73s/it]"
          ]
        },
        {
          "output_type": "stream",
          "name": "stdout",
          "text": [
            "epoch=19: train_ppl=tensor(74.6241) train_epoch_loss=tensor(4.3125) eval_ppl=tensor(3.8801) eval_epoch_loss=tensor(1.3559)\n"
          ]
        },
        {
          "output_type": "stream",
          "name": "stderr",
          "text": [
            "\r 71%|███████▏  | 5/7 [00:43<00:17,  8.76s/it]"
          ]
        },
        {
          "output_type": "stream",
          "name": "stdout",
          "text": [
            "epoch=19: train_ppl=tensor(74.6241) train_epoch_loss=tensor(4.3125) eval_ppl=tensor(10.5206) eval_epoch_loss=tensor(2.3533)\n"
          ]
        },
        {
          "output_type": "stream",
          "name": "stderr",
          "text": [
            "\r 86%|████████▌ | 6/7 [00:51<00:08,  8.54s/it]"
          ]
        },
        {
          "output_type": "stream",
          "name": "stdout",
          "text": [
            "epoch=19: train_ppl=tensor(74.6241) train_epoch_loss=tensor(4.3125) eval_ppl=tensor(35.2034) eval_epoch_loss=tensor(3.5611)\n"
          ]
        },
        {
          "output_type": "stream",
          "name": "stderr",
          "text": [
            "100%|██████████| 7/7 [00:55<00:00,  7.96s/it]\n"
          ]
        },
        {
          "output_type": "stream",
          "name": "stdout",
          "text": [
            "epoch=19: train_ppl=tensor(74.6241) train_epoch_loss=tensor(4.3125) eval_ppl=tensor(146.2991) eval_epoch_loss=tensor(4.9857)\n"
          ]
        },
        {
          "output_type": "stream",
          "name": "stderr",
          "text": [
            "100%|██████████| 7/7 [03:38<00:00, 31.17s/it]\n",
            " 14%|█▍        | 1/7 [00:08<00:52,  8.80s/it]"
          ]
        },
        {
          "output_type": "stream",
          "name": "stdout",
          "text": [
            "epoch=20: train_ppl=tensor(49.6519) train_epoch_loss=tensor(3.9050) eval_ppl=tensor(1.0101) eval_epoch_loss=tensor(0.0100)\n"
          ]
        },
        {
          "output_type": "stream",
          "name": "stderr",
          "text": [
            "\r 29%|██▊       | 2/7 [00:17<00:44,  8.93s/it]"
          ]
        },
        {
          "output_type": "stream",
          "name": "stdout",
          "text": [
            "epoch=20: train_ppl=tensor(49.6519) train_epoch_loss=tensor(3.9050) eval_ppl=tensor(1.0151) eval_epoch_loss=tensor(0.0150)\n"
          ]
        },
        {
          "output_type": "stream",
          "name": "stderr",
          "text": [
            "\r 43%|████▎     | 3/7 [00:26<00:35,  8.86s/it]"
          ]
        },
        {
          "output_type": "stream",
          "name": "stdout",
          "text": [
            "epoch=20: train_ppl=tensor(49.6519) train_epoch_loss=tensor(3.9050) eval_ppl=tensor(1.6648) eval_epoch_loss=tensor(0.5097)\n"
          ]
        },
        {
          "output_type": "stream",
          "name": "stderr",
          "text": [
            "\r 57%|█████▋    | 4/7 [00:35<00:26,  8.76s/it]"
          ]
        },
        {
          "output_type": "stream",
          "name": "stdout",
          "text": [
            "epoch=20: train_ppl=tensor(49.6519) train_epoch_loss=tensor(3.9050) eval_ppl=tensor(3.7683) eval_epoch_loss=tensor(1.3266)\n"
          ]
        },
        {
          "output_type": "stream",
          "name": "stderr",
          "text": [
            "\r 71%|███████▏  | 5/7 [00:43<00:17,  8.63s/it]"
          ]
        },
        {
          "output_type": "stream",
          "name": "stdout",
          "text": [
            "epoch=20: train_ppl=tensor(49.6519) train_epoch_loss=tensor(3.9050) eval_ppl=tensor(10.1434) eval_epoch_loss=tensor(2.3168)\n"
          ]
        },
        {
          "output_type": "stream",
          "name": "stderr",
          "text": [
            "\r 86%|████████▌ | 6/7 [00:52<00:08,  8.55s/it]"
          ]
        },
        {
          "output_type": "stream",
          "name": "stdout",
          "text": [
            "epoch=20: train_ppl=tensor(49.6519) train_epoch_loss=tensor(3.9050) eval_ppl=tensor(33.7531) eval_epoch_loss=tensor(3.5191)\n"
          ]
        },
        {
          "output_type": "stream",
          "name": "stderr",
          "text": [
            "100%|██████████| 7/7 [00:56<00:00,  8.03s/it]\n"
          ]
        },
        {
          "output_type": "stream",
          "name": "stdout",
          "text": [
            "epoch=20: train_ppl=tensor(49.6519) train_epoch_loss=tensor(3.9050) eval_ppl=tensor(140.2721) eval_epoch_loss=tensor(4.9436)\n"
          ]
        },
        {
          "output_type": "stream",
          "name": "stderr",
          "text": [
            "100%|██████████| 7/7 [03:36<00:00, 30.93s/it]\n",
            " 14%|█▍        | 1/7 [00:08<00:50,  8.49s/it]"
          ]
        },
        {
          "output_type": "stream",
          "name": "stdout",
          "text": [
            "epoch=21: train_ppl=tensor(47.7640) train_epoch_loss=tensor(3.8663) eval_ppl=tensor(1.0110) eval_epoch_loss=tensor(0.0109)\n"
          ]
        },
        {
          "output_type": "stream",
          "name": "stderr",
          "text": [
            "\r 29%|██▊       | 2/7 [00:17<00:42,  8.56s/it]"
          ]
        },
        {
          "output_type": "stream",
          "name": "stdout",
          "text": [
            "epoch=21: train_ppl=tensor(47.7640) train_epoch_loss=tensor(3.8663) eval_ppl=tensor(1.0156) eval_epoch_loss=tensor(0.0155)\n"
          ]
        },
        {
          "output_type": "stream",
          "name": "stderr",
          "text": [
            "\r 43%|████▎     | 3/7 [00:25<00:34,  8.71s/it]"
          ]
        },
        {
          "output_type": "stream",
          "name": "stdout",
          "text": [
            "epoch=21: train_ppl=tensor(47.7640) train_epoch_loss=tensor(3.8663) eval_ppl=tensor(1.6387) eval_epoch_loss=tensor(0.4939)\n"
          ]
        },
        {
          "output_type": "stream",
          "name": "stderr",
          "text": [
            "\r 57%|█████▋    | 4/7 [00:34<00:25,  8.51s/it]"
          ]
        },
        {
          "output_type": "stream",
          "name": "stdout",
          "text": [
            "epoch=21: train_ppl=tensor(47.7640) train_epoch_loss=tensor(3.8663) eval_ppl=tensor(3.6814) eval_epoch_loss=tensor(1.3033)\n"
          ]
        },
        {
          "output_type": "stream",
          "name": "stderr",
          "text": [
            "\r 71%|███████▏  | 5/7 [00:42<00:16,  8.33s/it]"
          ]
        },
        {
          "output_type": "stream",
          "name": "stdout",
          "text": [
            "epoch=21: train_ppl=tensor(47.7640) train_epoch_loss=tensor(3.8663) eval_ppl=tensor(9.8534) eval_epoch_loss=tensor(2.2878)\n"
          ]
        },
        {
          "output_type": "stream",
          "name": "stderr",
          "text": [
            "\r 86%|████████▌ | 6/7 [00:50<00:08,  8.42s/it]"
          ]
        },
        {
          "output_type": "stream",
          "name": "stdout",
          "text": [
            "epoch=21: train_ppl=tensor(47.7640) train_epoch_loss=tensor(3.8663) eval_ppl=tensor(32.6214) eval_epoch_loss=tensor(3.4850)\n"
          ]
        },
        {
          "output_type": "stream",
          "name": "stderr",
          "text": [
            "100%|██████████| 7/7 [00:54<00:00,  7.84s/it]\n"
          ]
        },
        {
          "output_type": "stream",
          "name": "stdout",
          "text": [
            "epoch=21: train_ppl=tensor(47.7640) train_epoch_loss=tensor(3.8663) eval_ppl=tensor(135.5688) eval_epoch_loss=tensor(4.9095)\n"
          ]
        },
        {
          "output_type": "stream",
          "name": "stderr",
          "text": [
            "100%|██████████| 7/7 [03:31<00:00, 30.26s/it]\n",
            " 14%|█▍        | 1/7 [00:08<00:49,  8.30s/it]"
          ]
        },
        {
          "output_type": "stream",
          "name": "stdout",
          "text": [
            "epoch=22: train_ppl=tensor(49.1866) train_epoch_loss=tensor(3.8956) eval_ppl=tensor(1.0078) eval_epoch_loss=tensor(0.0078)\n"
          ]
        },
        {
          "output_type": "stream",
          "name": "stderr",
          "text": [
            "\r 29%|██▊       | 2/7 [00:16<00:40,  8.13s/it]"
          ]
        },
        {
          "output_type": "stream",
          "name": "stdout",
          "text": [
            "epoch=22: train_ppl=tensor(49.1866) train_epoch_loss=tensor(3.8956) eval_ppl=tensor(1.0122) eval_epoch_loss=tensor(0.0121)\n"
          ]
        },
        {
          "output_type": "stream",
          "name": "stderr",
          "text": [
            "\r 43%|████▎     | 3/7 [00:24<00:33,  8.30s/it]"
          ]
        },
        {
          "output_type": "stream",
          "name": "stdout",
          "text": [
            "epoch=22: train_ppl=tensor(49.1866) train_epoch_loss=tensor(3.8956) eval_ppl=tensor(1.6156) eval_epoch_loss=tensor(0.4797)\n"
          ]
        },
        {
          "output_type": "stream",
          "name": "stderr",
          "text": [
            "\r 57%|█████▋    | 4/7 [00:33<00:25,  8.46s/it]"
          ]
        },
        {
          "output_type": "stream",
          "name": "stdout",
          "text": [
            "epoch=22: train_ppl=tensor(49.1866) train_epoch_loss=tensor(3.8956) eval_ppl=tensor(3.5794) eval_epoch_loss=tensor(1.2752)\n"
          ]
        },
        {
          "output_type": "stream",
          "name": "stderr",
          "text": [
            "\r 71%|███████▏  | 5/7 [00:41<00:16,  8.36s/it]"
          ]
        },
        {
          "output_type": "stream",
          "name": "stdout",
          "text": [
            "epoch=22: train_ppl=tensor(49.1866) train_epoch_loss=tensor(3.8956) eval_ppl=tensor(9.5184) eval_epoch_loss=tensor(2.2532)\n"
          ]
        },
        {
          "output_type": "stream",
          "name": "stderr",
          "text": [
            "\r 86%|████████▌ | 6/7 [00:50<00:08,  8.44s/it]"
          ]
        },
        {
          "output_type": "stream",
          "name": "stdout",
          "text": [
            "epoch=22: train_ppl=tensor(49.1866) train_epoch_loss=tensor(3.8956) eval_ppl=tensor(31.3597) eval_epoch_loss=tensor(3.4455)\n"
          ]
        },
        {
          "output_type": "stream",
          "name": "stderr",
          "text": [
            "100%|██████████| 7/7 [00:54<00:00,  7.76s/it]\n"
          ]
        },
        {
          "output_type": "stream",
          "name": "stdout",
          "text": [
            "epoch=22: train_ppl=tensor(49.1866) train_epoch_loss=tensor(3.8956) eval_ppl=tensor(130.3253) eval_epoch_loss=tensor(4.8700)\n"
          ]
        },
        {
          "output_type": "stream",
          "name": "stderr",
          "text": [
            "100%|██████████| 7/7 [03:36<00:00, 30.87s/it]\n",
            " 14%|█▍        | 1/7 [00:08<00:52,  8.70s/it]"
          ]
        },
        {
          "output_type": "stream",
          "name": "stdout",
          "text": [
            "epoch=23: train_ppl=tensor(85.5512) train_epoch_loss=tensor(4.4491) eval_ppl=tensor(1.0286) eval_epoch_loss=tensor(0.0282)\n"
          ]
        },
        {
          "output_type": "stream",
          "name": "stderr",
          "text": [
            "\r 29%|██▊       | 2/7 [00:17<00:42,  8.58s/it]"
          ]
        },
        {
          "output_type": "stream",
          "name": "stdout",
          "text": [
            "epoch=23: train_ppl=tensor(85.5512) train_epoch_loss=tensor(4.4491) eval_ppl=tensor(1.0342) eval_epoch_loss=tensor(0.0336)\n"
          ]
        },
        {
          "output_type": "stream",
          "name": "stderr",
          "text": [
            "\r 43%|████▎     | 3/7 [00:26<00:34,  8.68s/it]"
          ]
        },
        {
          "output_type": "stream",
          "name": "stdout",
          "text": [
            "epoch=23: train_ppl=tensor(85.5512) train_epoch_loss=tensor(4.4491) eval_ppl=tensor(1.6356) eval_epoch_loss=tensor(0.4920)\n"
          ]
        },
        {
          "output_type": "stream",
          "name": "stderr",
          "text": [
            "\r 57%|█████▋    | 4/7 [00:34<00:25,  8.61s/it]"
          ]
        },
        {
          "output_type": "stream",
          "name": "stdout",
          "text": [
            "epoch=23: train_ppl=tensor(85.5512) train_epoch_loss=tensor(4.4491) eval_ppl=tensor(3.5851) eval_epoch_loss=tensor(1.2768)\n"
          ]
        },
        {
          "output_type": "stream",
          "name": "stderr",
          "text": [
            "\r 71%|███████▏  | 5/7 [00:42<00:16,  8.39s/it]"
          ]
        },
        {
          "output_type": "stream",
          "name": "stdout",
          "text": [
            "epoch=23: train_ppl=tensor(85.5512) train_epoch_loss=tensor(4.4491) eval_ppl=tensor(9.4809) eval_epoch_loss=tensor(2.2493)\n"
          ]
        },
        {
          "output_type": "stream",
          "name": "stderr",
          "text": [
            "\r 86%|████████▌ | 6/7 [00:51<00:08,  8.46s/it]"
          ]
        },
        {
          "output_type": "stream",
          "name": "stdout",
          "text": [
            "epoch=23: train_ppl=tensor(85.5512) train_epoch_loss=tensor(4.4491) eval_ppl=tensor(31.0937) eval_epoch_loss=tensor(3.4370)\n"
          ]
        },
        {
          "output_type": "stream",
          "name": "stderr",
          "text": [
            "100%|██████████| 7/7 [00:55<00:00,  7.89s/it]\n"
          ]
        },
        {
          "output_type": "stream",
          "name": "stdout",
          "text": [
            "epoch=23: train_ppl=tensor(85.5512) train_epoch_loss=tensor(4.4491) eval_ppl=tensor(129.2201) eval_epoch_loss=tensor(4.8615)\n"
          ]
        },
        {
          "output_type": "stream",
          "name": "stderr",
          "text": [
            "100%|██████████| 7/7 [03:35<00:00, 30.73s/it]\n",
            " 14%|█▍        | 1/7 [00:08<00:49,  8.20s/it]"
          ]
        },
        {
          "output_type": "stream",
          "name": "stdout",
          "text": [
            "epoch=24: train_ppl=tensor(61.7617) train_epoch_loss=tensor(4.1233) eval_ppl=tensor(1.0149) eval_epoch_loss=tensor(0.0148)\n"
          ]
        },
        {
          "output_type": "stream",
          "name": "stderr",
          "text": [
            "\r 29%|██▊       | 2/7 [00:16<00:41,  8.38s/it]"
          ]
        },
        {
          "output_type": "stream",
          "name": "stdout",
          "text": [
            "epoch=24: train_ppl=tensor(61.7617) train_epoch_loss=tensor(4.1233) eval_ppl=tensor(1.0193) eval_epoch_loss=tensor(0.0191)\n"
          ]
        },
        {
          "output_type": "stream",
          "name": "stderr",
          "text": [
            "\r 43%|████▎     | 3/7 [00:25<00:34,  8.52s/it]"
          ]
        },
        {
          "output_type": "stream",
          "name": "stdout",
          "text": [
            "epoch=24: train_ppl=tensor(61.7617) train_epoch_loss=tensor(4.1233) eval_ppl=tensor(1.5900) eval_epoch_loss=tensor(0.4637)\n"
          ]
        },
        {
          "output_type": "stream",
          "name": "stderr",
          "text": [
            "\r 57%|█████▋    | 4/7 [00:33<00:24,  8.29s/it]"
          ]
        },
        {
          "output_type": "stream",
          "name": "stdout",
          "text": [
            "epoch=24: train_ppl=tensor(61.7617) train_epoch_loss=tensor(4.1233) eval_ppl=tensor(3.4692) eval_epoch_loss=tensor(1.2439)\n"
          ]
        },
        {
          "output_type": "stream",
          "name": "stderr",
          "text": [
            "\r 71%|███████▏  | 5/7 [00:41<00:16,  8.07s/it]"
          ]
        },
        {
          "output_type": "stream",
          "name": "stdout",
          "text": [
            "epoch=24: train_ppl=tensor(61.7617) train_epoch_loss=tensor(4.1233) eval_ppl=tensor(9.1346) eval_epoch_loss=tensor(2.2121)\n"
          ]
        },
        {
          "output_type": "stream",
          "name": "stderr",
          "text": [
            "\r 86%|████████▌ | 6/7 [00:49<00:08,  8.28s/it]"
          ]
        },
        {
          "output_type": "stream",
          "name": "stdout",
          "text": [
            "epoch=24: train_ppl=tensor(61.7617) train_epoch_loss=tensor(4.1233) eval_ppl=tensor(29.8337) eval_epoch_loss=tensor(3.3956)\n"
          ]
        },
        {
          "output_type": "stream",
          "name": "stderr",
          "text": [
            "100%|██████████| 7/7 [00:53<00:00,  7.66s/it]\n"
          ]
        },
        {
          "output_type": "stream",
          "name": "stdout",
          "text": [
            "epoch=24: train_ppl=tensor(61.7617) train_epoch_loss=tensor(4.1233) eval_ppl=tensor(123.9838) eval_epoch_loss=tensor(4.8202)\n"
          ]
        },
        {
          "output_type": "stream",
          "name": "stderr",
          "text": [
            "100%|██████████| 7/7 [03:38<00:00, 31.14s/it]\n",
            " 14%|█▍        | 1/7 [00:08<00:50,  8.50s/it]"
          ]
        },
        {
          "output_type": "stream",
          "name": "stdout",
          "text": [
            "epoch=25: train_ppl=tensor(60.4822) train_epoch_loss=tensor(4.1023) eval_ppl=tensor(1.0117) eval_epoch_loss=tensor(0.0117)\n"
          ]
        },
        {
          "output_type": "stream",
          "name": "stderr",
          "text": [
            "\r 29%|██▊       | 2/7 [00:16<00:42,  8.50s/it]"
          ]
        },
        {
          "output_type": "stream",
          "name": "stdout",
          "text": [
            "epoch=25: train_ppl=tensor(60.4822) train_epoch_loss=tensor(4.1023) eval_ppl=tensor(1.0149) eval_epoch_loss=tensor(0.0148)\n"
          ]
        },
        {
          "output_type": "stream",
          "name": "stderr",
          "text": [
            "\r 43%|████▎     | 3/7 [00:25<00:34,  8.59s/it]"
          ]
        },
        {
          "output_type": "stream",
          "name": "stdout",
          "text": [
            "epoch=25: train_ppl=tensor(60.4822) train_epoch_loss=tensor(4.1023) eval_ppl=tensor(1.5797) eval_epoch_loss=tensor(0.4572)\n"
          ]
        },
        {
          "output_type": "stream",
          "name": "stderr",
          "text": [
            "\r 57%|█████▋    | 4/7 [00:34<00:26,  8.71s/it]"
          ]
        },
        {
          "output_type": "stream",
          "name": "stdout",
          "text": [
            "epoch=25: train_ppl=tensor(60.4822) train_epoch_loss=tensor(4.1023) eval_ppl=tensor(3.3971) eval_epoch_loss=tensor(1.2229)\n"
          ]
        },
        {
          "output_type": "stream",
          "name": "stderr",
          "text": [
            "\r 71%|███████▏  | 5/7 [00:43<00:17,  8.75s/it]"
          ]
        },
        {
          "output_type": "stream",
          "name": "stdout",
          "text": [
            "epoch=25: train_ppl=tensor(60.4822) train_epoch_loss=tensor(4.1023) eval_ppl=tensor(8.8894) eval_epoch_loss=tensor(2.1849)\n"
          ]
        },
        {
          "output_type": "stream",
          "name": "stderr",
          "text": [
            "\r 86%|████████▌ | 6/7 [00:52<00:08,  8.76s/it]"
          ]
        },
        {
          "output_type": "stream",
          "name": "stdout",
          "text": [
            "epoch=25: train_ppl=tensor(60.4822) train_epoch_loss=tensor(4.1023) eval_ppl=tensor(28.8926) eval_epoch_loss=tensor(3.3636)\n"
          ]
        },
        {
          "output_type": "stream",
          "name": "stderr",
          "text": [
            "100%|██████████| 7/7 [00:56<00:00,  8.04s/it]\n"
          ]
        },
        {
          "output_type": "stream",
          "name": "stdout",
          "text": [
            "epoch=25: train_ppl=tensor(60.4822) train_epoch_loss=tensor(4.1023) eval_ppl=tensor(120.0728) eval_epoch_loss=tensor(4.7881)\n"
          ]
        },
        {
          "output_type": "stream",
          "name": "stderr",
          "text": [
            "100%|██████████| 7/7 [03:37<00:00, 31.10s/it]\n",
            " 14%|█▍        | 1/7 [00:08<00:50,  8.40s/it]"
          ]
        },
        {
          "output_type": "stream",
          "name": "stdout",
          "text": [
            "epoch=26: train_ppl=tensor(51.5410) train_epoch_loss=tensor(3.9424) eval_ppl=tensor(1.0085) eval_epoch_loss=tensor(0.0085)\n"
          ]
        },
        {
          "output_type": "stream",
          "name": "stderr",
          "text": [
            "\r 29%|██▊       | 2/7 [00:17<00:42,  8.58s/it]"
          ]
        },
        {
          "output_type": "stream",
          "name": "stdout",
          "text": [
            "epoch=26: train_ppl=tensor(51.5410) train_epoch_loss=tensor(3.9424) eval_ppl=tensor(1.0114) eval_epoch_loss=tensor(0.0114)\n"
          ]
        },
        {
          "output_type": "stream",
          "name": "stderr",
          "text": [
            "\r 43%|████▎     | 3/7 [00:25<00:34,  8.68s/it]"
          ]
        },
        {
          "output_type": "stream",
          "name": "stdout",
          "text": [
            "epoch=26: train_ppl=tensor(51.5410) train_epoch_loss=tensor(3.9424) eval_ppl=tensor(1.5594) eval_epoch_loss=tensor(0.4443)\n"
          ]
        },
        {
          "output_type": "stream",
          "name": "stderr",
          "text": [
            "\r 57%|█████▋    | 4/7 [00:33<00:25,  8.41s/it]"
          ]
        },
        {
          "output_type": "stream",
          "name": "stdout",
          "text": [
            "epoch=26: train_ppl=tensor(51.5410) train_epoch_loss=tensor(3.9424) eval_ppl=tensor(3.3295) eval_epoch_loss=tensor(1.2028)\n"
          ]
        },
        {
          "output_type": "stream",
          "name": "stderr",
          "text": [
            "\r 71%|███████▏  | 5/7 [00:42<00:16,  8.33s/it]"
          ]
        },
        {
          "output_type": "stream",
          "name": "stdout",
          "text": [
            "epoch=26: train_ppl=tensor(51.5410) train_epoch_loss=tensor(3.9424) eval_ppl=tensor(8.6719) eval_epoch_loss=tensor(2.1601)\n"
          ]
        },
        {
          "output_type": "stream",
          "name": "stderr",
          "text": [
            "\r 86%|████████▌ | 6/7 [00:50<00:08,  8.49s/it]"
          ]
        },
        {
          "output_type": "stream",
          "name": "stdout",
          "text": [
            "epoch=26: train_ppl=tensor(51.5410) train_epoch_loss=tensor(3.9424) eval_ppl=tensor(28.0719) eval_epoch_loss=tensor(3.3348)\n"
          ]
        },
        {
          "output_type": "stream",
          "name": "stderr",
          "text": [
            "100%|██████████| 7/7 [00:55<00:00,  7.87s/it]\n"
          ]
        },
        {
          "output_type": "stream",
          "name": "stdout",
          "text": [
            "epoch=26: train_ppl=tensor(51.5410) train_epoch_loss=tensor(3.9424) eval_ppl=tensor(116.6622) eval_epoch_loss=tensor(4.7593)\n"
          ]
        },
        {
          "output_type": "stream",
          "name": "stderr",
          "text": [
            "100%|██████████| 7/7 [03:39<00:00, 31.31s/it]\n",
            " 14%|█▍        | 1/7 [00:08<00:51,  8.50s/it]"
          ]
        },
        {
          "output_type": "stream",
          "name": "stdout",
          "text": [
            "epoch=27: train_ppl=tensor(98.3378) train_epoch_loss=tensor(4.5884) eval_ppl=tensor(1.0052) eval_epoch_loss=tensor(0.0052)\n"
          ]
        },
        {
          "output_type": "stream",
          "name": "stderr",
          "text": [
            "\r 29%|██▊       | 2/7 [00:17<00:43,  8.74s/it]"
          ]
        },
        {
          "output_type": "stream",
          "name": "stdout",
          "text": [
            "epoch=27: train_ppl=tensor(98.3378) train_epoch_loss=tensor(4.5884) eval_ppl=tensor(1.0078) eval_epoch_loss=tensor(0.0078)\n"
          ]
        },
        {
          "output_type": "stream",
          "name": "stderr",
          "text": [
            "\r 43%|████▎     | 3/7 [00:25<00:33,  8.31s/it]"
          ]
        },
        {
          "output_type": "stream",
          "name": "stdout",
          "text": [
            "epoch=27: train_ppl=tensor(98.3378) train_epoch_loss=tensor(4.5884) eval_ppl=tensor(1.5333) eval_epoch_loss=tensor(0.4274)\n"
          ]
        },
        {
          "output_type": "stream",
          "name": "stderr",
          "text": [
            "\r 57%|█████▋    | 4/7 [00:34<00:25,  8.55s/it]"
          ]
        },
        {
          "output_type": "stream",
          "name": "stdout",
          "text": [
            "epoch=27: train_ppl=tensor(98.3378) train_epoch_loss=tensor(4.5884) eval_ppl=tensor(3.2905) eval_epoch_loss=tensor(1.1910)\n"
          ]
        },
        {
          "output_type": "stream",
          "name": "stderr",
          "text": [
            "\r 71%|███████▏  | 5/7 [00:42<00:16,  8.45s/it]"
          ]
        },
        {
          "output_type": "stream",
          "name": "stdout",
          "text": [
            "epoch=27: train_ppl=tensor(98.3378) train_epoch_loss=tensor(4.5884) eval_ppl=tensor(8.5555) eval_epoch_loss=tensor(2.1466)\n"
          ]
        },
        {
          "output_type": "stream",
          "name": "stderr",
          "text": [
            "\r 86%|████████▌ | 6/7 [00:50<00:08,  8.16s/it]"
          ]
        },
        {
          "output_type": "stream",
          "name": "stdout",
          "text": [
            "epoch=27: train_ppl=tensor(98.3378) train_epoch_loss=tensor(4.5884) eval_ppl=tensor(27.6148) eval_epoch_loss=tensor(3.3184)\n"
          ]
        },
        {
          "output_type": "stream",
          "name": "stderr",
          "text": [
            "100%|██████████| 7/7 [00:54<00:00,  7.73s/it]\n"
          ]
        },
        {
          "output_type": "stream",
          "name": "stdout",
          "text": [
            "epoch=27: train_ppl=tensor(98.3378) train_epoch_loss=tensor(4.5884) eval_ppl=tensor(114.7623) eval_epoch_loss=tensor(4.7429)\n"
          ]
        },
        {
          "output_type": "stream",
          "name": "stderr",
          "text": [
            " 43%|████▎     | 3/7 [01:45<02:21, 35.27s/it]"
          ]
        }
      ]
    },
    {
      "cell_type": "code",
      "source": [
        "model.eval()\n",
        "i=16\n",
        "inputs = tokenizer(f'{text_column} : {dataset[\"test\"][i][\"Tweet text\"]} Label : ', return_tensors=\"pt\")\n",
        "\n",
        "with torch.no_grad():\n",
        "  inputs={k: v for k, v in inputs.items()}\n",
        "  outputs= model.generate(inputs_ids=inputs['input_ids'], attention_mask=inputs['attention_mask'],max_new_tokens=10, eos_token_id=3)\n"
      ],
      "metadata": {
        "id": "G2cOwNGbepuC"
      },
      "execution_count": null,
      "outputs": []
    },
    {
      "cell_type": "code",
      "source": [
        "model.push_to_hub(\n",
        "  f\"{dataset_name}_{model_name}_{peft_config.peft_type}_{peft_config.task_type}\".replace(\"/\", \"_\"))"
      ],
      "metadata": {
        "id": "HuH4LvgvhfQQ"
      },
      "execution_count": null,
      "outputs": []
    },
    {
      "cell_type": "code",
      "source": [
        "from peft import PeftModel, PeftConfig\n",
        "\n",
        "peft_model_id = f\"{dataset_name}_{model_name}_{peft_config.peft_type}_{peft_config.task_type}\".replace(\n",
        "    \"/\", \"_\"\n",
        ")\n",
        "\n",
        "config = PeftConfig.from_pretrained(peft_model_id)\n",
        "model = AutoModelForCausalLM.from_pretrained(config.base_model_name_or_path)\n",
        "model = PeftModel.from_pretrained(model, peft_model_id)"
      ],
      "metadata": {
        "id": "Sp_PBXeWhkb_"
      },
      "execution_count": null,
      "outputs": []
    },
    {
      "cell_type": "code",
      "source": [
        "\n",
        "model.eval()\n",
        "i = 4\n",
        "inputs = tokenizer(f'{text_column} : {dataset[\"test\"][i][\"Tweet text\"]} Label : ', return_tensors=\"pt\")\n",
        "print(dataset[\"test\"][i][\"Tweet text\"])\n",
        "print(inputs)\n",
        "\n",
        "with torch.no_grad():\n",
        "    inputs = {k: v for k, v in inputs.items()}\n",
        "    outputs = model.generate(\n",
        "        input_ids=inputs[\"input_ids\"], attention_mask=inputs[\"attention_mask\"], max_new_tokens=10, eos_token_id=3\n",
        "    )\n",
        "    print(outputs)\n",
        "    print(tokenizer.batch_decode(outputs.detach().cpu().numpy(), skip_special_tokens=True))"
      ],
      "metadata": {
        "id": "TFiQEy8thwdR"
      },
      "execution_count": null,
      "outputs": []
    },
    {
      "cell_type": "code",
      "source": [],
      "metadata": {
        "id": "Kv7oIySO8hAs"
      },
      "execution_count": null,
      "outputs": []
    }
  ]
}
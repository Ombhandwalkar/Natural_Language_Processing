{
  "nbformat": 4,
  "nbformat_minor": 0,
  "metadata": {
    "colab": {
      "provenance": [],
      "gpuType": "T4"
    },
    "kernelspec": {
      "name": "python3",
      "display_name": "Python 3"
    },
    "language_info": {
      "name": "python"
    },
    "accelerator": "GPU"
  },
  "cells": [
    {
      "cell_type": "code",
      "execution_count": null,
      "metadata": {
        "id": "j4oEpLC0jkEy"
      },
      "outputs": [],
      "source": []
    },
    {
      "cell_type": "markdown",
      "source": [
        "# Quantization by using min-max-\n",
        "  * The entire range of data(tensor) is mapped into specified range.\n",
        "  * The mapping process is done by using min and values of the tensors.\n",
        "# Impact of outlier(using min-max)-\n",
        "  * When outliers in the data,they will stretch the range of values.\n",
        "  * This results wastage of memory. Our model fails to outlier\n",
        "\n",
        "# Quantization by using percentile-\n",
        "  * Percentile based quantization divides the data into equal size segments. It peanalize only outliers instead of whole data.\n",
        "\n",
        "  * Due to its robust to outliers nature\n",
        "  "
      ],
      "metadata": {
        "id": "tbeHJrBwkDY3"
      }
    },
    {
      "cell_type": "code",
      "source": [
        "import numpy as np\n",
        "\n",
        "np.set_printoptions(suppress=True)\n",
        "\n",
        "# Generate randomly distributed parameter\n",
        "params=np.random.uniform(low=-50,high=150,size=10000)\n",
        "# Add outlier\n",
        "params[-1]=1000\n",
        "# round the parameter\n",
        "params=np.round(params,2)\n",
        "print(params)"
      ],
      "metadata": {
        "colab": {
          "base_uri": "https://localhost:8080/"
        },
        "id": "cLH3zMvBL62E",
        "outputId": "f09f3d82-ebb5-4310-efc0-fb7c2c8317dc"
      },
      "execution_count": 1,
      "outputs": [
        {
          "output_type": "stream",
          "name": "stdout",
          "text": [
            "[  69.    -35.22   81.74 ...   97.75   40.08 1000.  ]\n"
          ]
        }
      ]
    },
    {
      "cell_type": "markdown",
      "source": [
        "# Define Quantization methods and Quantize"
      ],
      "metadata": {
        "id": "Aiq64iDsQWPw"
      }
    },
    {
      "cell_type": "code",
      "source": [
        "def clamp(params_q:np.array,lower_bound:int,upper_bound:int)->np.array:\n",
        "  params_q[params_q<lower_bound]=lower_bound\n",
        "  params_q[params_q>upper_bound]=upper_bound\n",
        "  return params_q\n",
        "# This will help us to calculate the min & max value of the tensor"
      ],
      "metadata": {
        "id": "LWf0NTkxP0yz"
      },
      "execution_count": 2,
      "outputs": []
    },
    {
      "cell_type": "markdown",
      "source": [
        "# Compare min-max and percentile range selection"
      ],
      "metadata": {
        "id": "ECk4pU6gQw-h"
      }
    },
    {
      "cell_type": "code",
      "source": [
        "# Min-Max\n",
        "def asymmetric_quantization(params:np.array,bits:int)->tuple[np.array,float,int]:\n",
        "  alpha=np.max(params)\n",
        "  beta=np.min(params)\n",
        "  scale=(alpha-beta)/(2**bits-1)\n",
        "  zero=-1*np.round(beta/scale)\n",
        "  lower_bound,upper_bound=0,2**bits-1\n",
        "  quantized=clamp(np.round(params/scale+zero),lower_bound,upper_bound).astype(np.int32)\n",
        "  return quantized,scale,zero"
      ],
      "metadata": {
        "id": "mRM6O_epQwVv"
      },
      "execution_count": 3,
      "outputs": []
    },
    {
      "cell_type": "code",
      "source": [
        "# Percentile\n",
        "def asymmetric_quantization_percentile(params:np.array,bits:int,percentile:float=99.99)->tuple[np.array,float,int]:\n",
        "  alpha=np.percentile(params,percentile)\n",
        "  beta=np.percentile(params,100-percentile)\n",
        "  scale=(alpha-beta)/(2**bits-1)\n",
        "  zero=-1*np.round(beta/scale)\n",
        "  lower_bound,upper_bound=0,2**bits-1\n",
        "  quantized=clamp(np.round(params/scale+zero),lower_bound,upper_bound).astype(np.int32)\n",
        "  return quantized,scale,zero"
      ],
      "metadata": {
        "id": "OBjs9lf5Vt6C"
      },
      "execution_count": 4,
      "outputs": []
    },
    {
      "cell_type": "code",
      "source": [
        "def asymmetric_dequantize(params_q:np.array,scale:float,zero:int)->np.array:\n",
        "  return (params_q-zero)*scale\n",
        "\n",
        "def quantization_error(params:np.array,params_q:np.array):\n",
        "  return np.mean((params-params_q)**2)"
      ],
      "metadata": {
        "id": "KcgoJ_4gWlRW"
      },
      "execution_count": 5,
      "outputs": []
    },
    {
      "cell_type": "code",
      "source": [
        "\n",
        "(asymmetric_q, asymmetric_scale, asymmetric_zero) = asymmetric_quantization(params, 8)\n",
        "(asymmetric_q_percentile, asymmetric_scale_percentile, asymmetric_zero_percentile) = asymmetric_quantization_percentile(params, 8)\n",
        "\n",
        "print(f'Original:')\n",
        "print(np.round(params, 2))\n",
        "print('')\n",
        "print(f'Asymmetric (min-max) scale: {asymmetric_scale}, zero: {asymmetric_zero}')\n",
        "print(asymmetric_q)\n",
        "print(f'')\n",
        "print(f'Asymmetric (percentile) scale: {asymmetric_scale_percentile}, zero: {asymmetric_zero_percentile}')\n",
        "print(asymmetric_q_percentile)"
      ],
      "metadata": {
        "colab": {
          "base_uri": "https://localhost:8080/"
        },
        "id": "139L8kdla-8L",
        "outputId": "dd110b5e-3f31-4d68-ad06-6b4a52226645"
      },
      "execution_count": 6,
      "outputs": [
        {
          "output_type": "stream",
          "name": "stdout",
          "text": [
            "Original:\n",
            "[  69.    -35.22   81.74 ...   97.75   40.08 1000.  ]\n",
            "\n",
            "Asymmetric (min-max) scale: 4.11756862745098, zero: 12.0\n",
            "[ 29   3  32 ...  36  22 255]\n",
            "\n",
            "Asymmetric (percentile) scale: 0.7844509921545053, zero: 64.0\n",
            "[152  19 168 ... 189 115 255]\n"
          ]
        }
      ]
    },
    {
      "cell_type": "code",
      "source": [
        "#Dequantize the parameters back to 32 bits\n",
        "params_deq_asymmetric = asymmetric_dequantize(asymmetric_q, asymmetric_scale, asymmetric_zero)\n",
        "params_deq_asymmetric_percentile = asymmetric_dequantize(asymmetric_q_percentile, asymmetric_scale_percentile, asymmetric_zero_percentile)\n",
        "\n",
        "print(f'Original:')\n",
        "print(np.round(params, 2))\n",
        "print('')\n",
        "print(f'Dequantized (min-max):')\n",
        "print(np.round(params_deq_asymmetric,2))\n",
        "print('')\n",
        "print(f'Dequantized (percentile):')\n",
        "print(np.round(params_deq_asymmetric_percentile,2))"
      ],
      "metadata": {
        "colab": {
          "base_uri": "https://localhost:8080/"
        },
        "id": "vxA53AqHbBH9",
        "outputId": "f7512dfd-dc09-4987-8375-07d717964a80"
      },
      "execution_count": 7,
      "outputs": [
        {
          "output_type": "stream",
          "name": "stdout",
          "text": [
            "Original:\n",
            "[  69.    -35.22   81.74 ...   97.75   40.08 1000.  ]\n",
            "\n",
            "Dequantized (min-max):\n",
            "[  70.    -37.06   82.35 ...   98.82   41.18 1000.57]\n",
            "\n",
            "Dequantized (percentile):\n",
            "[ 69.03 -35.3   81.58 ...  98.06  40.01 149.83]\n"
          ]
        }
      ]
    },
    {
      "cell_type": "markdown",
      "source": [
        "# Evaluate Dequantization Error"
      ],
      "metadata": {
        "id": "xj0pEF-TbI2G"
      }
    },
    {
      "cell_type": "code",
      "source": [
        "# Calculate the quantization error\n",
        "print(f'{\"Error (min-max) excluding outlier: \":>40}{np.round(quantization_error(params[:-1], params_deq_asymmetric[:-1]),2)}')\n",
        "print(f'{\"Error (percentile) excluding outlier: \":>40}{np.round(quantization_error(params[:-1], params_deq_asymmetric_percentile[:-1]),2)}')"
      ],
      "metadata": {
        "colab": {
          "base_uri": "https://localhost:8080/"
        },
        "id": "C_TDN9OdbGQJ",
        "outputId": "a93a8323-dd31-468e-c9b8-168d0fc320f4"
      },
      "execution_count": 8,
      "outputs": [
        {
          "output_type": "stream",
          "name": "stdout",
          "text": [
            "     Error (min-max) excluding outlier: 1.4\n",
            "  Error (percentile) excluding outlier: 0.05\n"
          ]
        }
      ]
    },
    {
      "cell_type": "markdown",
      "source": [
        "# Conclustion-\n",
        "  Percentile range selection can minimize the error. It is better than min-max range selection"
      ],
      "metadata": {
        "id": "vBvE-NstbPlU"
      }
    },
    {
      "cell_type": "code",
      "source": [],
      "metadata": {
        "id": "W2aqLc4XbNn6"
      },
      "execution_count": null,
      "outputs": []
    }
  ]
}
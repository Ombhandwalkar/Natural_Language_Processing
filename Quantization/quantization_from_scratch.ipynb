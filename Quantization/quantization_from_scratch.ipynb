{
  "nbformat": 4,
  "nbformat_minor": 0,
  "metadata": {
    "colab": {
      "provenance": []
    },
    "kernelspec": {
      "name": "python3",
      "display_name": "Python 3"
    },
    "language_info": {
      "name": "python"
    }
  },
  "cells": [
    {
      "cell_type": "markdown",
      "source": [
        "# Create a simple tensor with random values"
      ],
      "metadata": {
        "id": "3th4ibTJv8PJ"
      }
    },
    {
      "cell_type": "code",
      "execution_count": 2,
      "metadata": {
        "colab": {
          "base_uri": "https://localhost:8080/"
        },
        "id": "RFGDWBNGuw0S",
        "outputId": "d58c1804-55c6-4e2e-ffc6-461a03d54e62"
      },
      "outputs": [
        {
          "output_type": "stream",
          "name": "stdout",
          "text": [
            "[144.36 -41.58   0.    84.27 143.36 136.17 -16.87  43.34  15.51 -13.42\n",
            "   3.74 134.41  31.83  13.78 128.09 115.63  79.32 -40.58 -20.38 121.84]\n"
          ]
        }
      ],
      "source": [
        "import numpy as np\n",
        "\n",
        "np.set_printoptions(suppress=True)\n",
        "\n",
        "# Creating a randomly distributed parameter\n",
        "params=np.random.uniform(low=-50,high=150,size=20)\n",
        "\n",
        "# Ensuring important values at begining\n",
        "params[0]=params.max()+1\n",
        "params[1]=params.min()-1\n",
        "params[2]=0\n",
        "\n",
        "params=np.round(params,2)\n",
        "print(params)"
      ]
    },
    {
      "cell_type": "markdown",
      "source": [
        "# Define Quantization method"
      ],
      "metadata": {
        "id": "OV8qa6UYwUsa"
      }
    },
    {
      "cell_type": "code",
      "source": [
        "def clamp(params_q:np.array,lower_bound:int,upper_bound:int)->np.array:\n",
        "  params_q[params_q < lower_bound]=lower_bound\n",
        "  params_q[params_q > upper_bound]=upper_bound\n",
        "  return params_q\n",
        "\n",
        "\n",
        "def asymmetric_quantization(params:np.array,bits:int)->tuple[np.array,float,int]:\n",
        "  '''Generally asymmetric quantization is used in-\n",
        "        1) After Activation function (Most of the values are in fraction and not zero centered)\n",
        "        2) Input\n",
        "        3) In the Post training quantization (to handler back propagation error)'''\n",
        "  # Max value\n",
        "  alpha=np.max(params)\n",
        "  # Min value\n",
        "  beta=np.min(params)\n",
        "  # Scale - This will tell range of the particular tensor, For shrinking\n",
        "  scale=(alpha-beta)/(2**bits-1)\n",
        "  # zero - THis will define the mean or center value\n",
        "  zero= -1 *np.round(beta/scale)\n",
        "  lower_bound,upper_bound=0,2**bits-1\n",
        "  # Quantize the parameter\n",
        "  quantize=clamp(np.round(params/scale+zero),lower_bound,upper_bound).astype(np.int32)\n",
        "  return quantize,scale,zero\n",
        "\n",
        "def asymmetric_dequantize(params_q:np.array,scale:float,zero:int)->np.array:\n",
        "  return (params_q-zero)*scale\n",
        "\n",
        "def symmetric_quantization(params:np.array,bits:int)->tuple[np.array,float]:\n",
        "  '''Generally symmetric quantization is used in -\n",
        "      1) Weights (They have zero centered value)\n",
        "      2)Quantization aware training\n",
        "  '''\n",
        "  alpha = np.max(np.abs(params))\n",
        "  scale = alpha / (2**(bits-1)-1)\n",
        "  lower_bound = -2**(bits-1)\n",
        "  upper_bound = 2**(bits-1)-1\n",
        "  # Quantize the parameter\n",
        "  quantize=clamp(np.round(params/scale),lower_bound,upper_bound).astype(np.int32)\n",
        "  return quantize,scale\n",
        "\n",
        "def symmetric_dequantize(params_q:np.array,scale:int)->np.array:\n",
        "  return params_q*scale\n",
        "\n",
        "def quantize_error(params_q:np.array,params:np.array):\n",
        "  # Calsulate MSE\n",
        "  return np.mean((params-params_q)**2)\n",
        "\n",
        "\n",
        "(asymmetric_q, asymmetric_scale, asymmetric_zero) = asymmetric_quantization(params, 8)\n",
        "(symmetric_q, symmetric_scale) = symmetric_quantization(params, 8)\n",
        "\n",
        "print(f'Original:')\n",
        "print(np.round(params, 2))\n",
        "print('')\n",
        "print(f'Asymmetric scale: {asymmetric_scale}, zero: {asymmetric_zero}')\n",
        "print(asymmetric_q)\n",
        "print('')\n",
        "print(f'Symmetric scale: {symmetric_scale}')\n",
        "print(symmetric_q)\n"
      ],
      "metadata": {
        "colab": {
          "base_uri": "https://localhost:8080/"
        },
        "id": "_KEECeuWv22G",
        "outputId": "9369a6fb-3477-47f6-d3c6-6c2ce37ddc5b"
      },
      "execution_count": 13,
      "outputs": [
        {
          "output_type": "stream",
          "name": "stdout",
          "text": [
            "Original:\n",
            "[144.36 -41.58   0.    84.27 143.36 136.17 -16.87  43.34  15.51 -13.42\n",
            "   3.74 134.41  31.83  13.78 128.09 115.63  79.32 -40.58 -20.38 121.84]\n",
            "\n",
            "Asymmetric scale: 0.7291764705882353, zero: 57.0\n",
            "[255   0  57 173 254 244  34 116  78  39  62 241 101  76 233 216 166   1\n",
            "  29 224]\n",
            "\n",
            "Symmetric scale: 1.1366929133858268\n",
            "[127 -37   0  74 126 120 -15  38  14 -12   3 118  28  12 113 102  70 -36\n",
            " -18 107]\n"
          ]
        }
      ]
    },
    {
      "cell_type": "code",
      "source": [
        "# Dequantize the parameters back to 32 bits\n",
        "params_deq_asymmetric = asymmetric_dequantize(asymmetric_q, asymmetric_scale, asymmetric_zero)\n",
        "params_deq_symmetric = symmetric_dequantize(symmetric_q, symmetric_scale)\n",
        "\n",
        "print(f'Original:')\n",
        "print(np.round(params, 2))\n",
        "print('')\n",
        "print(f'Dequantize Asymmetric:')\n",
        "print(np.round(params_deq_asymmetric,2))\n",
        "print('')\n",
        "print(f'Dequantize Symmetric:')\n",
        "print(np.round(params_deq_symmetric, 2))"
      ],
      "metadata": {
        "colab": {
          "base_uri": "https://localhost:8080/"
        },
        "id": "_5Hwmc5p31T_",
        "outputId": "21830a6f-3180-4a64-c170-ac43e12e8986"
      },
      "execution_count": 14,
      "outputs": [
        {
          "output_type": "stream",
          "name": "stdout",
          "text": [
            "Original:\n",
            "[144.36 -41.58   0.    84.27 143.36 136.17 -16.87  43.34  15.51 -13.42\n",
            "   3.74 134.41  31.83  13.78 128.09 115.63  79.32 -40.58 -20.38 121.84]\n",
            "\n",
            "Dequantize Asymmetric:\n",
            "[144.38 -41.56   0.    84.58 143.65 136.36 -16.77  43.02  15.31 -13.13\n",
            "   3.65 134.17  32.08  13.85 128.34 115.94  79.48 -40.83 -20.42 121.77]\n",
            "\n",
            "Dequantize Symmetric:\n",
            "[144.36 -42.06   0.    84.12 143.22 136.4  -17.05  43.19  15.91 -13.64\n",
            "   3.41 134.13  31.83  13.64 128.45 115.94  79.57 -40.92 -20.46 121.63]\n"
          ]
        }
      ]
    },
    {
      "cell_type": "code",
      "source": [
        "# Calculate the quantization error\n",
        "print(f'{\"Asymmetric error: \":>20}{np.round(quantize_error(params, params_deq_asymmetric), 2)}')\n",
        "print(f'{\"Symmetric error: \":>20}{np.round(quantize_error(params, params_deq_symmetric), 2)}')"
      ],
      "metadata": {
        "colab": {
          "base_uri": "https://localhost:8080/"
        },
        "id": "ukyaeHUo36RK",
        "outputId": "cc191efb-b1cf-422d-f8ba-eedfca710a85"
      },
      "execution_count": 15,
      "outputs": [
        {
          "output_type": "stream",
          "name": "stdout",
          "text": [
            "  Asymmetric error: 0.04\n",
            "   Symmetric error: 0.06\n"
          ]
        }
      ]
    },
    {
      "cell_type": "code",
      "source": [
        " ''' Symmetric quantization have range isssue.\n",
        "     That's why it show more quantization error then asymmetric\n",
        "     It has forced to be around zero,this cause poor usage of range.\n",
        "      But we still use it-\n",
        "          * This gives us simple calculation\n",
        "          * Faster hardware support  '''"
      ],
      "metadata": {
        "colab": {
          "base_uri": "https://localhost:8080/",
          "height": 70
        },
        "id": "zCJgejTA39EA",
        "outputId": "0ed47c13-46ac-45a4-b6cd-82d122443d0b"
      },
      "execution_count": 18,
      "outputs": [
        {
          "output_type": "execute_result",
          "data": {
            "text/plain": [
              "\" Symmetric quantization have range isssue.\\n    That's why it show more quantization error then asymmetric\\n    It has forced to be around zero,this cause poor usage of range.\\n     But we still use it-\\n         * This gives us simple calculation \\n         * Faster hardware support  \""
            ],
            "application/vnd.google.colaboratory.intrinsic+json": {
              "type": "string"
            }
          },
          "metadata": {},
          "execution_count": 18
        }
      ]
    },
    {
      "cell_type": "code",
      "source": [],
      "metadata": {
        "id": "xxrTZCR65D-8"
      },
      "execution_count": null,
      "outputs": []
    }
  ]
}
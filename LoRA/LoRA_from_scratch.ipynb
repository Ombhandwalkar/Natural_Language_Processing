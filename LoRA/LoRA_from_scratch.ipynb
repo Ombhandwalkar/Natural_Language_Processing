{
  "nbformat": 4,
  "nbformat_minor": 0,
  "metadata": {
    "colab": {
      "provenance": []
    },
    "kernelspec": {
      "name": "python3",
      "display_name": "Python 3"
    },
    "language_info": {
      "name": "python"
    }
  },
  "cells": [
    {
      "cell_type": "markdown",
      "source": [
        "# LoRA implementation with PyTorch"
      ],
      "metadata": {
        "id": "iFF9QqZ435Ry"
      }
    },
    {
      "cell_type": "code",
      "source": [
        "import torch\n",
        "import torch.nn as nn\n",
        "import torchvision.transforms as transforms\n",
        "import torchvision.datasets as datasets\n",
        "import torch.nn.utils.parametrize as parametrize\n",
        "from tqdm import tqdm\n",
        "import matplotlib.pyplot as plt\n"
      ],
      "metadata": {
        "id": "jYbS5QzU38xq"
      },
      "execution_count": 24,
      "outputs": []
    },
    {
      "cell_type": "code",
      "source": [
        "# Make model deterministic\n",
        "_=torch.manual_seed(0)"
      ],
      "metadata": {
        "id": "Uo_yZbU44Pfn"
      },
      "execution_count": 2,
      "outputs": []
    },
    {
      "cell_type": "code",
      "source": [
        "transform=transforms.Compose([transforms.ToTensor(),transforms.Normalize((0.1307,), (0.3081,))])\n",
        "# Create dataloader for Training\n",
        "mnist_trainset=datasets.MNIST(root='/data',train=True,download=True,transform=transform)\n",
        "train_loader=torch.utils.data.DataLoader(mnist_trainset,batch_size=10,shuffle=True)\n",
        "#Create dataloader for Testing\n",
        "mnist_testset=datasets.MNIST(root='/data',train=False,transform=transform)\n",
        "test_loader=torch.utils.data.DataLoader(mnist_testset,batch_size=10,shuffle=True)\n",
        "\n",
        "device=torch.device('cuds'if torch.cuda.is_available() else 'cpu')"
      ],
      "metadata": {
        "id": "s1alloSa4ZTJ"
      },
      "execution_count": 6,
      "outputs": []
    },
    {
      "cell_type": "code",
      "source": [
        "class RichBoyNet(nn.Module):\n",
        "    def __init__(self, hidden_size_1=1000, hidden_size_2=2000):\n",
        "        super(RichBoyNet,self).__init__()\n",
        "        self.linear1 = nn.Linear(28*28, hidden_size_1)\n",
        "        self.linear2 = nn.Linear(hidden_size_1, hidden_size_2)\n",
        "        self.linear3 = nn.Linear(hidden_size_2, 10)\n",
        "        self.relu = nn.ReLU()\n",
        "\n",
        "    def forward(self, img):\n",
        "        x = img.view(-1, 28*28)\n",
        "        x = self.relu(self.linear1(x))\n",
        "        x = self.relu(self.linear2(x))\n",
        "        x = self.linear3(x)\n",
        "        return x\n",
        "\n",
        "net = RichBoyNet().to(device)"
      ],
      "metadata": {
        "id": "5DLYjb4-6G0C"
      },
      "execution_count": 11,
      "outputs": []
    },
    {
      "cell_type": "code",
      "source": [
        "#Train the network only for 1 epoch to simulate a complete general pre-training on the data\n",
        "\n",
        "def train(train_loader, net, epochs=5, total_iterations_limit=None):\n",
        "    cross_el = nn.CrossEntropyLoss()\n",
        "    optimizer = torch.optim.Adam(net.parameters(), lr=0.001)\n",
        "\n",
        "    total_iterations = 0\n",
        "\n",
        "    for epoch in range(epochs):\n",
        "        net.train()\n",
        "\n",
        "        loss_sum = 0\n",
        "        num_iterations = 0\n",
        "\n",
        "        data_iterator = tqdm(train_loader, desc=f'Epoch {epoch+1}')\n",
        "        if total_iterations_limit is not None:\n",
        "            data_iterator.total = total_iterations_limit\n",
        "        for data in data_iterator:\n",
        "            num_iterations += 1\n",
        "            total_iterations += 1\n",
        "            x, y = data\n",
        "            x = x.to(device)\n",
        "            y = y.to(device)\n",
        "            optimizer.zero_grad()\n",
        "            output = net(x.view(-1, 28*28))\n",
        "            loss = cross_el(output, y)\n",
        "            loss_sum += loss.item()\n",
        "            avg_loss = loss_sum / num_iterations\n",
        "            data_iterator.set_postfix(loss=avg_loss)\n",
        "            loss.backward()\n",
        "            optimizer.step()\n",
        "\n",
        "            if total_iterations_limit is not None and total_iterations >= total_iterations_limit:\n",
        "                return\n",
        "\n",
        "train(train_loader, net, epochs=1)"
      ],
      "metadata": {
        "colab": {
          "base_uri": "https://localhost:8080/"
        },
        "id": "s_gAEmK59Wf6",
        "outputId": "3a281c83-204e-424f-de52-58b1a8580b66"
      },
      "execution_count": 12,
      "outputs": [
        {
          "output_type": "stream",
          "name": "stderr",
          "text": [
            "Epoch 1: 100%|██████████| 6000/6000 [08:28<00:00, 11.80it/s, loss=0.236]\n"
          ]
        }
      ]
    },
    {
      "cell_type": "code",
      "source": [
        "# Keeping the copy of original weights\n",
        "# So we can prove that fine tuning LoRA does not alter original weights\n",
        "original_weights={}\n",
        "for name,param in net.named_parameters():\n",
        "  original_weights[name]=param.clone().detach()"
      ],
      "metadata": {
        "id": "lFEvtyIqrcdv"
      },
      "execution_count": 15,
      "outputs": []
    },
    {
      "cell_type": "code",
      "source": [
        "def test():\n",
        "  correct=0\n",
        "  total=0\n",
        "  wrong_count=[0 for i in range(10)]\n",
        "\n",
        "  with torch.no_grad():\n",
        "    for data in tqdm(test_loader,desc='Testing'):\n",
        "      x,y=data\n",
        "      x=x.to(device)\n",
        "      y=y.to(device)\n",
        "      output=net(x.view(-1,784))\n",
        "      for idx, i in enumerate(output):\n",
        "        if torch.argmax(i)==y[idx]:\n",
        "          correct +=1\n",
        "        else:\n",
        "          wrong_count[y[idx]]+=1\n",
        "        total+=1\n",
        "\n",
        "  print(f\"Accuracy:{round(correct/total,3)}\")\n",
        "  for i in range(len(wrong_count)):\n",
        "    print(f\"Wrong counts for the digit {i} : {wrong_count[i]}\")\n",
        "test()\n",
        "# We can see our model fails to predict digit 9"
      ],
      "metadata": {
        "colab": {
          "base_uri": "https://localhost:8080/"
        },
        "id": "tMmyuwEBwo_B",
        "outputId": "3140b941-3723-47e6-bf3d-f1a4b14099f8"
      },
      "execution_count": 20,
      "outputs": [
        {
          "output_type": "stream",
          "name": "stderr",
          "text": [
            "Testing: 100%|██████████| 1000/1000 [00:06<00:00, 147.83it/s]"
          ]
        },
        {
          "output_type": "stream",
          "name": "stdout",
          "text": [
            "Accuracy:0.954\n",
            "Wrong counts for the digit 0 : 31\n",
            "Wrong counts for the digit 1 : 17\n",
            "Wrong counts for the digit 2 : 46\n",
            "Wrong counts for the digit 3 : 74\n",
            "Wrong counts for the digit 4 : 29\n",
            "Wrong counts for the digit 5 : 7\n",
            "Wrong counts for the digit 6 : 36\n",
            "Wrong counts for the digit 7 : 80\n",
            "Wrong counts for the digit 8 : 25\n",
            "Wrong counts for the digit 9 : 116\n"
          ]
        },
        {
          "output_type": "stream",
          "name": "stderr",
          "text": [
            "\n"
          ]
        }
      ]
    },
    {
      "cell_type": "code",
      "source": [
        "# Visualize our weights\n",
        "total_parameters_original=0\n",
        "for index,layer in enumerate([net.linear1,net.linear2,net.linear3]):\n",
        "  total_parameters_original+=layer.weight.nelement() + layer.bias.nelement()\n",
        "  print(f\"Layer {index+1}: W: {layer.weight.shape} + B :{layer.bias.shape}\")\n",
        "print(f\"Toal number of parameters: {total_parameters_original:,}\")"
      ],
      "metadata": {
        "colab": {
          "base_uri": "https://localhost:8080/"
        },
        "id": "kMQFxAflz0WD",
        "outputId": "52cdb98b-98dd-4f88-eb74-bbbeb503e5b2"
      },
      "execution_count": 21,
      "outputs": [
        {
          "output_type": "stream",
          "name": "stdout",
          "text": [
            "Layer 1: W: torch.Size([1000, 784]) + B :torch.Size([1000])\n",
            "Layer 2: W: torch.Size([2000, 1000]) + B :torch.Size([2000])\n",
            "Layer 3: W: torch.Size([10, 2000]) + B :torch.Size([10])\n",
            "Toal number of parameters: 2,807,010\n"
          ]
        }
      ]
    },
    {
      "cell_type": "code",
      "source": [
        "# Initialize LoRa\n",
        "class LoRAParameterization(nn.Module):\n",
        "  # rank- rank of LoRA decomposistion\n",
        "  # alpha- scaling factor, controls how much LoRA influence the final weights\n",
        "  def __init__(self,features_in,features_out,rank=1,alpha=1,device='cpu'):\n",
        "    super().__init__()\n",
        "    # We use a random Gaussian initialization for A and zaro for B\n",
        "    # So △W=BA is zero at begining of training\n",
        "    self.lora_A=nn.Parameter(torch.zeros((rank,features_out)).to(device))\n",
        "    self.lora_B=nn.Parameter(torch.zeros((features_in,rank)).to(device))\n",
        "    nn.init.normal_(self.lora_A,mean=0,std=1)\n",
        "\n",
        "    # We scale △Wx by a/r, where α is a constant in r.\n",
        "    # when optimizing with Adam, tuning α  is roughly the same as tuning the learning rate if we scale the initialization appropriately.\n",
        "    # As a result, we simply set α to the first r we try and do not tune it .\n",
        "    # This scaling helps to reduce the need to retune hyperparameters when we very r.\n",
        "    self.scale=alpha/rank\n",
        "    self.enabled=True\n",
        "\n",
        "  def forward(self,original_weights):\n",
        "    if self.enabled:\n",
        "      # return W +(B*A)*scale\n",
        "      return original_weights + torch.matmul(self.lora_B,self.lora_A).view(original_weights.shape)*self.scale\n",
        "    else:\n",
        "      return original_weights"
      ],
      "metadata": {
        "id": "Bdtngss44tF0"
      },
      "execution_count": 23,
      "outputs": []
    },
    {
      "cell_type": "code",
      "source": [
        "\n",
        "def linear_layer_parameterization(layer, device, rank=1, lora_alpha=1):\n",
        "    # Only add the parameterization to the weight matrix, ignore the Bias\n",
        "\n",
        "    # From section 4.2 of the paper:\n",
        "    #   We limit our study to only adapting the attention weights for downstream tasks and freeze the MLP modules (so they are not trained in downstream tasks) both for simplicity and parameter-efficiency.\n",
        "    #   [...]\n",
        "    #   We leave the empirical investigation of [...], and biases to a future work.\n",
        "\n",
        "    features_in, features_out = layer.weight.shape\n",
        "    return LoRAParameterization(\n",
        "        features_in, features_out, rank=rank, alpha=lora_alpha, device=device\n",
        "    )\n",
        "\n",
        "parametrize.register_parametrization(\n",
        "    net.linear1, \"weight\", linear_layer_parameterization(net.linear1, device)\n",
        ")\n",
        "parametrize.register_parametrization(\n",
        "    net.linear2, \"weight\", linear_layer_parameterization(net.linear2, device)\n",
        ")\n",
        "parametrize.register_parametrization(\n",
        "    net.linear3, \"weight\", linear_layer_parameterization(net.linear3, device)\n",
        ")\n",
        "\n",
        "\n",
        "def enable_disable_lora(enabled=True):\n",
        "    for layer in [net.linear1, net.linear2, net.linear3]:\n",
        "        layer.parametrizations[\"weight\"][0].enabled = enabled"
      ],
      "metadata": {
        "id": "_-vC-7f58pMD"
      },
      "execution_count": 28,
      "outputs": []
    },
    {
      "cell_type": "code",
      "source": [
        "# Display the number of parameters added by LoRA\n",
        "\n",
        "total_parameters_lora = 0\n",
        "total_parameters_non_lora = 0\n",
        "for index, layer in enumerate([net.linear1, net.linear2, net.linear3]):\n",
        "    total_parameters_lora += layer.parametrizations[\"weight\"][0].lora_A.nelement() + layer.parametrizations[\"weight\"][0].lora_B.nelement()\n",
        "    total_parameters_non_lora += layer.weight.nelement() + layer.bias.nelement()\n",
        "    print(\n",
        "        f'Layer {index+1}: W: {layer.weight.shape} + B: {layer.bias.shape} + Lora_A: {layer.parametrizations[\"weight\"][0].lora_A.shape} + Lora_B: {layer.parametrizations[\"weight\"][0].lora_B.shape}'\n",
        "    )\n",
        "# The non-LoRA parameters count must match the original network\n",
        "assert total_parameters_non_lora == total_parameters_original\n",
        "print(f'Total number of parameters (original): {total_parameters_non_lora:,}')\n",
        "print(f'Total number of parameters (original + LoRA): {total_parameters_lora + total_parameters_non_lora:,}')\n",
        "print(f'Parameters introduced by LoRA: {total_parameters_lora:,}')\n",
        "parameters_incremment = (total_parameters_lora / total_parameters_non_lora) * 100\n",
        "print(f'Parameters incremment: {parameters_incremment:.3f}%')"
      ],
      "metadata": {
        "colab": {
          "base_uri": "https://localhost:8080/"
        },
        "id": "crCvND-wACix",
        "outputId": "5708a4e4-8310-452e-a452-99aee3e50794"
      },
      "execution_count": 30,
      "outputs": [
        {
          "output_type": "stream",
          "name": "stdout",
          "text": [
            "Layer 1: W: torch.Size([1000, 784]) + B: torch.Size([1000]) + Lora_A: torch.Size([1, 784]) + Lora_B: torch.Size([1000, 1])\n",
            "Layer 2: W: torch.Size([2000, 1000]) + B: torch.Size([2000]) + Lora_A: torch.Size([1, 1000]) + Lora_B: torch.Size([2000, 1])\n",
            "Layer 3: W: torch.Size([10, 2000]) + B: torch.Size([10]) + Lora_A: torch.Size([1, 2000]) + Lora_B: torch.Size([10, 1])\n",
            "Total number of parameters (original): 2,807,010\n",
            "Total number of parameters (original + LoRA): 2,813,804\n",
            "Parameters introduced by LoRA: 6,794\n",
            "Parameters incremment: 0.242%\n"
          ]
        }
      ]
    },
    {
      "cell_type": "code",
      "source": [
        "#Freeze all the parameters of the original network and only fine tuning the ones introduced by LoRA.\n",
        "#Then fine-tune the model on the digit 9 and only for 100 batches.\n",
        "\n",
        "\n",
        "\n",
        "# Freeze the non-Lora parameters\n",
        "for name, param in net.named_parameters():\n",
        "    if 'lora' not in name:\n",
        "        print(f'Freezing non-LoRA parameter {name}')\n",
        "        param.requires_grad = False\n",
        "\n",
        "# Load the MNIST dataset again, by keeping only the digit 9\n",
        "mnist_trainset = datasets.MNIST(root='./data', train=True, download=True, transform=transform)\n",
        "exclude_indices = mnist_trainset.targets == 9\n",
        "mnist_trainset.data = mnist_trainset.data[exclude_indices]\n",
        "mnist_trainset.targets = mnist_trainset.targets[exclude_indices]\n",
        "# Create a dataloader for the training\n",
        "train_loader = torch.utils.data.DataLoader(mnist_trainset, batch_size=10, shuffle=True)\n",
        "\n",
        "# Train the network with LoRA only on the digit 9 and only for 100 batches (hoping that it would improve the performance on the digit 9)\n",
        "train(train_loader, net, epochs=1, total_iterations_limit=100)"
      ],
      "metadata": {
        "colab": {
          "base_uri": "https://localhost:8080/"
        },
        "id": "A8dRJ5zVAl7P",
        "outputId": "3e3f6025-9697-4316-ef4d-80b6d84267f8"
      },
      "execution_count": 31,
      "outputs": [
        {
          "output_type": "stream",
          "name": "stdout",
          "text": [
            "Freezing non-LoRA parameter linear1.bias\n",
            "Freezing non-LoRA parameter linear1.parametrizations.weight.original\n",
            "Freezing non-LoRA parameter linear2.bias\n",
            "Freezing non-LoRA parameter linear2.parametrizations.weight.original\n",
            "Freezing non-LoRA parameter linear3.bias\n",
            "Freezing non-LoRA parameter linear3.parametrizations.weight.original\n"
          ]
        },
        {
          "output_type": "stream",
          "name": "stderr",
          "text": [
            "100%|██████████| 9.91M/9.91M [00:00<00:00, 43.5MB/s]\n",
            "100%|██████████| 28.9k/28.9k [00:00<00:00, 1.77MB/s]\n",
            "100%|██████████| 1.65M/1.65M [00:00<00:00, 14.4MB/s]\n",
            "100%|██████████| 4.54k/4.54k [00:00<00:00, 1.47MB/s]\n",
            "Epoch 1:  99%|█████████▉| 99/100 [00:03<00:00, 25.68it/s, loss=0.173]\n"
          ]
        }
      ]
    },
    {
      "cell_type": "code",
      "source": [
        "# Check that the frozen parameters are still unchanged by the finetuning\n",
        "assert torch.all(net.linear1.parametrizations.weight.original == original_weights['linear1.weight'])\n",
        "assert torch.all(net.linear2.parametrizations.weight.original == original_weights['linear2.weight'])\n",
        "assert torch.all(net.linear3.parametrizations.weight.original == original_weights['linear3.weight'])\n",
        "\n",
        "enable_disable_lora(enabled=True)\n",
        "# The new linear1.weight is obtained by the \"forward\" function of our LoRA parametrization\n",
        "# The original weights have been moved to net.linear1.parametrizations.weight.original\n",
        "assert torch.equal(net.linear1.weight, net.linear1.parametrizations.weight.original + (net.linear1.parametrizations.weight[0].lora_B @ net.linear1.parametrizations.weight[0].lora_A) * net.linear1.parametrizations.weight[0].scale)\n",
        "\n",
        "enable_disable_lora(enabled=False)\n",
        "# If we disable LoRA, the linear1.weight is the original one\n",
        "assert torch.equal(net.linear1.weight, original_weights['linear1.weight'])"
      ],
      "metadata": {
        "id": "nLh6EhLOBGRA"
      },
      "execution_count": 33,
      "outputs": []
    },
    {
      "cell_type": "code",
      "source": [
        "# Test with LoRA enabled\n",
        "enable_disable_lora(enabled=True)\n",
        "test()"
      ],
      "metadata": {
        "colab": {
          "base_uri": "https://localhost:8080/"
        },
        "id": "YmepUyBVBOUU",
        "outputId": "68c226d6-aff7-4c63-d79c-27ebe3762b82"
      },
      "execution_count": 34,
      "outputs": [
        {
          "output_type": "stream",
          "name": "stderr",
          "text": [
            "Testing: 100%|██████████| 1000/1000 [00:19<00:00, 50.51it/s]"
          ]
        },
        {
          "output_type": "stream",
          "name": "stdout",
          "text": [
            "Accuracy:0.93\n",
            "Wrong counts for the digit 0 : 36\n",
            "Wrong counts for the digit 1 : 17\n",
            "Wrong counts for the digit 2 : 71\n",
            "Wrong counts for the digit 3 : 76\n",
            "Wrong counts for the digit 4 : 92\n",
            "Wrong counts for the digit 5 : 12\n",
            "Wrong counts for the digit 6 : 39\n",
            "Wrong counts for the digit 7 : 229\n",
            "Wrong counts for the digit 8 : 92\n",
            "Wrong counts for the digit 9 : 36\n"
          ]
        },
        {
          "output_type": "stream",
          "name": "stderr",
          "text": [
            "\n"
          ]
        }
      ]
    },
    {
      "cell_type": "code",
      "source": [
        "# Test with LoRA disabled\n",
        "enable_disable_lora(enabled=False)\n",
        "test()"
      ],
      "metadata": {
        "colab": {
          "base_uri": "https://localhost:8080/"
        },
        "id": "9KQiV9gABVIa",
        "outputId": "a6665c1b-e0e2-4713-dc89-0cf239003c20"
      },
      "execution_count": 35,
      "outputs": [
        {
          "output_type": "stream",
          "name": "stderr",
          "text": [
            "Testing: 100%|██████████| 1000/1000 [00:08<00:00, 119.87it/s]"
          ]
        },
        {
          "output_type": "stream",
          "name": "stdout",
          "text": [
            "Accuracy:0.954\n",
            "Wrong counts for the digit 0 : 31\n",
            "Wrong counts for the digit 1 : 17\n",
            "Wrong counts for the digit 2 : 46\n",
            "Wrong counts for the digit 3 : 74\n",
            "Wrong counts for the digit 4 : 29\n",
            "Wrong counts for the digit 5 : 7\n",
            "Wrong counts for the digit 6 : 36\n",
            "Wrong counts for the digit 7 : 80\n",
            "Wrong counts for the digit 8 : 25\n",
            "Wrong counts for the digit 9 : 116\n"
          ]
        },
        {
          "output_type": "stream",
          "name": "stderr",
          "text": [
            "\n"
          ]
        }
      ]
    },
    {
      "cell_type": "code",
      "source": [],
      "metadata": {
        "id": "uFt2rT3EBmFN"
      },
      "execution_count": null,
      "outputs": []
    }
  ]
}
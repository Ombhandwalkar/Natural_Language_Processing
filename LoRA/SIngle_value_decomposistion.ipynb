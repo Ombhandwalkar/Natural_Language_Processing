{
  "nbformat": 4,
  "nbformat_minor": 0,
  "metadata": {
    "colab": {
      "provenance": []
    },
    "kernelspec": {
      "name": "python3",
      "display_name": "Python 3"
    },
    "language_info": {
      "name": "python"
    }
  },
  "cells": [
    {
      "cell_type": "code",
      "execution_count": null,
      "metadata": {
        "id": "0mEB2lCKCAWZ"
      },
      "outputs": [],
      "source": []
    },
    {
      "cell_type": "markdown",
      "source": [
        "\n",
        "# Singular Value Decomposition"
      ],
      "metadata": {
        "id": "0UCVKybACL21"
      }
    },
    {
      "cell_type": "code",
      "source": [
        "import torch\n",
        "import numpy as np\n",
        "_ = torch.manual_seed(0)"
      ],
      "metadata": {
        "id": "Ozpl0VTZCNd_"
      },
      "execution_count": 1,
      "outputs": []
    },
    {
      "cell_type": "code",
      "source": [
        "d, k = 10, 10\n",
        "\n",
        "# This way we can generate a rank-deficient matrix\n",
        "W_rank = 2\n",
        "W = torch.randn(d,W_rank) @ torch.randn(W_rank,k)\n",
        "print(W)"
      ],
      "metadata": {
        "colab": {
          "base_uri": "https://localhost:8080/"
        },
        "id": "0RMixgx4CPI9",
        "outputId": "ca83995e-0c50-4ba8-a243-4c096ef666d4"
      },
      "execution_count": 2,
      "outputs": [
        {
          "output_type": "stream",
          "name": "stdout",
          "text": [
            "tensor([[-1.0797,  0.5545,  0.8058, -0.7140, -0.1518,  1.0773,  2.3690,  0.8486,\n",
            "         -1.1825, -3.2632],\n",
            "        [-0.3303,  0.2283,  0.4145, -0.1924, -0.0215,  0.3276,  0.7926,  0.2233,\n",
            "         -0.3422, -0.9614],\n",
            "        [-0.5256,  0.9864,  2.4447, -0.0290,  0.2305,  0.5000,  1.9831, -0.0311,\n",
            "         -0.3369, -1.1376],\n",
            "        [ 0.7900, -1.1336, -2.6746,  0.1988, -0.1982, -0.7634, -2.5763, -0.1696,\n",
            "          0.6227,  1.9294],\n",
            "        [ 0.1258,  0.1458,  0.5090,  0.1768,  0.1071, -0.1327, -0.0323, -0.2294,\n",
            "          0.2079,  0.5128],\n",
            "        [ 0.7697,  0.0050,  0.5725,  0.6870,  0.2783, -0.7818, -1.2253, -0.8533,\n",
            "          0.9765,  2.5786],\n",
            "        [ 1.4157, -0.7814, -1.2121,  0.9120,  0.1760, -1.4108, -3.1692, -1.0791,\n",
            "          1.5325,  4.2447],\n",
            "        [-0.0119,  0.6050,  1.7245,  0.2584,  0.2528, -0.0086,  0.7198, -0.3620,\n",
            "          0.1865,  0.3410],\n",
            "        [ 1.0485, -0.6394, -1.0715,  0.6485,  0.1046, -1.0427, -2.4174, -0.7615,\n",
            "          1.1147,  3.1054],\n",
            "        [ 0.9088,  0.1936,  1.2136,  0.8946,  0.4084, -0.9295, -1.2294, -1.1239,\n",
            "          1.2155,  3.1628]])\n"
          ]
        }
      ]
    },
    {
      "cell_type": "code",
      "source": [
        "#Evaluate the rank of the matrix W\n",
        "\n",
        "W_rank = np.linalg.matrix_rank(W)\n",
        "print(f'Rank of W: {W_rank}')"
      ],
      "metadata": {
        "colab": {
          "base_uri": "https://localhost:8080/"
        },
        "id": "aR5bvgdxCTSG",
        "outputId": "d7f90c6f-3a7c-4c5f-bea2-a80b88aa7cce"
      },
      "execution_count": 3,
      "outputs": [
        {
          "output_type": "stream",
          "name": "stdout",
          "text": [
            "Rank of W: 2\n"
          ]
        }
      ]
    },
    {
      "cell_type": "code",
      "source": [
        "#Calculate the SVD decomposition of the W matrix.\n",
        "\n",
        "# Perform SVD on W (W = UxSxV^T)\n",
        "U, S, V = torch.svd(W)\n",
        "\n",
        "# For rank-r factorization, keep only the first r singular values (and corresponding columns of U and V)\n",
        "U_r = U[:, :W_rank]\n",
        "S_r = torch.diag(S[:W_rank])\n",
        "V_r = V[:, :W_rank].t()  # Transpose V_r to get the right dimensions\n",
        "\n",
        "# Compute B = U_r * S_r and A = V_r\n",
        "B = U_r @ S_r\n",
        "A = V_r\n",
        "print(f'Shape of B: {B.shape}')\n",
        "print(f'Shape of A: {A.shape}')"
      ],
      "metadata": {
        "colab": {
          "base_uri": "https://localhost:8080/"
        },
        "id": "g5AccCrwCXUJ",
        "outputId": "ecc28372-fc0d-4910-d66f-1406bb3e4d0d"
      },
      "execution_count": 4,
      "outputs": [
        {
          "output_type": "stream",
          "name": "stdout",
          "text": [
            "Shape of B: torch.Size([10, 2])\n",
            "Shape of A: torch.Size([2, 10])\n"
          ]
        }
      ]
    },
    {
      "cell_type": "code",
      "source": [
        "#Given the same input, check the output using the original W matrix and the matrices resulting from the decomposition.\n",
        "\n",
        "# Generate random bias and input\n",
        "bias = torch.randn(d)\n",
        "x = torch.randn(d)\n",
        "\n",
        "# Compute y = Wx + bias\n",
        "y = W @ x + bias\n",
        "# Compute y' = (B*A)x + bias\n",
        "y_prime = (B @ A) @ x + bias\n",
        "\n",
        "print(\"Original y using W:\\n\", y)\n",
        "print(\"\")\n",
        "print(\"y' computed using BA:\\n\", y_prime)"
      ],
      "metadata": {
        "colab": {
          "base_uri": "https://localhost:8080/"
        },
        "id": "DLzzQb3cCaIv",
        "outputId": "b47da79c-48f1-49c2-ef84-fe12eb495c20"
      },
      "execution_count": 5,
      "outputs": [
        {
          "output_type": "stream",
          "name": "stdout",
          "text": [
            "Original y using W:\n",
            " tensor([ 7.2684e+00,  2.3162e+00,  7.7151e+00, -1.0446e+01, -8.1639e-03,\n",
            "        -3.7270e+00, -1.1146e+01,  2.0207e+00, -9.6258e+00, -4.1163e+00])\n",
            "\n",
            "y' computed using BA:\n",
            " tensor([ 7.2684e+00,  2.3162e+00,  7.7151e+00, -1.0446e+01, -8.1638e-03,\n",
            "        -3.7270e+00, -1.1146e+01,  2.0207e+00, -9.6258e+00, -4.1163e+00])\n"
          ]
        }
      ]
    },
    {
      "cell_type": "code",
      "source": [
        "print(\"Total parameters of W: \", W.nelement())\n",
        "print(\"Total parameters of B and A: \", B.nelement() + A.nelement())"
      ],
      "metadata": {
        "colab": {
          "base_uri": "https://localhost:8080/"
        },
        "id": "u_B-s6DECd59",
        "outputId": "c76c7d5d-86d0-4114-97d6-c18d8e2e3920"
      },
      "execution_count": 6,
      "outputs": [
        {
          "output_type": "stream",
          "name": "stdout",
          "text": [
            "Total parameters of W:  100\n",
            "Total parameters of B and A:  40\n"
          ]
        }
      ]
    },
    {
      "cell_type": "code",
      "source": [],
      "metadata": {
        "id": "n5wGbluHCgIY"
      },
      "execution_count": null,
      "outputs": []
    }
  ]
}